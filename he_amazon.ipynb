{
 "cells": [
  {
   "cell_type": "markdown",
   "metadata": {},
   "source": [
    "### Reading important libraries for reading, analyzing and visualizing data"
   ]
  },
  {
   "cell_type": "code",
   "execution_count": 122,
   "metadata": {},
   "outputs": [],
   "source": [
    "import pandas as pd\n",
    "import numpy as np\n",
    "import matplotlib.pyplot as plt\n",
    "import seaborn as sns\n",
    "import re\n",
    "import random\n",
    "\n",
    "from sklearn.feature_extraction.text import TfidfVectorizer\n",
    "from nltk.tokenize import RegexpTokenizer\n",
    "from nltk.corpus import stopwords\n",
    "from nltk.stem import PorterStemmer\n",
    "from sklearn.utils import compute_class_weight, compute_sample_weight\n",
    "from sklearn.preprocessing import LabelEncoder, MultiLabelBinarizer\n",
    "from sklearn.multiclass import OneVsRestClassifier\n",
    "from sklearn.model_selection import RandomizedSearchCV, KFold\n",
    "from sklearn.linear_model import LogisticRegression\n",
    "\n",
    "from xgboost import XGBClassifier, XGBRFClassifier\n",
    "import xgboost as xgb\n",
    "\n",
    "from keras.preprocessing import text, sequence\n",
    "from keras.models import Model\n",
    "from keras.layers import Input, LSTM, Bidirectional, Dense, Dropout, Conv1D, GlobalAveragePooling1D, Embedding, BatchNormalization, MaxPool1D, Activation\n",
    "from keras.optimizers import Adam\n",
    "from keras.metrics import top_k_categorical_accuracy\n",
    "from keras.callbacks import ReduceLROnPlateau, EarlyStopping"
   ]
  },
  {
   "cell_type": "code",
   "execution_count": 2,
   "metadata": {},
   "outputs": [
    {
     "data": {
      "text/html": [
       "<div>\n",
       "<style scoped>\n",
       "    .dataframe tbody tr th:only-of-type {\n",
       "        vertical-align: middle;\n",
       "    }\n",
       "\n",
       "    .dataframe tbody tr th {\n",
       "        vertical-align: top;\n",
       "    }\n",
       "\n",
       "    .dataframe thead th {\n",
       "        text-align: right;\n",
       "    }\n",
       "</style>\n",
       "<table border=\"1\" class=\"dataframe\">\n",
       "  <thead>\n",
       "    <tr style=\"text-align: right;\">\n",
       "      <th></th>\n",
       "      <th>Review Text</th>\n",
       "      <th>Review Title</th>\n",
       "      <th>topic</th>\n",
       "    </tr>\n",
       "  </thead>\n",
       "  <tbody>\n",
       "    <tr>\n",
       "      <th>0</th>\n",
       "      <td>Did nothing for me, didn't help lost even with...</td>\n",
       "      <td>Useless</td>\n",
       "      <td>Shipment and delivery</td>\n",
       "    </tr>\n",
       "    <tr>\n",
       "      <th>1</th>\n",
       "      <td>Did nothing for me, didn't help lost even with...</td>\n",
       "      <td>Useless</td>\n",
       "      <td>Not Effective</td>\n",
       "    </tr>\n",
       "    <tr>\n",
       "      <th>2</th>\n",
       "      <td>I have bought these bags and  immediately open...</td>\n",
       "      <td>TRASH!!! Do not buy these bags it’s a waist of...</td>\n",
       "      <td>Customer Service</td>\n",
       "    </tr>\n",
       "    <tr>\n",
       "      <th>3</th>\n",
       "      <td>Gave me an allergic reaction on my face :(</td>\n",
       "      <td>Do not recommend</td>\n",
       "      <td>Allergic</td>\n",
       "    </tr>\n",
       "    <tr>\n",
       "      <th>4</th>\n",
       "      <td>These don't compare to the name brand wipes. F...</td>\n",
       "      <td>Can't tackle big messes</td>\n",
       "      <td>Texture</td>\n",
       "    </tr>\n",
       "  </tbody>\n",
       "</table>\n",
       "</div>"
      ],
      "text/plain": [
       "                                         Review Text  \\\n",
       "0  Did nothing for me, didn't help lost even with...   \n",
       "1  Did nothing for me, didn't help lost even with...   \n",
       "2  I have bought these bags and  immediately open...   \n",
       "3         Gave me an allergic reaction on my face :(   \n",
       "4  These don't compare to the name brand wipes. F...   \n",
       "\n",
       "                                        Review Title                  topic  \n",
       "0                                            Useless  Shipment and delivery  \n",
       "1                                            Useless          Not Effective  \n",
       "2  TRASH!!! Do not buy these bags it’s a waist of...       Customer Service  \n",
       "3                                   Do not recommend               Allergic  \n",
       "4                            Can't tackle big messes                Texture  "
      ]
     },
     "execution_count": 2,
     "metadata": {},
     "output_type": "execute_result"
    }
   ],
   "source": [
    "# Reading training dataframe and displaying top 10 rows\n",
    "train_df = pd.read_csv('train.csv')\n",
    "train_df.head()"
   ]
  },
  {
   "cell_type": "code",
   "execution_count": 3,
   "metadata": {},
   "outputs": [
    {
     "data": {
      "text/html": [
       "<div>\n",
       "<style scoped>\n",
       "    .dataframe tbody tr th:only-of-type {\n",
       "        vertical-align: middle;\n",
       "    }\n",
       "\n",
       "    .dataframe tbody tr th {\n",
       "        vertical-align: top;\n",
       "    }\n",
       "\n",
       "    .dataframe thead th {\n",
       "        text-align: right;\n",
       "    }\n",
       "</style>\n",
       "<table border=\"1\" class=\"dataframe\">\n",
       "  <thead>\n",
       "    <tr style=\"text-align: right;\">\n",
       "      <th></th>\n",
       "      <th>Review Text</th>\n",
       "      <th>Review Title</th>\n",
       "    </tr>\n",
       "  </thead>\n",
       "  <tbody>\n",
       "    <tr>\n",
       "      <th>0</th>\n",
       "      <td>I use chia seed in my protein shakes. These ta...</td>\n",
       "      <td>Bad tast</td>\n",
       "    </tr>\n",
       "    <tr>\n",
       "      <th>1</th>\n",
       "      <td>I use chia seed in my protein shakes. These ta...</td>\n",
       "      <td>Bad tast</td>\n",
       "    </tr>\n",
       "    <tr>\n",
       "      <th>2</th>\n",
       "      <td>Don’t waste your money.</td>\n",
       "      <td>No change. No results.</td>\n",
       "    </tr>\n",
       "    <tr>\n",
       "      <th>3</th>\n",
       "      <td>I use the book 'Fortify Your Life' by Tieraona...</td>\n",
       "      <td>Good Vegan Choice, Poor Non Vegan Choice</td>\n",
       "    </tr>\n",
       "    <tr>\n",
       "      <th>4</th>\n",
       "      <td>I use the book 'Fortify Your Life' by Tieraona...</td>\n",
       "      <td>Good Vegan Choice, Poor Non Vegan Choice</td>\n",
       "    </tr>\n",
       "  </tbody>\n",
       "</table>\n",
       "</div>"
      ],
      "text/plain": [
       "                                         Review Text  \\\n",
       "0  I use chia seed in my protein shakes. These ta...   \n",
       "1  I use chia seed in my protein shakes. These ta...   \n",
       "2                            Don’t waste your money.   \n",
       "3  I use the book 'Fortify Your Life' by Tieraona...   \n",
       "4  I use the book 'Fortify Your Life' by Tieraona...   \n",
       "\n",
       "                               Review Title  \n",
       "0                                  Bad tast  \n",
       "1                                  Bad tast  \n",
       "2                    No change. No results.  \n",
       "3  Good Vegan Choice, Poor Non Vegan Choice  \n",
       "4  Good Vegan Choice, Poor Non Vegan Choice  "
      ]
     },
     "execution_count": 3,
     "metadata": {},
     "output_type": "execute_result"
    }
   ],
   "source": [
    "# Reading test dataframe and displaying top 10 rows\n",
    "test_df = pd.read_csv('test.csv')\n",
    "test_df.head()"
   ]
  },
  {
   "cell_type": "code",
   "execution_count": 11,
   "metadata": {},
   "outputs": [
    {
     "data": {
      "image/png": "[encoded data removed]",
      "text/plain": [
       "<Figure size 432x288 with 1 Axes>"
      ]
     },
     "metadata": {},
     "output_type": "display_data"
    }
   ],
   "source": [
    "# Displaying the count of all 21 labels appearing in train_df\n",
    "sns.countplot(train_df['topic'])\n",
    "plt.xticks(rotation=90)\n",
    "plt.show()"
   ]
  },
  {
   "cell_type": "code",
   "execution_count": 4,
   "metadata": {},
   "outputs": [
    {
     "data": {
      "text/plain": [
       "(5959,)"
      ]
     },
     "execution_count": 4,
     "metadata": {},
     "output_type": "execute_result"
    }
   ],
   "source": [
    "# Now let us transform labels from text to integer labels\n",
    "le = LabelEncoder()\n",
    "tr_lbls = le.fit_transform(train_df['topic'])\n",
    "tr_lbls.shape"
   ]
  },
  {
   "cell_type": "markdown",
   "metadata": {},
   "source": [
    "### Now since we have a Multilabel Classification problem to solve, but our dataset is provided in form of a Multiclass classification format, with some reviews occuring more than once with different labels, we should squeeze it to change its format to multilabel classification problem"
   ]
  },
  {
   "cell_type": "code",
   "execution_count": 7,
   "metadata": {},
   "outputs": [],
   "source": [
    "# Defining function to check whether review at idx1 is same as that at idx2\n",
    "def isSameReview(df, idx1, idx2):\n",
    "        \n",
    "    if df.iloc[idx1, 1].strip() != df.iloc[idx2, 1].strip():\n",
    "        return False\n",
    "    else:\n",
    "        if df.iloc[idx1, 0].strip() != df.iloc[idx2, 0].strip():\n",
    "            return False\n",
    "        \n",
    "    return True"
   ]
  },
  {
   "cell_type": "code",
   "execution_count": 8,
   "metadata": {},
   "outputs": [],
   "source": [
    "# Checking in train_df which all are same reviews to reduce redundancy using above util function\n",
    "idx = 0\n",
    "tr_titles = []\n",
    "tr_reviews = []\n",
    "tr_labels = []\n",
    "tr_idx_list = [idx]\n",
    "\n",
    "while idx < len(train_df):\n",
    "    tr_titles.append(train_df.iloc[idx, 1])\n",
    "    tr_reviews.append(train_df.iloc[idx, 0])\n",
    "    labels = [tr_lbls[idx]]\n",
    "    \n",
    "    while idx<(len(train_df)-1) and isSameReview(idx, idx+1):\n",
    "        #print (idx)\n",
    "        labels.append(tr_lbls[idx+1])\n",
    "        idx += 1\n",
    "        \n",
    "    tr_labels.append(labels)\n",
    "    idx += 1\n",
    "    tr_idx_list.append(idx)\n",
    "    #print (idx)\n",
    "    #print ('------------------------------------')"
   ]
  },
  {
   "cell_type": "code",
   "execution_count": 6,
   "metadata": {},
   "outputs": [],
   "source": [
    "# Checking in test_df which all are same reviews to reduce redundancy using above util function\n",
    "idx = 0\n",
    "te_titles = []\n",
    "te_reviews = []\n",
    "te_idx_list = [idx]\n",
    "\n",
    "while idx < len(test_df):\n",
    "    te_titles.append(test_df.iloc[idx, 1])\n",
    "    te_reviews.append(test_df.iloc[idx, 0])\n",
    "    \n",
    "    while idx<(len(test_df)-1) and isSameReview(idx, idx+1):\n",
    "        #print (idx)\n",
    "        idx += 1\n",
    "        \n",
    "    idx += 1\n",
    "    te_idx_list.append(idx)\n",
    "    #print (idx)\n",
    "    #print ('------------------------------------')"
   ]
  },
  {
   "cell_type": "code",
   "execution_count": 9,
   "metadata": {},
   "outputs": [
    {
     "data": {
      "text/plain": [
       "6000"
      ]
     },
     "execution_count": 9,
     "metadata": {},
     "output_type": "execute_result"
    }
   ],
   "source": [
    "# Now we need to combine titles and reviews from train_df and test_df, so that we can create a tf-idf corpus on all data\n",
    "all_text = []\n",
    "\n",
    "for idx in range(len(tr_titles)):\n",
    "    all_text.append(tr_titles[idx] + ' ' + tr_reviews[idx])\n",
    "    \n",
    "for idx in range(len(te_titles)):\n",
    "    all_text.append(te_titles[idx] + ' ' + te_reviews[idx])\n",
    "\n",
    "len(all_text)"
   ]
  },
  {
   "cell_type": "markdown",
   "metadata": {},
   "source": [
    "### Now we need to clean our data                                                                                                                                   1.  We need to remove encodings as <> which are present in many reviews                                                                             2. Next we need to remove URL addresses which are outside the <>                                                                            3. We need to remove Video IDs mentioned in some of the reviews                                                                                   4. We also need to remove quotation marks"
   ]
  },
  {
   "cell_type": "code",
   "execution_count": 10,
   "metadata": {},
   "outputs": [],
   "source": [
    "# Removing frequently present <br> tags from our corpus, this will also remove other useless HTML tags, if present\n",
    "clean = re.compile('<.*?>')\n",
    "for idx in range(len(all_text)):\n",
    "    all_text[idx] = re.sub(clean, '', all_text[idx])"
   ]
  },
  {
   "cell_type": "code",
   "execution_count": 11,
   "metadata": {},
   "outputs": [],
   "source": [
    "# Removing quotation marks from data, otherwise words like don't get tokenized as [don, t], which makes no sense\n",
    "clean = re.compile(r\"'|\\\"|’\")\n",
    "for idx in range(len(all_text)):\n",
    "    all_text[idx] = re.sub(clean, '', all_text[idx])"
   ]
  },
  {
   "cell_type": "code",
   "execution_count": 12,
   "metadata": {},
   "outputs": [],
   "source": [
    "# Removing Video ID links present in few reviews as these are just gibberish alphanumeric strings\n",
    "clean = re.compile(r\"\\S+VIDEOID\\S+\")\n",
    "for idx in range(len(all_text)):\n",
    "    all_text[idx] = re.sub(clean, '', all_text[idx])"
   ]
  },
  {
   "cell_type": "code",
   "execution_count": 13,
   "metadata": {},
   "outputs": [],
   "source": [
    "# Removing web links present in few reviews. In some weblinks there is a space present in \"X BRAND\", so I have first\n",
    "# replaced \"X BRAND\" to \"XBRAND\" and then removed these weblinks\n",
    "clean = re.compile(r\"http.?://[^\\s]+[\\s]?\")\n",
    "for idx in range(len(all_text)):\n",
    "    all_text[idx] = re.sub('X BRAND', 'XBRAND', all_text[idx])\n",
    "\n",
    "for idx in range(len(all_text)):\n",
    "    all_text[idx] = re.sub(clean, '', all_text[idx])"
   ]
  },
  {
   "cell_type": "markdown",
   "metadata": {},
   "source": [
    "### Now since we have finished our data cleaning, we can proceed to create a Tf-Idf Vectorizer using a tokenizer, stopwords and a stemmer. The ouput of this Vectorizer will be a 2D sparse array that we can feed to a classifier, coupled with the label ground truths. Entries in this 2D sparse matrix represent the tf-idf scores for each token in a review"
   ]
  },
  {
   "cell_type": "code",
   "execution_count": 95,
   "metadata": {},
   "outputs": [],
   "source": [
    "# We will be using a Regular-Expression Tokenizer, English stop-words list and Porter Stemmer from NLTK\n",
    "regexp_tok = RegexpTokenizer('[A-Za-z]+')\n",
    "stop_list = stopwords.words('english')[:100]\n",
    "stemmer = PorterStemmer()"
   ]
  },
  {
   "cell_type": "code",
   "execution_count": 75,
   "metadata": {},
   "outputs": [
    {
     "data": {
      "text/plain": [
       "6000"
      ]
     },
     "execution_count": 75,
     "metadata": {},
     "output_type": "execute_result"
    }
   ],
   "source": [
    "# Creating a new corpus of stemmed words which we will provide to Tf-Idf Vectorizer\n",
    "stem_words = []\n",
    "for i, txt in enumerate(all_text):\n",
    "    tokens = regexp_tok.tokenize(txt)\n",
    "    new_txt = ' '.join(stemmer.stem(tok) for tok in tokens)\n",
    "    stem_words.append(new_txt)\n",
    "\n",
    "len(stem_words)"
   ]
  },
  {
   "cell_type": "code",
   "execution_count": 112,
   "metadata": {},
   "outputs": [
    {
     "data": {
      "text/plain": [
       "(6000, 10072)"
      ]
     },
     "execution_count": 112,
     "metadata": {},
     "output_type": "execute_result"
    }
   ],
   "source": [
    "# Using Tf-Idf Vectorizer class from SkLearn which will transform our stemmed corpus to a 2D sparse matrix as explained above\n",
    "tfidf = TfidfVectorizer(tokenizer=regexp_tok.tokenize, sublinear_tf=True)\n",
    "all_arr = tfidf.fit_transform(all_text)\n",
    "all_arr.shape"
   ]
  },
  {
   "cell_type": "code",
   "execution_count": 79,
   "metadata": {},
   "outputs": [
    {
     "data": {
      "text/plain": [
       "dict_keys(['useless', 'did', 'noth', 'for', 'me', 'didnt', 'help', 'lost', 'even', 'with', 'work', 'out', 'and', 'eat', 'healthi', 'curb', 'appetit', 'or', 'anyth', 'trash', 'do', 'not', 'buy', 'these', 'bag', 'it', 'a', 'waist', 'of', 'time', 'i', 'have', 'bought', 'immedi', 'open', 'one', 'put', 'in', 'some', 'the', 'wa', 'split', 'down', 'side', 'so', 'anoth', 'to', 'cover', 'also', 'x', 'dont', 'you', 'will', 'end', 'up', 'throw', 'your', 'box', 'away', 'recommend', 'gave', 'an', 'allerg', 'reaction', 'on', 'my', 'face', 'cant', 'tackl', 'big', 'mess', 'compar', 'name', 'brand', 'wipe', 'famili', 'littl', 'kid', 'we', 'use', 'lot', 'cut', 'through', 'sticki', 'theyr', 'small', 'veri', 'thin', 'might', 'be', 'ok', 'less', 'often', 'place', 'but', 'good', 'at', 'actual', 'care', 'lemon', 'scent', 'felt', 'too', 'strong', 'tast', 'horribl', 'no', 'choke', 'hazard', 'are', 'extrem', 'hard', 'swallow', 'pill', 'huge', 'sharp', 'serious', 'feel', 'like', 'can', 'them', 'know', 'about', 'their', 'effect', 'honestli', 'becaus', 'worth', 'pain', 'danger', 'bring', 'back', 'old', 'style', 'first', 'all', 'am', 'leav', 'review', 'is', 'solimo', 'incontin', 'maximum', 'absorb', 'long', 'length', 'individu', 'wrap', 'had', 'alway', 'still', 'search', 'someth', 'better', 'when', 'order', 'must', 'say', 'pleasantli', 'surpris', 'daytim', 'great', 'they', 'were', 'soft', 'wide', 'enough', 'those', 'gush', 'well', 'myself', 'realli', 'stuck', 'much', 'then', 'chang', 'outsid', 'wrapper', 'inwhich', 'would', 'take', 'off', 'peel', 'paper', 'strip', 'attach', 'now', 'what', 'done', 'outer', 'unwrap', 'that', 'stuff', 'come', 'same', 'bad', 'move', 'pictur', 'thi', 'go', 'into', 'bathroom', 'pad', 'new', 'part', 'as', 'somehow', 'hold', 'while', 'want', 'oop', 'fall', 'floor', 'everyth', 'abl', 'least', 'recycl', 'anymor', 'whi', 'just', 'thing', 'way', 'im', 'yet', 'product', 'crappi', 'happi', 'pleas', 'smell', 'ammonia', 'soon', 'bottl', 'hit', 'by', 'perm', 'solut', 'if', 'how', 'wrong', 'afraid', 'let', 'refund', 'purchas', 'wast', 'money', 'super', 'easi', 'definit', 'doesnt', 'give', 'energi', 'ill', 'stick', 'gnc', 'instead', 'sugar', 'mani', 'calori', 'multipl', 'dose', 'vitamin', 'light', 'disappoint', 'find', 'veggi', 'isnt', 'conveni', 'gummi', 'appeal', 'neither', 'dentist', 'nor', 'waistlin', 'consum', 'dosag', 'three', 'day', 'absolut', 'improv', 'health', 'ani', 'shape', 'form', 'expir', 'date', 'neck', 'surgeri', 'thought', 'stock', 'last', 'whe', 'n', 'second', 'pack', 'two', 'week', 'couldnt', 'drink', 'longer', 'shelf', 'life', 'obvious', 'get', 'rid', 'rate', 'high', 'differ', 'lavend', 'essenti', 'oil', 'from', 'qualiti', 'aura', 'cacia', 'cheaper', 'lesser', 'known', 'none', 'doe', 'stale', 'flower', 'after', 'pay', 'sad', 'return', 'sinc', 'alreadi', 'horrid', 'packag', 'rosehip', 'more', 'cook', 'fact', 'without', 'seal', 'protect', 'make', 'suspici', 'compani', 'ever', 'may', 'organ', 'approv', 'shadi', 'mix', 'other', 'hair', 'treatment', 'tonic', 'wish', 'could', 'zero', 'wors', 'poor', 'check', 'size', 'u', 'need', 'gallon', 'yucki', 'aw', 'piec', 'tri', 'kind', 'defeat', 'purpos', 'chewabl', 'love', 'unsur', 'diaper', 'ive', 'never', 'problem', 'notic', 'few', 'though', 'got', 'daughter', 'wear', 'which', 'weird', 'been', 'befor', 'apart', 'layer', 'idk', 'recent', 'mayb', 'realiz', 'weve', 'besid', 'leak', 'reliabl', 'finish', 'caus', 'dizzi', 'nausea', 'idea', 'such', 'liter', 'pass', 'possibl', 'els', 'onli', 'came', 'claim', 'item', 'rip', 'version', 'regular', 'raspberri', 'lemonad', 'frozen', 'bombsicl', 'price', 'increas', 'ha', 'gone', 'than', 'month', 'allergi', 'medic', 'inform', 'section', 'state', 'consid', 'tablet', 'each', 'costco', 'fals', 'advertis', 'expens', 'found', 'store', 'again', 'hate', 'enorm', 'hors', 'id', 'rather', 'smaller', 'arriv', 'ago', 'transit', 'option', 'receiv', 'abil', 'commun', 'protein', 'per', 'serv', 'meat', 'eater', 'half', 'intak', 'morn', 'shake', 'powder', 'base', 'food', 'ingredi', 'list', 'appreci', 'grass', 'fed', 'aspect', 'unflavor', 'add', 'textur', 'smoothi', 'guess', 'point', 'who', 'choos', 'person', 'vanilla', 'next', 'compliment', 'fruit', 'jug', 'handi', 'scoop', 'bottom', 'total', 'broken', 'complet', 'glass', 'spill', 'sure', 'made', 'shipment', 'healthli', 'nice', 'initi', 'dislik', 'pillow', 'nut', 'ate', 'okay', 'vegan', 'cheap', 'howev', 'sugari', 'whenev', 'job', 'onc', 'age', 'game', 'win', 'dri', 'plu', 'seem', 'concept', 'macro', 'oat', 'fine', 'ground', 'repeat', 'figur', 'whey', 'warm', 'hot', 'water', 'honest', 'blueberri', 'muffin', 'gulp', 'instantli', 'throat', 'cough', 'flavor', 'dryness', 'real', 'downfal', 'sit', 'think', 'reason', 'star', 'apolog', 'optimum', 'nutrit', 'fail', 'told', 'boyfriend', 'him', 'supplement', 'avoid', 'placebo', 'affect', 'he', 'mislead', 'mg', 'cranberri', 'concentr', 'expect', 'front', 'number', 'match', 'almost', 'sick', 'reclama', 'o', 'gain', 'weight', 'look', 'gawd', 'uncomfort', 'around', 'difficult', 'havent', 'slow', 'ship', 'where', 'somebodi', 'drop', 'ball', 'write', 'cost', 'benefit', 'weak', 'inner', 'lid', 'preworkout', 'yeah', 'energ', 'drank', 'vega', 'ga', 'took', 'terribl', 'bewar', 'provid', 'gardenoffail', 'edit', 'earn', 'gardenoffailgarden', 'direct', 'send', 'dm', 'twitter', 'respons', 'call', 'tweet', 'respond', 'block', 'garden', 'prefer', 'reward', 'activ', 'bait', 'switch', 'custom', 'reduc', 'measur', 'cup', 'content', 'within', 'ongo', 'decept', 'peopl', 'read', 'see', 'deal', 'integr', 'honor', 'respect', 'origin', 'across', 'folk', 'blend', 'tell', 'current', 'chocol', 'superb', 'smooth', 'fool', 'label', 'level', 'cc', 'includ', 'lie', 'teeth', 'despic', 'unfortun', 'pull', 'similar', 'stunt', 'perfect', 'green', 'theyv', 'snuck', 'replac', 'run', 'warn', 'whatsoev', 'trustworthi', 'keep', 'eye', 'enjoy', 'us', 'tea', 'tree', 'gotten', 'dropper', 'worst', 'abund', 'stench', 'smelt', 'should', 'listen', 'medicin', 'suppli', 'cannot', 'bite', 'cold', 'overnight', 'supper', 'bread', 'vitafus', 'softer', 'woohoonatur', 'forward', 'diy', 'trip', 'contain', 'itself', 'sleepi', 'asleep', 'bit', 'desir', 'oh', 'nightmar', 'fairli', 'hand', 'squar', 'imposs', 'grip', 'spent', 'hour', 'darn', 'final', 'access', 'pair', 'scissor', 'stab', 'pretti', 'sweati', 'singl', 'awak', 'annoy', 'ultim', 'wouldnt', 'hassl', 'seller', 'sent', 'promis', 'right', 'dha', 'miss', 'sweet', 'consist', 'coffe', 'drinker', 'unsweeten', 'almond', 'milk', 'thicker', 'gross', 'disgust', 'dear', 'gahhhhhhh', 'ib', 'symptom', 'awar', 'experi', 'case', 'happen', 'start', 'calcium', 'year', 'trader', 'joe', 'discontinu', 'taken', 'decad', 'togeth', 'chronic', 'diarrhea', 'issu', 'attribut', 'prescript', 'stress', 'develop', 'lactos', 'intoler', 'elimin', 'wheat', 'dairi', 'whole', 'elim', 'diet', 'celiac', 'diseas', 'test', 'tsh', 'doctor', 'ran', 'travel', 'disappear', 'focus', 'along', 'stop', 'daili', 'miseri', 'steer', 'clear', 'trust', 'impress', 'shea', 'butter', 'graini', 'appli', 'hope', 'continu', 'strongli', 'alcohol', 'lakanto', 'granul', 'monkfruit', 'sweeten', 'mostli', 'fake', 'overwhelm', 'nutri', 'dyn', 'dynam', 'mistak', 'odor', 'sour', 'breath', 'salt', 'caramel', 'dump', 'entir', 'anyon', 'insid', 'fallen', 'most', 'except', 'past', 'low', 'yuck', 'formula', 'until', 'legal', 'sell', 'pharmacist', 'close', 'ibuprofen', 'repackag', 'silica', 'drier', 'tape', 'cap', 'threw', 'garbag', 'four', 'gelcap', 'safeti', 'remov', 'polici', 'sold', 'contact', 'servic', 'offer', 'warehous', 'unattach', 'oct', 'fresh', 'window', 'temperatur', 'probabl', 'weaken', 'efficaci', 'mine', 'pit', 'amaz', 'messag', 'tummi', 'babi', 'gassi', 'fussi', 'her', 'our', 'shame', 'plastic', 'moisur', 'dog', 'sever', 'hive', 'broke', 'over', 'arm', 'lava', 'pour', 'bodi', 'upset', 'stomach', 'discolor', 'gum', 'pharmaci', 'thatll', 'teach', 'forgot', 'supposedli', 'boy', 'capsul', 'separ', 'troubl', 'melatonin', 'usual', 'everi', 'full', 'harder', 'chew', 'nasti', 'spend', 'buck', 'dec', 'pollen', 'count', 'here', 'ohio', 'coupl', 'zyrtec', 'cetirizin', 'hcl', 'shot', 'toward', 'march', 'sneez', 'head', 'blow', 'nose', 'rise', 'soo', 'twin', 'heap', 'teaspoon', 'tmg', 'guy', 'seriou', 'iphon', 'charg', 'cabl', 'usb', 'port', 'reshioo', 'intern', 'straight', 'scam', 'allow', 'joke', 'sucralos', 'understand', 'post', 'natur', 'bounti', 'ot', 'fir', 't', 'noti', 'wore', 'kept', 'tab', 'catch', 'talk', 'magnesium', 'ad', 'woke', 'nauseou', 'quit', 'sweat', 'laid', 'there', 'minut', 'nearli', 'lead', 'stretchi', 'clump', 'chunk', 'chemic', 'thrown', 'cancel', 'subscript', 'melt', 'goo', 'orang', 'red', 'pri', 'jar', 'rout', 'themselv', 'break', 'amino', 'metal', 'skip', 'far', 'biggest', 'pesticid', 'non', 'org', 'tend', 'opinion', 'rice', 'pea', 'corpor', 'save', 'overpow', 'aftertast', 'certain', 'extent', 'owe', 'seed', 'offend', 'winner', 'heard', 'wawaawaaa', 'prenat', 'strang', 'suppos', 'valu', 'urin', 'color', 'research', 'articl', 'averag', 'knowledg', 'went', 'throughout', 'bright', 'yellow', 'approxim', 'bed', 'typic', 'tp', 'email', 'ask', 'forgotten', 'lose', 'learn', 'lesson', 'bulk', 'leaf', 'stevia', 'pick', 'choic', 'anyway', 'liquid', 'unopen', 'credit', 'wonder', 'bloat', 'cramp', 'miser', 'log', 'free', 'pamper', 'sensit', 'skin', 'friendli', 'assur', 'larg', 'digest', 'bullet', 'left', 'basi', 'wasnt', 'result', 'boost', 'crash', 'caffein', 'system', 'tax', 'encount', 'formul', 'd', 'ingest', 'best', 'unseal', 'both', 'spray', 'hesit', 'refus', 'edibl', 'gym', 'decid', 'packet', 'condit', 'confus', 'white', 'brown', 'dark', 'werent', 'attempt', 'unabl', 'sorri', 'posit', 'toffe', 'twice', 'god', 'sore', 'workout', 'upon', 'curcuminoid', 'proprietari', 'curcumin', 'complex', 'compos', 'turmer', 'root', 'extract', 'standard', 'percentag', 'answer', 'therefor', 'surmis', 'fishi', 'random', 'fish', 'appar', 'rest', 'certainli', 'nd', 'keto', 'bust', 'probiot', 'today', 'thermogen', 'said', 'themupd', 'yard', 'jitter', 'lostsever', 'deliv', 'excit', 'bum', 'unscent', 'fragranc', 'although', 'moder', 'citrusi', 'headach', 'itchi', 'lemongrass', 'sourc', 'type', 'shampoo', 'rough', 'condition', 'crack', 'alot', 'fan', 'chewi', 'wont', 'either', 'favorit', 'damag', 'pound', 'wit', 'sickli', 'cloy', 'under', 'coconut', 'request', 'sodium', 'between', 'major', 'meal', 'exercis', 'woah', 'math', 'plan', 'clean', 'process', 'restaur', 'mind', 'heed', 'excess', 'blood', 'pressur', 'shred', 'friend', 'dietari', 'guidelin', 'addit', 'spice', 'easili', 'top', 'push', 'caveat', 'someon', 'electrolyt', 'intens', 'produc', 'replenish', 'beverag', 'balanc', 'potassium', 'address', 'splenda', 'appear', 'competitor', 'highest', 'given', 'amount', 'gram', 'crazi', 'potenti', 'artifici', 'aim', 'muscl', 'cleaner', 'easier', 'overal', 'ice', 'blender', 'bland', 'basic', 'ripe', 'banana', 'pop', 'absorpt', 'enzym', 'allud', 'vital', 'assist', 'proteas', 'bromelain', 'closer', 'tendenc', 'retain', 'fix', 'express', 'concern', 'surfac', 'previous', 'refil', 'hey', 'dollar', 'valuabl', 'invest', 'display', 'exact', 'lower', 'flush', 'drain', 'quantiti', 'st', 'track', 'show', 'detail', 'thick', 'tough', 'faulti', 'pump', 'word', 'matter', 'spun', 'unscrew', 'gel', 'clarison', 'brush', 'control', 'oilier', 'whom', 'inspir', 'confid', 'due', 'set', 'describ', 'unknown', 'directli', 'hopethi', 'unbias', 'thank', 'joint', 'constip', 'aid', 'fiber', 'fill', 'tear', 'buyit', 'terrifi', 'wake', 'tingli', 'brain', 'stroke', 'ruin', 'remain', 'sleep', 'lip', 'swollen', 'middl', 'mirror', 'saw', 'tongu', 'drowsi', 'benadryl', 'death', 'statin', 'coat', 'prime', 'trick', 'late', 'prone', 'gout', 'l', 'arginin', 'uric', 'acid', 'kidney', 'later', 'attack', 'knee', 'stone', 'cours', 'caution', 'wait', 'stopper', 'insert', 'incorrectli', 'fit', 'properli', 'ring', 'black', 'wintergreen', 'dissolv', 'allergen', 'mean', 'fructos', 'husk', 'psyllium', 'rash', 'burn', 'blotch', 'healthier', 'tern', 'dread', 'vomit', 'gentl', 'gener', 'cooki', 'creme', 'lb', 'tub', 'greatest', 'peanut', 'dens', 'sometim', 'vari', 'hershey', 'bar', 'anyhow', 'hang', 'seen', 'clari', 'sage', 'dumb', 'market', 'geniu', 'trio', 'somewher', 'china', 'robot', 'mass', 'world', 'inexpens', 'yiang', 'stimul', 'hell', 'thyme', 'oregano', 'pepper', 'jack', 'flat', 'perhap', 'common', 'substanc', 'oili', 'wet', 'chain', 'lastli', 'stand', 'sampl', 'welcom', 'materi', 'paperi', 'luv', 'print', 'cute', 'keg', 'babe', 'blowout', 'poop', 'chalki', 'moistur', 'holi', 'cow', 'giant', 'proper', 'requir', 'huggi', 'cheapest', 'dissapoint', 'reciev', 'scooper', 'inflat', 'downsid', 'doubl', 'psa', 'interest', 'suggest', 'flunctuat', 'shop', 'walgreen', 'c', 'flap', 'shrink', 'inch', 'loss', 'fat', 'reduct', 'drastic', 'slight', 'intermitt', 'fast', 'omad', 'cardio', 'strength', 'train', 'regimen', 'dure', 'suppress', 'believ', 'updat', 'hca', 'own', 'usa', 'pure', 'garcinia', 'cambogia', 'guest', 'delici', 'deliveri', 'truck', 'foul', 'mapl', 'syrup', 'reek', 'donut', 'favor', 'solid', 'butt', 'irrit', 'assum', 'hole', 'linger', 'mild', 'decent', 'struggl', 'five', 'transfer', 'pregnant', 'breastfeed', 'nourish', 'main', 'chose', 'iron', 'solv', 'futur', 'indigest', 'heartburn', 'mileag', 'complaint', 'bribe', 'hungrier', 'nauseat', 'mood', 'tire', 'htp', 'supplier', 'forth', 'walmart', 'itch', 'reactionwithin', 'load', 'g', 'reccomend', 'excel', 'lack', 'gallbladd', 'yogurt', 'dust', 'defect', 'import', 'intact', 'rememb', 'b', 'street', 'constant', 'ach', 'ceas', 'glutamin', 'stay', 'higher', 'med', 'everyon', 'forev', 'retail', 'earlier', 'niacinamid', 'usea', 'toxic', 'atp', 'asorb', 'crystal', 'mention', 'etc', 'overli', 'unimport', 'paperweight', 'unpleas', 'mouth', 'citru', 'gag', 'note', 'pregnanc', 'experienc', 'maltodextrin', 'carb', 'primari', 'carbohydr', 'glycem', 'index', 'tabl', 'bough', 'quickli', 'wreck', 'altogeth', 'industri', 'kinda', 'piss', 'normal', 'coff', 'partner', 'batch', 'chunki', 'clumpi', 'ye', 'tin', 'question', 'advic', 'shallow', 'chanc', 'sadli', 'pancak', 'submit', 'otherwis', 'savor', 'hype', 'sport', 'creatin', 'monohydr', 'juic', 'meh', 'queasi', 'heat', 'firm', 'upheld', 'despit', 'cool', 'bcaa', 'reorder', 'distributor', 'ineffect', 'tum', 'alongsid', 'paid', 'empti', 'space', 'composit', 'practic', 'storag', 'pantri', 'stung', 'par', 'glycerin', 'dilut', 'bitter', 'recip', 'avail', 'dessert', 'neighbor', 'diabet', 'exampl', 'abov', 'glycerit', 'wound', 'incred', 'tini', 'oz', 'tamper', 'depress', 'anxieti', 'mental', 'aom', 'book', 'calm', 'youtub', 'video', 'occor', 'vivid', 'explos', 'mail', 'lick', 'tarmac', 'dirt', 'lawn', 'freeway', 'slightli', 'nutrient', 'wholesom', 'tasti', 'truli', 'unsatisfi', 'abt', 'becuz', 'soooooo', 'shaker', 'upper', 'belli', 'region', 'vs', 'feb', 'nac', 'spot', 'unaccept', 'sort', 'rancid', 'limit', 'board', 'plump', 'catalog', 'glucon', 'roll', 'craftabl', 'perman', 'vinyl', 'asap', 'fuck', 'brew', 'unless', 'loser', 'carelessli', 'careless', 'manner', 'third', 'er', 'bled', 'everbadli', 'pee', 'prepar', 'th', 'perscript', 'she', 'nordic', 'elig', 'elsewher', 'vendor', 'method', 'ton', 'onlin', 'home', 'facil', 'restock', 'fee', 'yum', 'potenc', 'multivitamin', 'adhes', 'slide', 'toss', 'sulfur', 'gradual', 'onset', 'blown', 'yesterday', 'hous', 'unhappi', 'ick', 'icki', 'foami', 'gelatin', 'power', 'geez', 'convinc', 'confirm', 'scari', 'buyer', 'everyday', 'charmin', 'saus', 'revli', 'mcg', 'folat', 'folic', 'convert', 'unconvert', 'fa', 'circul', 'unmodifi', 'detriment', 'disrupt', 'metabol', 'evid', 'carcinogen', 'sulfat', 'combo', 'mint', 'photo', 'especi', 'support', 'cetaphil', 'cheek', 'chin', 'forehead', 'suddenli', 'acn', 'bump', 'teenag', 'regret', 's', 'ooz', 'angri', 'yellowish', 'makeup', 'poison', 'ivi', 'zinc', 'nail', 'ish', 'magic', 'minor', 'suck', 'discomfort', 'grab', 'randomli', 'drive', 'hurt', 'weirdli', 'line', 'infus', 'candi', 'olli', 'beauti', 'biotin', 'yummi', 'grapefruit', 'glucos', 'beet', 'citric', 'pectin', 'variou', 'veget', 'carnauba', 'wax', 'e', 'keratin', 'dv', 'establish', 'simpli', 'unlik', 'ps', 'chai', 'becam', 'imagin', 'deceiv', 'tripl', 'fathom', 'omiss', 'mom', 'anemia', 'short', 'similarli', 'oatmeal', 'structur', 'richer', 'live', 'loyal', 'member', 'worri', 'safe', 'foolishli', 'ahead', 'hadnt', 'cu', 'rude', 'treat', 'poorli', 'agent', 'inquir', 'manag', 'duct', 'mini', 'signific', 'afford', 'turn', 'heimlich', 'ridicul', 'adult', 'pinki', 'finger', 'wow', 'everywher', 'dandruff', 'wash', 'pre', 'loos', 'toothpast', 'creat', 'tradit', 'ident', 'frothi', 'af', 'independ', 'contractor', 'attitud', 'yell', 'phone', 'door', 'downstair', 'complexentr', 'complain', 'chat', 'hadprim', 'membership', 'blah', 'il', 'vhc', 'youll', 'subtl', 'tart', 'watermelon', 'achiev', 'sundown', 'herb', 'nutti', 'ashi', 'huh', 'combin', 'depreci', 'coincid', 'vision', 'touch', 'exchang', 'cristi', 'husband', 'room', 'vita', 'fusion', 'fault', 'pod', 'explod', 'round', 'term', 'yuk', 'burnt', 'candlewax', 'altern', 'palat', 'true', 'disguis', 'dang', 'raw', 'plain', 'awesom', 'afternoon', 'burst', 'toler', 'koolaid', 'grape', 'hardli', 'inconsist', 'freez', 'underwhelm', 'wild', 'rose', 'cleans', 'petrolatum', 'miner', 'feet', 'paraben', 'phthalat', 'compon', 'suffoc', 'moist', 'clog', 'pore', 'mother', 'dementia', 'shatter', 'bull', 'soak', 'greasi', 'wateri', 'stool', 'gritti', 'novemb', 'softgel', 'nope', 'schedul', 'zone', 'regul', 'substanti', 'flavour', 'palstic', 'niacin', 'fire', 'minim', 'crumbl', 'fist', 'household', 'girl', 'cycl', 'heck', 'asid', 'inconveni', 'categori', 'reformul', 'advis', 'extra', 'mp', 'assault', 'bang', 'newborn', 'hospit', 'kirkland', 'gentli', 'perfectli', 'babysitt', 'minu', 'bunch', 'purifi', 'wise', 'durabl', 'descent', 'deduct', 'born', 'rock', 'steam', 'refrigerator', 'eh', 'repurchas', 'perceiv', 'sneaki', 'dishonest', 'languag', 'talc', 'fave', 'grittier', 'blander', 'becom', 'particular', 'chalk', 'cardboard', 'link', 'report', 'neutral', 'gooey', 'correct', 'nastiest', 'obviou', 'dye', 'releas', 'theanin', 'nighttim', 'herbal', 'quick', 'faster', 'quiet', 'awok', 'night', 'blue', 'lightbulb', 'bedroom', 'com', 'gp', 'kzb', 'ref', 'ppx', 'yo', 'dt', 'asin', 'titl', 'ie', 'utf', 'psc', 'bedtim', 'bluebonnet', 'earthsweet', 'dp', 'ceeh', 'aa', 'sr', 'crid', 'v', 'cb', 'jsd', 'keyword', 'qid', 'gateway', 'sprefix', 'mel', 'descript', 'dription', 'instant', 'yike', 'stomachach', 'incompet', 'incorrect', 'reach', 'benefib', 'phenomen', 'hop', 'tbsp', 'substitut', 'omg', 'embarrass', 'ayurved', 'ear', 'sensat', 'facial', 'cream', 'knock', 'specif', 'firmer', 'hi', 'older', 'funki', 'palm', 'heart', 'catostroph', 'environ', 'dream', 'user', 'scientif', 'studi', 'accord', 'jelli', 'bean', 'flinston', 'uneat', 'fragment', 'crown', 'shell', 'beyond', 'belief', 'dental', 'reconsid', 'bucket', 'previou', 'k', 'bigger', 'viciou', 'sleev', 'act', 'larger', 'design', 'don', 'pleasant', 'rotten', 'gray', 'epiphani', 'panti', 'woman', 'tuna', 'handl', 'ignor', 'hood', 'aint', 'lumpi', 'grain', 'fenc', 'pb', 'strawberri', 'lunch', 'neg', 'wick', 'offic', 'honey', 'busi', 'june', 'till', 'tuesday', 'revis', 'inc', 'fashion', 'profession', 'envelop', 'dealer', 'drug', 'cultur', 'baggi', 'degre', 'resolv', 'fare', 'loud', 'fear', 'bacteri', 'contamin', 'forget', 'news', 'wat', 'asss', 'local', 'groceri', 'unus', 'mark', 'sam', 'club', 'polish', 'mthfr', 'inadvert', 'hoopla', 'row', 'sticker', 'mislabel', 'breaker', 'snack', 'arent', 'eventu', 'usp', 'hyperact', 'attent', 'disord', 'uni', 'bubbl', 'edg', 'pare', 'knife', 'compel', 'scroll', 'comment', 'parent', 'advisori', 'downright', 'tasteless', 'egg', 'theyd', 'youv', 'underwear', 'man', 'numb', 'troll', 'meet', 'appropri', 'translat', 'vitimin', 'towel', 'smear', 'counter', 'restor', 'build', 'adequ', 'critic', 'recoveri', 'enhanc', 'lean', 'drew', 'discov', 'depend', 'click', 'below', 'hide', 'dispens', 'diffus', 'manufactur', 'isol', 'incid', 'attemp', 'map', 'pw', 'avid', 'panel', 'complimentari', 'appl', 'step', 'goal', 'site', 'page', 'surprisingli', 'agre', 'tester', 'parti', 'puriti', 'decis', 'latest', 'fridg', 'chill', 'correctli', 'brownish', 'fri', 'toe', 'fungu', 'pricey', 'dip', 'paintbrush', 'sting', 'medium', 'lotion', 'goe', 'peppermint', 'menthol', 'heal', 'rosemari', 'camphor', 'antimicrobi', 'properti', 'regularli', 'applic', 'exclus', 'swell', 'uniqu', 'allegrad', 'asthma', 'stuf', 'soori', 'bear', 'children', 'tmi', 'alert', 'restroom', 'ounc', 'equal', 'junk', 'toilet', 'acesulfam', 'googl', 'sweeter', 'center', 'scienc', 'public', 'cspi', 'openli', 'queri', 'widespread', 'rais', 'cancer', 'earli', 'riski', 'whatev', 'wouldv', 'obnoxi', 'chip', 'growth', 'opposit', 'present', 'diminish', 'document', 'notabl', 'lighthead', 'preserv', 'bpa', 'estrogen', 'asthmat', 'scare', 'eaten', 'doubt', 'mailbox', 'brought', 'bother', 'secur', 'bm', 'reciv', 'demand', 'watch', 'intestin', 'distress', 'cutter', 'glorifi', 'breed', 'rare', 'ginger', 'ginseng', 'yerb', 'mate', 'strike', 'foam', 'repres', 'acia', 'berri', 'stawberri', 'um', 'remind', 'mainstream', 'whitewav', 'buzz', 'suitabl', 'memori', 'ehh', 'improperli', 'begin', 'summer', 'south', 'carolina', 'messi', 'cinnamon', 'flour', 'highli', 'testazon', 'skeptic', 'numer', 'voic', 'rep', 'herself', 'dead', 'odd', 'function', 'quest', 'fulli', 'compromis', 'casien', 'chug', 'forc', 'sens', 'glue', 'drywal', 'mud', 'pasti', 'spoon', 'spike', 'hollow', 'hunger', 'swear', 'area', 'vacat', 'overwhelmingli', 'cocoa', 'lockbox', 'mailroom', 'mailman', 'file', 'insur', 'mango', 'gmo', 'six', 'statu', 'met', 'stair', 'ly', 'carrier', 'destroy', 'recogn', 'eighti', 'french', 'press', 'bud', 'mixtur', 'sand', 'sickenli', 'popular', 'vast', 'undissolv', 'particl', 'thru', 'war', 'exactli', 'revie', 'alright', 'chap', 'calv', 'insomnia', 'gotta', 'satisfi', 'difficulti', 'm', 'picki', 'fight', 'portion', 'near', 'subscrib', 'rogu', 'driver', 'screen', 'porch', 'sun', 'rain', 'view', 'road', 'land', 'expos', 'visibl', 'failur', 'climat', 'lazi', 'prais', 'trod', 'onto', 'foot', 'plant', 'elev', 'palpit', 'froze', 'endocrin', 'edc', 'reluct', 'partak', 'sicker', 'fatter', 'poorer', 'mixabl', 'satiat', 'ol', 'mct', 'bpc', 'haul', 'easiest', 'yourself', 'ob', 'script', 'pep', 'q', 'tip', 'button', 'fulfil', 'crap', 'crush', 'agav', 'hairgrow', 'ammount', 'benifit', 'centrum', 'reevalu', 'sexual', 'ru', 'fishand', 'pinch', 'sideway', 'peac', 'air', 'styrofoam', 'w', 'overs', 'unnecessari', 'environment', 'unfriendli', 'auto', 'nearbi', 'discard', 'furthermor', 'indic', 'perish', 'shark', 'juul', 'mistook', 'feedback', 'smash', 'erythritol', 'rave', 'monk', 'react', 'remedi', 'matcha', 'savori', 'salti', 'cake', 'batter', 'emphas', 'websit', 'glob', 'float', 'stink', 'regrind', 'finer', 'confection', 'bake', 'crunchi', 'impart', 'unusu', 'kinder', 'gut', 'speak', 'aldi', 'spilt', 'rel', 'imo', 'cottag', 'chees', 'hungri', 'smh', 'prevent', 'freezer', 'superior', 'tom', 'dick', 'harri', 'driveway', 'smart', 'instruct', 'nestl', 'gobbl', 'shoulder', 'injuri', 'hammer', 'lucki', 'twist', 'listerin', 'onsal', 'windmil', 'atrium', 'brother', 'fizzl', 'chef', 'team', 'acquir', 'beach', 'stori', 'wife', 'knew', 'zing', 'halfway', 'semi', 'proof', 'tetra', 'pak', 'cherri', 'luden', 'habit', 'somewhat', 'productproduct', 'mushi', 'itd', 'stretch', 'regiment', 'gold', 'coast', 'speedi', 'depart', 'net', 'econom', 'oxid', 'crispi', 'lysin', 'unlucki', 'wrote', 'ty', 'exp', 'gift', 'foil', 'lift', 'shortli', 'scream', 'curiou', 'horrif', 'pic', 'cyanid', 'cyanocobalamin', 'cheapli', 'relax', 'aloud', 'torn', 'crave', 'cheeri', 'veryi', 'unanim', 'reflux', 'rolaid', 're', 'rich', 'optimim', 'frustrat', 'mold', 'cautiou', 'peculiar', 'comparison', 'hangov', 'trippi', 'btw', 'accustom', 'jibe', 'chemistri', 'massiv', 'comic', 'costum', 'youd', 'sip', 'heavi', 'slider', 'usabl', 'wheni', 'cracker', 'weigh', 'handheld', 'boat', 'motor', 'tablespoon', 'dutch', 'tremend', 'pan', 'season', 'omega', 'fron', 'lemoni', 'flaxse', 'soy', 'further', 'frequent', 'partial', 'residu', 'behind', 'manganes', 'clearcomplexion', 'rosacea', 'hasnt', 'challeng', 'men', 'women', 'plenti', 'burpless', 'canist', 'mojito', 'intend', 'bare', 'soap', 'deep', 'unexpect', 'woken', 'recollect', 'convers', 'moment', 'regardless', 'dufu', 'flimsi', 'unbroken', 'leaki', 'caught', 'luckili', 'gluten', 'intent', 'tinnitu', 'religi', 'error', 'luxuri', 'budget', 'target', 'compet', 'maca', 'hormon', 'earthi', 'patchouli', 'hint', 'dubai', 'uae', 'ignit', 'rank', 'yadgar', 'trade', 'potent', 'miracl', 'jello', 'dig', 'putti', 'harden', 'lard', 'granddaught', 'punctur', 'glad', 'refriger', 'jesu', 'colbert', 'factual', 'toddler', 'reject', 'anywher', 'headlin', 'twoand', 'apr', 'signatur', 'aller', 'tec', 'antihistamin', 'tabletsp', 'packsold', 'betterreturn', 'unimpress', 'tase', 'son', 'brocken', 'max', 'wherhous', 'wheelchair', 'fray', 'seventh', 'babygan', 'younger', 'pseudo', 'fruiti', 'brittl', 'breakag', 'postag', 'naturemad', 'fyi', 'pro', 'biotic', 'ined', 'april', 'dept', 'possess', 'stole', 'explain', 'accept', 'slice', 'yall', 'puke', 'dad', 'slim', 'grit', 'equat', 'share', 'thoght', 'trace', 'arsen', 'crevic', 'fli', 'usag', 'builder', 'shorter', 'lime', 'written', 'diaherra', 'fart', 'flip', 'bowel', 'movement', 'claritin', 'undrink', 'snake', 'synthet', 'cod', 'liver', 'sneakili', 'changenow', 'greedi', 'settl', 'min', 'revers', 'cloth', 'shiiddd', 'sacrif', 'faintli', 'play', 'doh', 'appet', 'kill', 'thigh', 'pant', 'senior', 'uncertain', 'held', 'began', 'winter', 'spring', 'task', 'motiv', 'restless', 'refer', 'ashwagandah', 'identifi', 'tract', 'deserv', 'summar', 'peach', 'against', 'baselin', 'volatil', 'migrat', 'sawdust', 'bitro', 'inprimetim', 'blame', 'grant', 'polic', 'soapi', 'oldest', 'youngest', 'poo', 'sag', 'insan', 'assassin', 'mask', 'ordinarili', 'particularli', 'nutrion', 'key', 'childbear', 'lanolin', 'hat', 'chapter', 'multi', 'violent', 'posion', 'ius', 'culprit', 'episod', 'falvor', 'eight', 'jogg', 'gainer', 'breakfast', 'glow', 'success', 'rcvd', 'co', 'nitrogen', 'europ', 'india', 'pitch', 'dawn', 'inspect', 'lover', 'shoe', 'leather', 'strongest', 'aggress', 'die', 'concord', 'outstand', 'versu', 'alon', 'liquefi', 'jolli', 'rancher', 'sound', 'darker', 'consciou', 'father', 'plasticki', 'prior', 'hyper', 'grown', 'immun', 'seeler', 'nutritionist', 'wallmart', 'badli', 'panic', 'gonna', 'freak', 'faint', 'sooooo', 'sluggish', 'macrobiot', 'counselor', 'guru', 'granola', 'termin', 'abysm', 'notif', 'notifi', 'sat', 'stump', 'hubbi', 'understat', 'mellow', 'ici', 'rocket', 'someplac', 'corn', 'subsid', 'flineston', 'deterg', 'wholefood', 'whim', 'jitteri', 'perform', 'wave', 'crippl', 'teen', 'vanila', 'hello', 'kick', 'comfort', 'postpartum', 'bleed', 'xl', 'wherea', 'birth', 'uteru', 'waistband', 'guard', 'coverag', 'wedgi', 'lay', 'discret', 'bulki', 'dent', 'undamag', 'inelig', 'rubber', 'lousi', 'pco', 'quarter', 'cruel', 'cedar', 'dirti', 'clearli', 'scatter', 'prick', 'swaddler', 'mama', 'nap', 'fun', 'sooooooooi', 'observ', 'deliber', 'shown', 'newer', 'krispi', 'kreme', 'locker', 'suffer', 'candida', 'killer', 'lymph', 'node', 'fever', 'sinu', 'infect', 'hidden', 'powderi', 'cloud', 'upto', 'dishwash', 'chunck', 'mosquito', 'absoooooolut', 'repel', 'burp', 'remaind', 'muscletech', 'shit', 'lol', 'rhodiola', 'reliev', 'adaptogen', 'expiri', 'golden', 'tumer', 'unbear', 'boron', 'arthriti', 'insult', 'remot', 'fluffi', 'airi', 'puck', 'assess', 'fortun', 'temporari', 'dissip', 'slowli', 'shock', 'hear', 'hundr', 'horrifi', 'throughli', 'tropic', 'blurri', 'reader', 'ink', 'font', 'led', 'flashlight', 'contract', 'verdict', 'whether', 'drawer', 'stronger', 'stolen', 'cliff', 'lamp', 'reminisc', 'lessen', 'inflamm', 'recov', 'decreas', 'weightlift', 'commiss', 'liqui', 'efffect', 'h', 'll', 'bent', 'flu', 'dr', 'tobia', 'strap', 'cash', 'letharg', 'distil', 'taco', 'bell', 'beef', 'mainli', 'filler', 'wood', 'pulp', 'feed', 'american', 'celucor', 'supp', 'pharm', 'jym', 'beta', 'alenin', 'meant', 'constantli', 'outing', 'child', 'jammi', 'underneath', 'droop', 'grow', 'bound', 'harm', 'toxin', 'exposur', 'consumpt', 'smoker', 'biolog', 'mushroom', 'chlorella', 'spirulina', 'hydroxocobalamin', 'methylcobalamin', 'aquacobalamin', 'info', 'ideal', 'varieti', 'readi', 'carri', 'tag', 'deform', 'ashwagandha', 'scott', 'commod', 'squarer', 'shall', 'plumber', 'speed', 'dial', 'backord', 'sheet', 'pipe', 'scalp', 'kit', 'phase', 'trigger', 'cure', 'mountain', 'pig', 'gen', 'everybodi', 'roger', 'saylor', 'fresher', 'vengeanc', 'steroid', 'necessarili', 'collagen', 'lake', 'darken', 'eyebrow', 'templ', 'patch', 'effort', 'intellig', 'sixth', 'tone', 'throghout', 'locat', 'consider', 'code', 'tan', 'jan', 'conceiv', 'carrageenan', 'coz', 'shaki', 'sooo', 'carageenan', 'shini', 'alga', 'corneal', 'ulcer', 'defens', 'agit', 'reintroduc', 'adam', 'grew', 'advers', 'cashier', 'station', 'promptli', 'fluke', 'needless', 'bellow', 'centigrad', 'frill', 'competit', 'vagu', 'fruitlik', 'meali', 'foremost', 'inde', 'hefti', 'presum', 'magnisium', 'rang', 'grace', 'sign', 'awe', 'aagain', 'unbeliev', 'nerd', 'teamtrib', 'solidifi', 'pralin', 'pecan', 'charm', 'sudden', 'gurgl', 'boil', 'cooler', 'account', 'bacteria', 'tobus', 'hydrat', 'boostbad', 'skyrocket', 'choc', 'ml', 'chamomil', 'genuin', 'volum', 'palmetto', 'capac', 'regain', 'ascorb', 'bug', 'happenst', 'cord', 'dupe', 'period', 'factor', 'molass', 'soooo', 'tutori', 'solar', 'keurig', 'adjust', 'seam', 'coq', 'grabbi', 'increment', 'shouldv', 'doze', 'couldv', 'sensori', 'depriv', 'tad', 'grumpi', 'chack', 'thursday', 'basement', 'dharma', 'bindu', 'ashoka', 'mahamadhya', 'bid', 'adieu', 'acharya', 'prep', 'rite', 'daastan', 'proud', 'hug', 'proudli', 'helena', 'mir', 'river', 'chosen', 'magadh', 'plot', 'gather', 'discipl', 'announc', 'sacrific', 'vain', 'enemi', 'ideolog', 'unit', 'keen', 'promot', 'drip', 'cat', 'counterfeit', 'basil', 'outcom', 'florastor', 'recomend', 'physician', 'seek', 'amp', 'largest', 'chop', 'bundl', 'vers', 'disaapoint', 'prioriti', 'dusti', 'rattl', 'unprotect', 'vertigo', 'courtesi', 'mingl', 'debri', 'karen', 'kish', 'hypoallergen', 'phenoxyethanol', 'ethanol', 'pocket', 'receivex', 'buckley', 'darkest', 'guarante', 'flax', 'reviv', 'hurri', 'chest', 'distinct', 'outdat', 'defici', 'sunflow', 'overcharg', 'gullet', 'unravel', 'ar', 'nitrotech', 'cholesterol', 'bothersom', 'deffici', 'exhaust', 'physic', 'partli', 'slimi', 'ng', 'receipt', 'lowest', 'deni', 'forthi', 'spasm', 'everytim', 'hr', 'cube', 'macadamia', 'misrepresent', 'premium', 'fair', 'appal', 'cbd', 'abus', 'itcoukd', 'sellerss', 'lug', 'dissatisfact', 'horrend', 'cleanser', 'mimic', 'advoc', 'rins', 'routin', 'toner', 'waterless', 'cleanli', 'among', 'debbi', 'lee', 'wesselmann', 'vile', 'pungent', 'cement', 'glop', 'scrape', 'gruel', 'punish', 'aback', 'kale', 'oatmilk', 'refrain', 'skittl', 'pinata', 'determind', 'disbelief', 'damn', 'ef', 'completli', 'luck', 'compens', 'frantic', 'nevertheless', 'liner', 'barrier', 'delic', 'undi', 'drippi', 'chafe', 'therapeut', 'coal', 'tar', 'pronounc', 'fade', 'lather', 'sud', 'band', 'spoil', 'funni', 'cheez', 'hmmm', 'echinacea', 'battl', 'ultra', 'lo', 'behold', 'shade', 'background', 'upgrad', 'viscou', 'evil', 'doorstep', 'splotch', 'harsh', 'smoke', 'smokey', 'sea', 'tastier', 'zzzquil', 'clay', 'birthday', 'mustv', 'extend', 'bummer', 'flexibl', 'chocolatey', 'offens', 'tylenol', 'pm', 'advil', 'relief', 'mover', 'sale', 'undesir', 'prove', 'apathet', 'unmotiv', 'tired', 'apathi', 'antidepress', 'action', 'ssri', 'om', 'human', 'craziest', 'understood', 'terrif', 'wanna', 'humong', 'rap', 'paw', 'frenzi', 'whew', 'virginia', 'cedarwood', 'texa', 'flea', 'risk', 'obeis', 'kg', 'height', 'skinner', 'shed', 'misrepres', 'cent', 'stinki', 'amd', 'east', 'havasu', 'worthless', 'aloecur', 'nexium', 'opramazol', 'stupid', 'dushav', 'un', 'unfair', 'pathet', 'decay', 'burlt', 'gasx', 'doenst', 'helo', 'transpar', 'blech', 'snap', 'tight', 'dextros', 'grade', 'steevia', 'kal', 'margarita', 'prompt', 'sciatica', 'shakeolog', 'teetg', 'doabl', 'boulardii', 'bunk', 'gnarli', 'drawn', 'optim', 'unsaf', 'fraud', 'illeg', 'swamp', 'decemb', 'f', 'fourth', 'repli', 'extremli', 'fantast', 'hay', 'coke', 'avg', 'english', 'bc', 'dot', 'polyethylen', 'interior', 'overpr', 'violat', 'clue', 'diann', 'r', 'ungermin', 'utterli', 'mediocr', 'aftercoat', 'reship', 'self', 'car', 'protocol', 'sucros', 'childlif', 'tour', 'livid', 'agreement', 'ugh', 'quo', 'fluoresc', 'anyclos', 'toobusi', 'arctic', 'snow', 'cone', 'flavorless', 'apprehens', 'punch', 'screw', 'vannila', 'moca', 'inaccur', 'recur', 'menopaus', 'carbon', 'drinkabl', 'blank', 'gimmick', 'thirsti', 'anxiou', 'soup', 'rapidli', 'otc', 'breach', 'oversight', 'discrep', 'smelli', 'inea', 'mag', 'crusti', 'sole', 'adaqu', 'reseal', 'zip', 'mil', 'select', 'badg', 'limeaid', 'wastedmi', 'diffrent', 'sink', 'narrow', 'sandi', 'pinpoint', 'vacuum', 'ten', 'group', 'treatabl', 'ordinari', 'roast', 'nowher', 'dumpster', 'draw', 'string', 'loo', 'fot', 'hugh', 'race', 'ferment', 'intuit', 'encourag', 'sadden', 'grime', 'film', 'thinner', 'leg', 'laundri', 'stain', 'unscrupul', 'uselesspil', 'deadlin', 'enrol', 'percent', 'impenetr', 'boulder', 'stanki', 'unsettl', 'shut', 'styrofoamish', 'breakabl', 'dispos', 'conduct', 'project', 'neglig', 'harvard', 'univers', 'atleast', 'hall', 'beg', 'tall', 'kitchen', 'overr', 'ninja', 'mixer', 'taffi', 'landfil', 'breakout', 'pwo', 'def', 'reimburs', 'jasmin', 'yea', 'hastl', 'inconvenientalso', 'weirdest', 'iodin', 'academi', 'pediatr', 'mildli', 'mykind', 'sept', 'productwhich', 'overbear', 'molten', 'veggicap', 'julep', 'mouthwash', 'squish', 'tho', 'follow', 'fertil', 'healthiest', 'turbo', 'multivitamn', 'northern', 'mid', 'southern', 'producto', 'incorrecto', 'alpha', 'refin', 'manafactur', 'ban', 'moldi', 'mildew', 'intedn', 'scan', 'foreign', 'object', 'squeez', 'investig', 'hdhdhd', 'tracker', 'ut', 'fluorid', 'qualit', 'genet', 'modifi', 'compound', 'jump', 'bridg', 'januari', 'abdomin', 'tissu', 'criticalof', 'grinder', 'grind', 'special', 'companion', 'school', 'oliv', 'tech', 'preform', 'pickup', 'puberti', 'monster', 'resort', 'satisfact', 'dnt', 'sulphur', 'ky', 'simultan', 'legitim', 'author', 'resel', 'whomev', 'nix', 'prebiot', 'worsen', 'penetr', 'cv', 'walgeen', 'knockoff', 'chunkc', 'zesti', 'grossest', 'disclaim', 'tray', 'lax', 'soften', 'glycol', 'miralax', 'osmot', 'polydextros', 'eas', 'defec', 'ratio', 'gi', 'propylen', 'glycolsom', 'creamsicl', 'nosi', 'naw', 'aukey', 'lockabl', 'lock', 'pysch', 'ct', 'recd', 'cheat', 'cholestoff', 'lil', 'impuls', 'ride', 'nuun', 'sunday', 'eve', 'ur', 'thicken', 'serum', 'alo', 'porcin', 'specifi', 'epic', 'coupon', 'messageyour', 'deliveredunfortun', 'damagedw', 'deriv', 'yeast', 'autoimmun', 'bill', 'fatigu', 'oppos', 'gatorad', 'y', 'cabinet', 'ptsd', 'bipolar', 'gripe', 'ketogen', 'advantag', 'fad', 'strictli', 'keton', 'tangi', 'ewweww', 'howeverthi', 'entertain', 'skunk', 'deaf', 'whopper', 'inositol', 'tonight', 'dismay', 'tact', 'perfor', 'minimum', 'crumb', 'nightshad', 'ashwaghanda', 'tomato', 'eggplant', 'potato', 'amber', 'granular', 'instanc', 'disturb', 'wad', 'disappont', 'whit', 'ritz', 'drag', 'nutribullet', 'swirl', 'purpl', 'yield', 'florida', 'ex', 'card', 'undeni', 'wafer', 'underton', 'incorpor', 'concret', 'porcelain', 'nightli', 'appoint', 'shakey', 'anti', 'town', 'tangerin', 'nonexist', 'swanson', 'soooooooo', 'delight', 'senna', 'eucalyptu', 'benefici', 'rubberi', 'pencil', 'eras', 'format', 'stun', 'complexion', 'dinner', 'wtf', 'carmel', 'ruffi', 'occas', 'strict', 'stall', 'corner', 'taint', 'megados', 'rda', 'congest', 'bodybuild', 'offici', 'bet', 'friday', 'cayenn', 'indest', 'spit', 'pointless', 'soybean', 'barf', 'shellfish', 'wost', 'mio', 'afterward', 'perfum', 'depth', 'qont', 'oyster', 'quicker', 'flew', 'countri', 'enclos', 'strangest', 'tightli', 'filthi', 'vitmin', 'octob', 'iskol', 'frustat', 'printer', 'blackberri', 'headl', 'tomorrow', 'whitley', 'azur', 'repuls', 'picolin', 'fell', 'gap', 'nerv', 'distribut', 'elast', 'soil', 'peed', 'outfit', 'execut', 'golif', 'dozen', 'clot', 'wha', 'temp', 'wqnt', 'nobodi', 'launch', 'subject', 'sandwich', 'spread', 'outga', 'wham', 'smack', 'diamet', 'lecithin', 'equival', 'sunk', 'gastro', 'sub', 'saltin', 'turtl', 'shipper', 'woohoo', 'pond', 'palett', 'naturalsfish', 'exit', 'alergi', 'coumarin', 'cinnamomum', 'burmannii', 'spoli', 'alter', 'diesel', 'fuel', 'element', 'trimest', 'realiti', 'kindli', 'piti', 'worm', 'clove', 'antacid', 'shaken', 'emptor', 'cheapo', 'rd', 'haphazard', 'christma', 'tornado', 'freshen', 'regim', 'rejuven', 'mechan', 'slime', 'whip', 'minti', 'condens', 'placement', 'dhea', 'bs', 'hiccup', 'disabl', 'incent', 'slightest', 'honesti', 'penni', 'pearl', 'epa', 'bloodwork', 'andv', 'ld', 'lieu', 'strain', 'thousand', 'comput', 'weekend', 'accumul', 'countless', 'exam', 'smoki', 'accur', 'tbh', 'introduc', 'program', 'pink', 'elderberri', 'seltzer', 'sambucu', 'telltal', 'slowest', 'evalu', 'oder', 'frankincens', 'methyl', 'undertast', 'sublingu', 'ath', 'supplemelt', 'thr', 'duti', 'pimpl', 'recib', 'nunca', 'el', 'pedido', 'solimno', 'pin', 'wall', 'maker', 'rush', 'shift', 'nurs', 'occasion', 'belch', 'bu', 'favorir', 'accid', 'yr', 'factori', 'comprehens', 'young', 'liar', 'pa', 'stumbl', 'familiar', 'rethink', 'mailer', 'lacklust', 'judg', 'male', 'pattern', 'bald', 'mile', 'tube', 'sunlight', 'fedex', 'rear', 'bumper', 'vehicl', 'walk', 'moral', 'resin', 'collect', 'regard', 'mar', 'glucosamin', 'exager', 'genit', 'inflam', 'contraind', 'associ', 'thiamin', 'riboflavin', 'chromium', 'pantothen', 'opt', 'expert', 'sprout', 'botan', 'assumpt', 'impact', 'balm', 'uterin', 'hydrocortison', 'owyn', 'displeas', 'bizzarr', 'useabl', 'inferior', 'correl', 'smartyp', 'util', 'undergo', 'dihydrofol', 'dhf', 'tetrahydrofol', 'thf', 'methylfol', 'untrustworthi', 'tangibl', 'capabl', 'expand', 'gol', 'underhand', 'tactic', 'misinform', 'scale', 'saturday', 'longest', 'dare', 'bacon', 'whiff', 'togetheraw', 'unpalat', 'weather', 'seven', 'influenc', 'soymilk', 'affili', 'recours', 'mega', 'nibbl', 'cri', 'mission', 'weightloss', 'gal', 'sweetner', 'aka', 'problemat', 'floss', 'nine', 'variabl', 'gasolin', 'wreak', 'approach', 'satur', 'squishi', 'turpentin', 'justifi', 'boom', 'tim', 'ei', 'natal', 'explan', 'mor', 'mysteri', 'blob', 'nitic', 'qc', 'bueno', 'phoni', 'knowingli', 'holiday', 'micron', 'awhil', 'groggi', 'refresh', 'pineappl', 'rx', 'shouldnt', 'ox', 'metamucil', 'bliss', 'unawar', 'recc', 'performix', 'scratch', 'arguabl', 'privat', 'alanin', 'ab', 'hardest', 'tew', 'anim', 'vit', 'emuls', 'insuffici', 'vegetarian', 'limb', 'specul', 'roman', 'legionnair', 'ration', 'backyard', 'slid', 'scali', 'abdomen', 'insulin', 'exfoli', 'detox', 'celeri', 'sparingli', 'trait', 'overlay', 'reflect', 'greater', 'beat', 'valid', 'trillion', 'transmitt', 'record', 'cellucor', 'freshest', 'indict', 'wareh', 'flow', 'nyc', 'shirt', 'therer', 'bf', 'welt', 'earl', 'labor', 'shard', 'accident', 'doc', 'consult', 'fibromyalgia', 'zipper', 'parad', 'beem', 'wheatgrass', 'spinach', 'vice', 'ocean', 'noooooo', 'postal', 'stingi', 'iserv', 'ki', 'bloodstream', 'starch', 'sift', 'unwel', 'mocha', 'cross', 'chickpea', 'enrout', 'estimai', 'brane', 'scre', 'bye', 'eeeeee', 'incomplet', 'netrush', 'sulfit', 'ourselv', 'misl', 'imho', 'summertim', 'palltabl', 'stomp', 'bonu', 'cell', 'furiou', 'idiot', 'wtfff', 'lasership', 'imag', 'briefli', 'tote', 'mv', 'spoke', 'expedit', 'safer', 'testosteron', 'reput', 'msg', 'via', 'chlorin', 'smth', 'alterard', 'tooth', 'chia', 'lifesav', 'unmix', 'subsequ', 'withdraw', 'bumblebe', 'torso', 'blog', 'pfizer', 'procedur', 'ordor', 'mect', 'rebiew', 'insul', 'entri', 'suspicion', 'swedish', 'oral', 'miggt', 'specteum', 'sonetim', 'prtein', 'statement', 'manor', 'retriev', 'dud', 'detect', 'tic', 'tac', 'repair', 'decubitu', 'patient', 'pouch', 'soupi', 'mucinex', 'nyquil', 'deturg', 'amunsur', 'eleg', 'flag', 'terror', 'bcca', 'evlut', 'toothpick', 'mde', 'fuse', 'junki', 'closest', 'septemb', 'bioavail', 'deem', 'lab', 'hemoglobin', 'dl', 'bisglycin', 'reportedli', 'pend', 'enlighten', 'rapid', 'acetaminophen', 'suit', 'licoric', 'frother', 'legit', 'dawg', 'rat', 'sing', 'daenyr', 'drogon', 'torch', 'westero', 'bath', 'cider', 'vinegar', 'graphic', 'radic', 'scar', 'houston', 'latt', 'fragil', 'brake', 'sauna', 'recal', 'flame', 'therapi', 'renew', 'slip', 'pulver', 'mash', 'thorough', 'coarser', 'overcom', 'nation', 'brag', 'thrill', 'tsa', 'bomb', 'detector', 'indianapoli', 'airport', 'greatli', 'devic', 'checkpoint', 'frisk', 'wand', 'flight', 'ziploc', 'unsurprisingli', 'cs', 'februari', 'pelvic', 'endometriosi', 'hiit', 'squirt', 'ew', 'sa', 'yourselv', 'whelm', 'teal', 'mike', 'obtain', 'roommat', 'focu', 'pang', 'ripoff', 'de', 'wildest', 'evenli', 'peak', 'creativ', 'sterat', 'stearatei', 'stearateit', 'knowi', 'youineseffect', 'stearateimag', 'healthyfocu', 'orgmagnesium', 'stearat', 'lubric', 'overdos', 'resembl', 'bat', 'pinkish', 'cuz', 'valerian', 'noteworthi', 'stubborn', 'plagu', 'dat', 'sidewalk', 'limeston', 'secondari', 'policiy', 'theyll', 'measli', 'discount', 'heartbroken', 'heaviest', 'stood', 'faith', 'knowest', 'comb', 'necessari', 'bold', 'dramat', 'scope', 'chuck', 'camomil', 'icepack', 'fifth', 'slept', 'magesium', 'nah', 'closur', 'tocopherol', 'acet', 'sucsin', 'determin', 'unnatur', 'occur', 'exist', 'tocotrienol', 'benedryl', 'swindl', 'authent', 'geranium', 'woodi', 'eo', 'reat', 'counteract', 'storefront', 'gess', 'pufa', 'pitti', 'sorta', 'cleanaherb', 'laxaherb', 'dissatisfi', 'buti', 'oxi', 'seafood', 'insist', 'event', 'delay', 'nest', 'naturalssup', 'conspiraci', 'theori', 'nozzl', 'heavili', 'stream', 'soda', 'chart', 'imbalanc', 'role', 'absent', 'pyridoxin', 'hydrochlorid', 'prescrib', 'bowl', 'runni', 'bike', 'pavement', 'weekli', 'kikland', 'logo', 'incredi', 'bargain', 'scrub', 'uncoat', 'cashew', 'goodby', 'bioperin', 'smarti', 'floati', 'lump', 'rotat', 'readili', 'pen', 'slipperi', 'elm', 'chocola', 'friendsi', 'cla', 'eatin', 'thoughtthat', 'visit', 'probe', 'camera', 'upload', 'necklac', 'bracelet', 'undilut', 'doterra', 'fiashi', 'marcona', 'distanc', 'virgin', 'sprig', 'folicacid', 'kool', 'mush', 'score', 'ugg', 'fo', 'motic', 'curv', 'bogu', 'footbal', 'trainer', 'basketbal', 'leagu', 'mma', 'stack', 'con', 'bcass', 'threeatin', 'juli', 'rst', 'anybodi', 'wallet', 'wider', 'undergar', 'outdoor', 'adher', 'fold', 'wing', 'whichev', 'brick', 'mortar', 'dull', 'letter', 'unread', 'maintain', 'meanwhil', 'bulkier', 'cappuccino', 'rougher', 'hed', 'receptor', 'mispul', 'rectifi', 'situat', 'bush', 'disgrac', 'john', 'carrigan', 'itemno', 'aroma', 'irresist', 'citizen', 'petit', 'jetlag', 'chicori', 'sketchi', 'effici', 'copi', 'advanc', 'mt', 'inabl', 'ensur', 'snug', 'longev', 'firmli', 'affix', 'glu', 'pastur', 'passion', 'disgustingli', 'unhealthi', 'enrich', 'undepend', 'anem', 'domin', 'disagre', 'urg', 'justic', 'jet', 'lag', 'rocki', 'retch', 'disintegr', 'lifestyl', 'compress', 'elbow', 'closeri', 'progress', 'cystic', 'behav', 'suspect', 'chelat', 'alkalin', 'stage', 'zen', 'electr', 'machin', 'ph', 'behavior', 'tate', 'separar', 'reli', 'fullfil', 'tingl', 'disjoint', 'fatti', 'glanc', 'breakdown', 'elud', 'blatantli', 'leakag', 'cowork', 'unprofession', 'unsanitari', 'md', 'significantli', 'bovin', 'silicon', 'dioxid', 'middlemen', 'inaccuraci', 'donat', 'plasma', 'steak', 'broccoli', 'flash', 'monday', 'overh', 'bone', 'spell', 'uggh', 'bht', 'butan', 'fd', 'earth', 'itll', 'caplet', 'gc', 'technic', 'milki', 'muski', 'gravi', 'anticip', 'wari', 'relat', 'cleanlabelproject', 'sunkist', 'pretzel', 'whoever', 'merchant', 'tore', 'drawstr', 'merchandis', 'wayyyi', 'unapp', 'visual', 'ra', 'anchovi', 'robberi', 'undercut', 'shave', 'protien', 'insect', 'argh', 'mete', 'puddl', 'amth', 'waaaay', 'jergen', 'lighter', 'syrupi', 'fisherman', 'jockstrap', 'abomin', 'flawless', 'boycott', 'vote', 'az', 'lengthwis', 'mckesson', 'coul', 'thatso', 'requirementswhich', 'takesi', 'vitaninsalso', 'pottasium', 'needl', 'gerd', 'reglan', 'fennel', 'oreganol', 'rxbar', 'thinkthin', 'disast', 'haphazardli', 'supermarket', 'noon', 'pooper', 'storm', 'probiotoc', 'inconten', 'halt', 'text', 'upstair', 'shower', 'unsalt', 'crisi', 'pallet', 'gastrointestin', 'manli', 'dfferenc', 'fpo', 'apo', 'untwist', 'mfd', 'casein', 'odorless', 'cloyingli', 'profil', 'moister', 'fewer', 'lengthi', 'ewg', 'benzoat', 'highchair', 'toy', 'discern', 'absenc', 'iffi', 'optimist', 'uc', 'ii', 'thu', 'sister', 'peer', 'snif', 'migrain', 'damp', 'gunshot', 'grassi', 'thee', 'declin', 'imit', 'former', 'latter', 'grabbingli', 'ador', 'whine', 'shockingli', 'ecstat', 'sue', 'tu', 'cosco', 'resid', 'hoov', 'proven', 'canari', 'simpl', 'overboard', 'fabul', 'smith', 'tighten', 'journal', 'immediatli', 'bp', 'kerosen', 'judgment', 'aspirin', 'daycar', 'sprinkl', 'patchi', 'gooood', 'deploy', 'kuwait', 'unsustain', 'diagnos', 'barcod', 'inoffens', 'memor', 'tang', 'casual', 'sirbitol', 'sorbitol', 'abandon', 'thunder', 'montg', 'neglect', 'adderal', 'pepto', 'agoni', 'baglid', 'bustedin', 'calcul', 'roughli', 'bot', 'yup', 'field', 'mmmgood', 'jojoba', 'furnitur', 'desk', 'wind', 'holist', 'irrespons', 'path', 'emergenzzzz', 'neuro', 'optinum', 'maggot', 'swerv', 'permeat', 'marin', 'whack', 'twitch', 'irrat', 'seeth', 'noropothi', 'fior', 'render', 'fog', 'preship', 'epson', 'slit', 'arizona', 'sake', 'takin', 'citrat', 'liabl', 'lilcritt', 'minion', 'zarbe', 'fend', 'unchart', 'territori', 'underlin', 'italic', 'centimet', 'plume', 'shoot', 'presto', 'ferrou', 'bi', 'glycin', 'samez', 'meter', 'flutter', 'drunk', 'tryna', 'epipen', 'expel', 'wheez', 'leucin', 'korintj', 'boswellia', 'flare', 'rebal', 'advocar', 'spark', 'yarf', 'bannana', 'pancrea', 'theater', 'nutriti', 'alzheim', 'denni', 'salad', 'blot', 'onion', 'greenleaf', 'lightli', 'assort', 'anesthet', 'gape', 'gigant', 'halv', 'offput', 'doorbel', 'rung', 'suppliment', 'neurotransmitt', 'phd', 'neuropharmacologist', 'precursor', 'descriptionkirkland', 'enter', 'spous', 'druggist', 'femal', 'omfg', 'garlic', 'absurdli', 'liabil', 'govern', 'buttol', 'lara', 'accompani', 'revisit', 'fraudul', 'turnoff', 'shortchang', 'disput', 'usless', 'vitmain', 'ewww', 'juven', 'rehab', 'scx', 'technolog', 'moron', 'vitex', 'menstrual', 'irregular', 'uneasi', 'og', 'aspart', 'swap', 'homebound', 'garabg', 'vera', 'dgl', 'monthli', 'plead', 'jillian', 'michael', 'drill', 'prohydrolas', 'tm', 'aceslfam', 'satisfactori', 'steal', 'suprem', 'distend', 'tread', 'trial', 'incas', 'unclear', 'deceit', 'ladi', 'surviv', 'revolt', 'grief', 'rachel', 'shepherd', 'pie', 'trifl', 'embodi', 'plug', 'tortur', 'preffer', 'nside', 'cnd', 'vinylux', 'topcoat', 'blast', 'internet', 'butterscotch', 'hazelnut', 'namesak', 'sunscreen', 'doorway', 'gala', 'saver', 'buffer', 'chicken', 'slimfast', 'inulin', 'consensu', 'krill', 'fishiest', 'cereal', 'kroger', 'meijer', 'stove', 'shew', 'benefiti', 'drugstor', 'lutein', 'endur', 'remark', 'electron', 'lt', 'zeaxanthin', 'isom', 'beeswax', 'gaia', 'chlorophyl', 'cellulos', 'mealsquantum', 'digit', 'bee', 'carob', 'allright', 'reishi', 'educ', 'essenc', 'dime', 'thereabout', 'po', 'plum', 'nornal', 'stabl', 'itthi', 'stamina', 'lookout', 'hunt', 'mannitol', 'sobitol', 'anhydrid', 'titanium', 'central', 'secret', 'gambl', 'outweigh', 'sock', 'mo', 'ile', 'emphasi', 'pudgi', 'bact', 'inf', 'nearolog', 'hallucin', 'wierd', 'nectar', 'ju', 'promin', 'callednatur', 'admit', 'border', 'larceni', 'pud', 'akin', 'iu', 'retinyl', 'palmit', 'caroten', 'ding', 'sigh', 'lenni', 'emerg', 'mad', 'manuka', 'peroxid', 'grandson', 'lame', 'gate', 'climb', 'barbwir', 'hypertens', 'sooth', 'braun', 'fraction', 'creamer', 'sank', 'marjoram', 'spici', 'blenderbottl', 'metric', 'secondli', 'dish', 'luke', 'salesmanship', 'booooooooo', 'thread', 'extens', 'profit', 'uber', 'congeal', 'overlook', 'cane', 'sight', 'allegedli', 'bow', 'ble', 'der', 'peolpl', 'ruptur', 'alaskan', 'salmon', 'stabil', 'bead', 'ny', 'drawback', 'labdoor', 'peachi', 'splurg', 'oarmeal', 'outbreak', 'nylon', 'metter', 'dodgi', 'mistaken', 'becu', 'frankli', 'disapoint', 'bricki', 'chief', 'hd', 'calor', 'strenuou', 'excercis', 'restrict', 'bleh', 'crunch', 'disolv', 'metamucel', 'stir', 'neutrogena', 'hydro', 'delivereda', 'zit', 'nickel', 'prohibit', 'smelliest', 'stunk', 'vanish', 'sh', 'whop', 'oxymoron', 'canola', 'sturdi', 'disclos', 'disclosur', 'sooner', 'rub', 'california', 'prop', 'traet', 'chaf', 'compliant', 'tempera', 'rashi', 'jb', 'predomin', 'virtual', 'putrid', 'op', 'debitt', 'beer', 'lactat', 'xray', 'cocktail', 'borag', 'saute', 'minc', 'toast', 'recogniz', 'asian', 'scinc', 'verifi', 'sho', 'nuff', 'dude', 'resend', 'iherb', 'prouduct', 'silver', 'everyong', 'opportun', 'purest', 'kcal', 'competitorfat', 'bothcarb', 'gprotein', 'gsodium', 'competitoringredi', 'competitior', 'built', 'conclus', 'prod', 'forklift', 'van', 'spin', 'consecut', 'armpit', 'phoney', 'ancient', 'contend', 'tuck', 'buyingth', 'hirribl', 'fitmiss', 'airplan', 'incom', 'plastici', 'glutathion', 'unpad', 'famous', 'pharma', 'wrinkli', 'ziplock', 'nervou', 'notrop', 'hs', 'student', 'switchet', 'unbeat', 'nootrop', 'boggl', 'lysol', 'hypothet', 'primarili', 'yuckier', 'aspartam', 'doodoo', 'flake', 'camt', 'farther', 'excruci', 'connect', 'rheumatoid', 'bergamot', 'sicken', 'infin', 'model', 'snail', 'farm', 'naiv', 'scenario', 'hastili', 'weav', 'iin', 'tasteexpensiveway', 'grame', 'laughabl', 'viva', 'suffici', 'mercuri', 'mistakenli', 'contin', 'vastlli', 'candyd', 'ceral', 'vastli', 'praulin', 'flaor', 'cowboy', 'redemt', 'vitamix', 'pois', 'pricq', 'greentea', 'bootl', 'cellophan', 'collar', 'bearabl', 'viabl', 'booti', 'borderlin', 'batteri', 'leisur', 'notch', 'despis', 'savag', 'basin', 'ceram', 'humidifi', 'sickingli', 'gumdrop', 'primros', 'greenish', 'sanitari', 'servingswhey', 'puf', 'parchment', 'attend', 'wed', 'url', 'lavandula', 'angustifolia', 'evapor', 'chines', 'la', 'mandalay', 'bay', 'hotel', 'annual', 'flavo', 'acryl', 'kevin', 'hutton', 'darci', 'forest', 'drivesilv', 'maryland', 'khutton', 'aol', 'sickeningli', 'soylent', 'chalkier', 'judgement', 'hush', 'puppi', 'poke', 'absorbt', 'magensium', 'fairlif', 'humid', 'chondroitin', 'msm', 'sorter', 'compart', 'gear', 'goof', 'butterbur', 'wth', 'lawsuit', 'rewrap', 'tastebud', 'lube', 'flang', 'breastpump', 'seri', 'instal', 'reinstal', 'irwin', 'honeztli', 'ersatz', 'unecessari', 'waaaaay', 'comm', 'ci', 'regrew', 'preciou', 'regrowth', 'cigarett', 'ashtray', 'inevit', 'fond', 'invent', 'wean', 'forti', 'astronom', 'wager', 'popcorn', 'brief', 'employe', 'vagina', 'blunt', 'nanni', 'ass', 'subsidiari', 'packer', 'supervis', 'cushion', 'featur', 'owner', 'dizz', 'spite', 'lodg', 'gwen', 'meriden', 'alexa', 'pat', 'christolini', 'pkchcc', 'cox', 'cuppa', 'danc', 'treadmil', 'intensifi', 'debt', 'dilig', 'crummi', 'retreiv', 'digreas', 'capcasin', 'diasappoint', 'publish', 'hip', 'anaconda', 'goat', 'dine', 'gastriti', 'carpet', 'mop', 'rot', 'rug', 'hardwood', 'rent', 'baffl', 'proceed', 'frame', 'gasket', 'tank', 'tinker', 'ooh', 'glide', 'smoothli', 'prank', 'proport', 'cling', 'dermat', 'hairlin', 'aggrav', 'disinfect', 'gastroparesi', 'greas', 'recommenc', 'nuktivitamin', 'similiar', 'branch', 'unidenti', 'naturewis', 'encapsul', 'browni', 'umm', 'shrug', 'kosher', 'trim', 'frond', 'core', 'pkg', 'nvr', 'wasdeliv', 'confer', 'amzn', 'merg', 'hung', 'lozeng', 'usal', 'sucker', 'breast', 'headachc', 'al', 'puffi', 'mehh', 'wrist', 'girlfriend', 'bedridden', 'pray', 'slushi', 'creami', 'vitamelt', 'suclar', 'shi', 'milkshak', 'billion', 'pronto', 'pharmci', 'utter', 'pwn', 'logist', 'baker', 'sludg', 'rope', 'attorney', 'recvd', 'grower', 'squat', 'ldl', 'abhorr', 'allegra', 'costli', 'ppl', 'gastrtiti', 'zma', 'allerclear', 'bounc', 'excus', 'truth', 'ididnt', 'unparallel', 'unregul', 'whose', 'mobil', 'app', 'changer', 'tenfold', 'alongwith', 'fetu', 'gyn', 'henc', 'prenatalsfin', 'thoughtsi', 'upfront', 'globe', 'fakespot', 'involv', 'orangey', 'emergenc', 'divid', 'realis', 'nonstop', 'esophag', 'interv', 'undoubtedli', 'germin', 'unsprout', 'unpleasur', 'america', 'ehhh', 'reflex', 'filter', 'senn', 'ley', 'horriabl', 'allevi', 'aliv', 'condom', 'barley', 'energet', 'usuallt', 'waxi', 'purport', 'iam', 'unknowli', 'garag', 'tougher', 'facemask', 'importantli', 'mist', 'charact', 'scummi', 'heavier', 'king', 'tryptophan', 'cleanest', 'rbgh', 'rbst', 'justm', 'anytim', 'idead', 'shorten', 'moth', 'hmm', 'addsom', 'financ', 'til', 'cellular', 'tjmaxx', 'marshal', 'epsom', 'musti', 'peppercorn', 'tellicherri', 'thew', 'milder', 'fuss', 'variant', 'xplode', 'sweeet', 'wherev', 'softest', 'sate', 'mejorar', 'dejarlo', 'en', 'casa', 'repartidor', 'tocaron', 'timbr', 'nosotro', 'estuvimo', 'todo', 'tiempo', 'ah', 'bolsa', 'estaba', 'abierta', 'aunqu', 'si', 'se', 'encontr', 'perinat', 'desicc', 'nil', 'steadi', 'goer', 'sjogren', 'syndrom', 'host', 'ojibwa', 'infant', 'butyon', 'vinilla', 'eww', 'inconclus', 'juri', 'sleeper', 'logic', 'awaken', 'sleepless', 'primal', 'wednesday', 'defrost', 'await', 'nonsolu', 'batman', 'dinosaur', 'preach', 'muddi', 'hadit', 'gaurente', 'unapologet', 'leas', 'flaw', 'bloodi', 'wholli', 'midwif', 'scentless', 'septic', 'flushabl', 'botll', 'evenvelop', 'dripper', 'pretend', 'esophagu', 'scammer', 'imvho', 'origina', 'fluctuat', 'hypersomnia', 'eagl', 'loooooovvv', 'jag', 'utensil', 'mucu', 'similac', 'enfamil', 'bottlei', 'firstli', 'tong', 'slot', 'frugal', 'hooray', 'yoo', 'ey', 'spore', 'snickerdoodl', 'sweent', 'sholder', 'kotek', 'uigi', 'vitacrav', 'bayer', 'cousin', 'attest', 'unchang', 'outrag', 'leaflet', 'rl', 'carton', 'sanit', 'fragrant', 'detach', 'shiva', 'shrieval', 'dedic', 'persist', 'kneecap', 'collarbon', 'anaphylaxi', 'threshold', 'trend', 'cluster', 'beforehand', 'horni', 'weed', 'nether', 'horsetail', 'punta', 'cana', 'evoo', 'insomniac', 'yawn', 'chi', 'repeatedli', 'amazo', 'submiss', 'guidelinesnew', 'wholemega', 'astaxanthin', 'sustain', 'david', 'bottlearriv', 'insofar', 'paquet', 'gentlemen', 'apt', 'cutmi', 'dietician', 'typo', 'ergocalciferol', 'ne', 'dfe', 'iodid', 'carrot', 'cucumb', 'overdr', 'simplifi', 'gyno', 'panoxyl', 'floral', 'unholi', 'trivial', 'roadkil', 'thereaft', 'multivit', 'quot', 'compris', 'brightli', 'complement', 'unremark', 'bout', 'orient', 'clip', 'arnica', 'blotchi', 'vegasport', 'overload', 'resist', 'west', 'crud', 'fl', 'cater', 'speck', 'orgain', 'cfu', 'vitaminshopp', 'inept', 'criteria', 'decidedli', 'desert', 'artic', 'swansson', 'combat', 'lethargi', 'troat', 'dislodg', 'remodel', 'sugarbearhair', 'neccesari', 'icey', 'crimin', 'cotton', 'accidentali', 'taiwan', 'booster', 'libido', 'jusst', 'chile', 'adress', 'malaga', 'condessantiagochileatt', 'gonzalo', 'cavada', 'orim', 'delet', 'crumpl', 'bankrupt', 'principl', 'scum', 'vanillaim', 'laugh', 'thoughi', 'shortcom', 'carbscon', 'involuntari', 'tortuou', 'debilit', 'dice', 'horror', 'goop', 'trashcan', 'tie', 'tempetur', 'ragwe', 'cannist', 'qa', 'interlock', 'chisel', 'lightn', 'curl', 'belong', 'swim', 'rebuild', 'ridg', 'takenot', 'tastecon', 'jarrow', 'acceler', 'timelin', 'whyyyy', 'loosen', 'impur', 'purif', 'massag', 'liber', 'allov', 'growingth', 'straw', 'camel', 'minoxidil', 'drown', 'antibiot', 'defraud', 'peptid', 'alkali', 'xanthan', 'enzyplex', 'papain', 'amylas', 'noooop', 'robust', 'tyrosin', 'panacea', 'histori', 'platinum', 'gaba', 'elit', 'conclud', 'desper', 'airway', 'gladli', 'jigsaw', 'magsrt', 'diagon', 'rib', 'supplimnet', 'oatmega', 'buff', 'diebet', 'massachusett', 'prud', 'musclemilk', 'projym', 'unison', 'sliver', 'pk', 'lust', 'beginn', 'cooti', 'hitch', 'movi', 'swig', 'bec', 'fda', 'wine', 'jewelleri', 'secondarili', 'zeal', 'carnitin', 'inquiri', 'sincer', 'enzymat', 'mannos', 'burb', 'durat', 'viru', 'twelv', 'forewarn', 'countin', 'lactic', 'matt', 'colour', 'labl', 'tapioca', 'premier', 'mi', 'slick', 'exterior', 'citranat', 'thatwont', 'cerav', 'cetyl', 'lauryl', 'stearyl', 'hydroxyacetophenon', 'hydroxid', 'withstand', 'warmer', 'motto', 'ahould', 'boroglucon', 'hypocalcemia', 'livestock', 'kicker', 'aspar', 'pediatrician', 'masti', 'dint', 'husbrand', 'kmow', 'purolog', 'costo', 'bullshit', 'harsher', 'superglu', 'cetapihl', 'unstick', 'protector', 'rant', 'pose', 'planet', 'carefre', 'pantilin', 'heavey', 'magnet', 'neodymium', 'sweep', 'phood', 'fianc', 'reced', 'beard', 'fuller', 'pace', 'incess', 'bumpi', 'allergist', 'incident', 'nonetheless', 'qith', 'grr', 'dock', 'drove', 'corridor', 'beaten', 'stare', 'peski', 'slower', 'irrelev', 'discuss', 'clock', 'gimmicki', 'capsaicin', 'devot', 'nutrab', 'kudo', 'jam', 'courag', 'degrad', 'keilman', 'salmonella', 'augment', 'buhh', 'anway', 'bin', 'superpump', 'dismiss', 'debat', 'eczema', 'noseble', 'harmless', 'traumat', 'hyster', 'endless', 'nitric', 'yassss', 'esspresso', 'cafien', 'midst', 'cacao', 'mug', 'workplac', 'bicycl', 'mastic', 'goug', 'wayyy', 'swoll', 'alll', 'cleansaherb', 'cloudi', 'journey', 'clen', 'graden', 'splint', 'withstood', 'stringi', 'printgood', 'slimmer', 'hypoallergenicaffordablecon', 'tatter', 'raggedi', 'immobil', 'strenghen', 'z', 'spout', 'starv', 'coment', 'ironish', 'fierc', 'ughhh', 'p', 'respiratori', 'comprehend', 'photograph', 'argu', 'coco', 'stank', 'cottenel', 'linti', 'oralbiot', 'attract', 'ensepar', 'strand', 'expans', 'madei', 'upcom', 'psyillium', 'delier', 'haent', 'mumer', 'teas', 'bulli', 'yellowbin', 'soggi', 'cheerio', 'milligram', 'payment', 'squeamish', 'snappi', 'j', 'ello', 'farmtot', 'lmao', 'doo', 'creepi', 'ghost', 'haunt', 'spirit', 'invis', 'projectil', 'ricochet', 'tamp', 'reallllli', 'paranorm', 'veng', 'dammit', 'ribey', 'tn', 'decor', 'ect', 'lung', 'mason', 'addict', 'moreov', 'broom', 'mow', 'surround', 'quantit', 'discourag', 'misalign', 'vcap', 'ankl', 'paint', 'adulter', 'tap', 'molar', 'stickier', 'moonshin', 'smoother', 'creamier', 'pork', 'erron', 'tel', 'overspend', 'shook', 'ala', 'greyish', 'superfood', 'cheesecak', 'tastr', 'wonki', 'acai', 'flabergast', 'overpack', 'overfil', 'nitro', 'comprabl', 'engeri', 'dehydr', 'begun', 'menstur', 'abras', 'lotteri', 'bo', 'disspiat', 'deo', 'lavelin', 'cholesteroff', 'uneth', 'homemad', 'aromatherapi', 'softbal', 'bsn', 'unchil', 'giver', 'shabbi', 'haha', 'quercetin', 'tendon', 'spec', 'gender', 'stiffer', 'densiti', 'pastel', 'nit', 'woulf', 'hve', 'changet', 'lye', 'et', 'sucrolos', 'stapl', 'cruis', 'seasick', 'sway', 'rental', 'speeddislik', 'coldpack', 'articifi', 'dough', 'applaud', 'commit', 'unheard', 'inadequ', 'resourc', 'nearest', 'citi', 'bleach', 'aminogen', 'chocolati', 'legendari', 'deeper', 'fortifi', 'tieraona', 'cvitamin', 'chlorid', 'infrequ', 'postmenopaus', 'synergi', 'ethic', 'glove', 'neurochemistri', 'neuropharmacolog', 'meaning', 'ugli', 'rework', 'tastei', 'againtast', 'goodi', 'ester', 'gaggi', 'downhil', 'crappin', 'deadlift', 'prostat', 'ubersweet', 'sender', 'inflammatori', 'coliti', 'foggi', 'overus', 'timefram', 'glowon', 'multivitaminsthes', 'sculpt', 'conjug', 'linol', 'modest', 'hustl', 'gm', 'peep', 'shove', 'sneak', 'indulg', 'chiari', 'seizur', 'happili', 'menstruat', 'prune', 'noisi', 'cutesofturin', 'stripetru', 'sizenot', 'huggiescon', 'nois', 'treasur', 'plantar', 'cheapcon', 'customercal', 'vaselin', 'hemorrhoid', 'revamp', 'yucko', 'salvag', 'trail', 'raisin', 'postnat', 'panick', 'verg', 'butteri', 'data', 'aug', 'quaker', 'quakergreat', 'endocrinologist', 'wayyyyy', 'crawl', 'escal', 'pixi', 'illustr', 'infinit', 'wisdom', 'straighten', 'fiasco', 'succeed', 'slipshod', 'effin', 'jip', 'puls', 'rage', 'nautio', 'class', 'feld', 'linen', 'graciou', 'san', 'rawfus', 'es', 'lymphat', 'drainag', 'dangerousthey', 'onlinethey', 'dateor', 'spare', 'headachetak', 'skimpi', 'unfavor', 'ochi', 'ouch', 'pood', 'walli', 'wrestl', 'drift', 'tooooo', 'producti', 'awfulso', 'clash', 'jun', 'sep', 'contribut', 'thaw', 'warp', 'rainbow', 'unwant', 'voicemail', 'noup', 'falsifi', 'sugarfre', 'liek', 'yeck', 'selfish', 'antioxid', 'closet', 'lint', 'rule', 'sayin', 'dove', 'adag', 'motel', 'sitck', 'difer', 'slammedit', 'sap', 'lok', 'barg', 'alaska', 'estim', 'hotdog', 'august', 'nn', 'whin', 'dealt', 'norm', 'diphenhydramin', 'circumst', 'unlock', 'gerald', 'chasin', 'chasingerald', 'gmail', 'easthampton', 'ewest', 'kratom', 'interrog', 'suffic', 'probelm', 'optimen', 'gluey', 'trepid', 'natru', 'hottest', 'nc', 'cupboard', 'sniff', 'german', 'nupro', 'kibbl', 'sabotag', 'scorch', 'atkin', 'boo', 'wagon', 'burger', 'cring', 'bond', 'ecxit', 'menatonin', 'gorgeou', 'ploy', 'standbi', 'consol', 'breez', 'rebuy', 'bruis', 'uffff', 'island', 'breastf', 'mamabear', 'contour', 've', 'toughen', 'prolong', 'gage', 'overkil', 'sheep', 'wool', 'shear', 'exclud', 'asham', 'lichen', 'disappointng', 'mill', 'tricki', 'nsaid', 'cholin', 'dealbreak', 'thyroid', 'mayber', 'sloppi', 'reg', 'rollersand', 'hypothyroid', 'mondi', 'brisk', 'lipton', 'adapt', 'exagger', 'grandmoth', 'germtrol', 'chili', 'liken', 'biscuit', 'zyme', 'esp', 'theee', 'enthusiast', 'worthi', 'paraplegia', 'consequenti', 'wk', 'tension', 'migran', 'pine', 'jitti', 'flask', 'phosphadidyl', 'bottim', 'vsg', 'redund', 'colon', 'upward', 'sinus', 'selenium', 'mesh', 'arthrit', 'cbo', 'unplan', 'worser', 'amazingli', 'runner', 'unsuccess', 'scratchi', 'costun', 'buildup', 'limp', 'worker', 'swole', 'progesteron', 'ben', 'gay', 'tacki', 'monstros', 'prodcut', 'disregard', 'discreet', 'blister', 'vibrant', 'froma', 'dermatologist', 'pimpli', 'comedogen', 'freewhen', 'opaqu', 'washcloth', 'amen', 'wen', 'ecleans', 'tome', 'tumric', 'albeit', 'pj', 'aveeno', 'sauv', 'clorox', 'laptop', 'mous', 'keyboard', 'countertop', 'roof', 'uh', 'joker', 'bbq', 'idealshak', 'session', 'chase', 'tug', 'mascara', 'endedup', 'mgo', 'tasteon', 'japan', 'radiat', 'nuke', 'meltdown', 'raid', 'noxema', 'sunburn', 'crisp', 'sarna', 'liquidi', 'spider', 'buggi', 'kin', 'mixerstay', 'gosh', 'receptionist', 'isagenix', 'evacu', 'kickstart', 'carniv', 'laboratori', 'behest', 'cumbersom', 'saccharin', 'momma', 'reccommend', 'eek', 'objection', 'dopamin', 'reserv', 'crucial', 'neurolog', 'neural', 'spina', 'bifida', 'anencephali', 'vet', 'anal', 'gland', 'tahini', 'salsa', 'caster', 'backpack', 'boot', 'camp', 'isopur', 'colder', 'freakin', 'implant', 'automat', 'permiss', 'client', 'metimucil', 'thc', 'cantaloup', 'neatli', 'proaduct', 'bing', 'cumul', 'mediciney', 'worn', 'niec', 'gall', 'bladder', 'tunnel', 'applianc', 'vodka', 'swallor', 'playtex', 'tampon', 'optimimum', 'inject', 'chaulki', 'johnson', 'clarif', 'inhabit', 'chemtrail', 'aluminum', 'barium', 'strontium', 'steril', 'foe', 'unmark', 'cast', 'uneligbl', 'cornstarch', 'seemingli', 'superflu', 'soundli', 'hydrolyz', 'steamer', 'chemotherapi', 'applesauc', 'depot', 'crepe', 'abid', 'valley', 'neighborhood', 'ovul', 'cohash', 'leach', 'ness', 'spf', 'commut', 'osteoporosi', 'gun', 'tick', 'ramon', 'jeez', 'commonli', 'mari', 'kansa', 'resent', 'capsulesbi', 'solgar', 'advert', 'deterr', 'wal', 'mart', 'colostrum', 'gmp', 'diagnosi', 'trashx', 'myrrh', 'jul', 'omgwhich', 'avocado', 'dishearten', 'conseal', 'startl', 'tender', 'ai', 'aweful', 'coach', 'oncologist', 'shopp', 'habpv', 'flavorbi', 'commend', 'divers', 'agh', 'planter', 'entranc', 'loop', 'wrought', 'poarch', 'conceal', 'reprimand', 'jcgroff', 'acv', 'interact', 'mute', 'bitch', 'physiolog', 'sweetnessconsid', 'quickeri', 'premad', 'stave', 'urinari', 'detract', 'nasal', 'transact', 'gyro', 'conterfeit', 'fest', 'flaovor', 'tampax', 'sharpish', 'mgomega', 'ketosi', 'howeven', 'toenail', 'heartbeat', 'imbal', 'acerola', 'gro', 'robotusin', 'knuckl', 'flavora', 'cohosh', 'pale', 'laneig', 'bank', 'stomacheach', 'drizzl', 'dy', 'impostor', 'instor', 'wretch', 'herbi', 'thumb', 'litter', 'fume', 'petrochem', 'gr', 'xn', 'gaug', 'lutemax', 'marigold', 'pinto', 'coars', 'aidleyco', 'unknow', 'afterimag', 'oj', 'fairoveral', 'immunecon', 'toeat', 'elmer', 'fudd', 'castor', 'ultrar', 'illegitim', 'ant', 'tx', 'sack', 'hourli', 'wage', 'pesto', 'bismol', 'uphappi', 'fav', 'mehhhh', 'taper', 'pricier', 'microbiom', 'damang', 'tinfoil', 'passabl', 'uneaten', 'administ', 'glowstick', 'discoveri', 'dryer', 'stat', 'artif', 'commom', 'knot', 'ymmv', 'fenugreek', 'mushroomi', 'recwiv', 'replic', 'deficit', 'apocalyps', 'linse', 'xtend', 'supercharg', 'phenoxythanol', 'wooden', 'span', 'pr', 'earwax', 'woodgrain', 'overrun', 'larri', 'sin', 'dillut', 'feasibl', 'adel', 'davi', 'awkward', 'cypress', 'cautious', 'jmaz', 'childhood', 'intellectu', 'solomino', 'spendi', 'merit', 'threaten', 'healthcar', 'foundat', 'overdo', 'mane', 'shudder', 'xssential', 'xssentail', 'speckl', 'writer', 'shizzz', 'parcel', 'cafe', 'campu', 'disovl', 'cassia', 'ceylon', 'cheesi', 'cheddar', 'optionsthey', 'institut', 'highlight', 'manufacturerwat', 'dimethicon', 'distearyldimonium', 'hydroxyethyl', 'urea', 'barbadensi', 'cyclopentasiloxan', 'cetearyl', 'behentrimonium', 'methosulf', 'glyceryl', 'gluceth', 'avena', 'sativa', 'kernel', 'chamomilla', 'recutita', 'matricaria', 'bisabolol', 'zingib', 'officinal', 'tocopheryl', 'crosspolym', 'ascorbyl', 'phosphat', 'polysorb', 'stearamidopropyl', 'pg', 'dimonium', 'butyrospermum', 'parkii', 'steareth', 'panthenol', 'butylen', 'disodium', 'edta', 'benzyl', 'serrata', 'dipropylen', 'triethyl', 'octinox', 'pollut', 'oxybenzon', 'dress', 'blueraspberri', 'laureth', 'supertast', 'cest', 'vie', 'butterfli', 'reveal', 'ca', 'fingerprint', 'unexpir', 'microbead', 'wildlif', 'oddli', 'salicyl', 'pubesc', 'schooler', 'absolutli', 'silomo', 'align', 'futil', 'harshli', 'grandma', 'sandpap', 'methylchorloisthiazolin', 'methylisohiazolinon', 'mice', 'err', 'kiss', 'bittersweet', 'micellular', 'suttl', 'anabol', 'overtim', 'bpi', 'shitti', 'interestingli', 'tween', 'proce', 'specialist', 'nutriplustea', 'nutiplustea', 'wire', 'zap', 'consequ', 'shiver', 'ceil', 'voluntarili', 'necess', 'iodiz', 'godhead', 'career', 'amt', 'razz', 'razzberri', 'swing', 'ewwww', 'thou', 'velvet', 'overlap', 'saint', 'wort', 'huel', 'churn', 'swore', 'cheapen', 'quietli', 'joy', 'deffrent', 'pagag', 'fasten', 'ini', 'oenni', 'researh', 'velcro', 'unseemli', 'predict', 'ooof', 'flintston', 'govt', 'avenu', 'abtain', 'increa', 'finest', 'bulb', 'tinctur', 'volumin', 'inconvenienc', 'gauz', 'creep', 'coolaid', 'caddi', 'snot', 'frito', 'mk', 'smother', 'miiiiight', 'media', 'nutiva', 'ubiquinol', 'imper', 'weil', 'introduct', 'soapmak', 'innov', 'waffl', 'flakey', 'dtore', 'thoroughli', 'seep', 'noooooooooo', 'runnfast', 'lifelong', 'safest', 'bizarr', 'hunk', 'shopper', 'spruce', 'conflict', 'stalebut', 'thet', 'psycholog', 'manual', 'bv', 'ti', 'fishoil', 'hoop', 'hardback', 'hose', 'tblsp', 'tsp', 'bypass', 'chaser', 'coward', 'wack', 'stray', 'brrrr', 'evenbeauti', 'maov', 'cotsco', 'transport', 'odour', 'bla', 'charcoal', 'malodextrin', 'flovor', 'againeven', 'oversea', 'insignific', 'oblig', 'unsuspect', 'nih', 'oleic', 'polyunsatur', 'monounsatur', 'larh', 'concur', 'maneuv', 'regrett', 'flaki', 'repack', 'coin', 'colloid', 'agreeabl', 'circu', 'slam', 'uhhh', 'southwest', 'puerto', 'rico', 'slap', 'discredit', 'pc', 'bitti', 'hypercrit', 'zyflam', 'proctor', 'founder', 'pursuit', 'delud', 'multin', 'crime', 'oper', 'million', 'takesever', 'specialti', 'bioavil', 'longvida', 'theracumin', 'tenth', 'vouch', 'tb', 'ointment', 'oak', 'blisteri', 'devolv', 'veto', 'atroci', 'grosssssss', 'fbshehsidjfnf', 'winc', 'dryest', 'witch', 'manos', 'paranoid', 'cmon', 'twinlab', 'scrambl', 'simmer', 'deciev', 'deck', 'ranch', 'waaaaaay', 'unexplain', 'microscop', 'lymphocyt', 'endoscopi', 'rebut', 'anticanc', 'cautionari', 'induc', 'senesc', 'vasculatur', 'dna', 'atm', 'reactiv', 'oxygen', 'speci', 'ro', 'postul', 'induct', 'majorli', 'monitor', 'rogain', 'appt', 'unmeasur', 'sibl', 'sterol', 'antifung', 'truffl', 'quart', 'chitlin', 'waaaaayyyi', 'tooo', 'greek', 'senc', 'tbd', 'gtf', 'etern', 'engin', 'hydrol', 'guar', 'iitem', 'flavorr', 'grandchildren', 'tweak', 'ginkgo', 'biloba', 'supervisor', 'tout', 'sup', 'margin', 'revolv', 'copper', 'meantim', 'wellcon', 'sediment', 'gunk', 'mucou', 'membran', 'decaf', 'ahem', 'invad', 'dangeri', 'grimac', 'ez', 'sweetz', 'surgar', 'freight', 'puritan', 'pride', 'egregi', 'melti', 'supplementth', 'tool', 'compat', 'len', 'lens', 'assail', 'toopen', 'alloc', 'cacium', 'yech', 'nada', 'precis', 'uhhhhggg', 'swallowi', 'gunki', 'outright', 'andd', 'scurri', 'laser', 'smallest', 'experiment', 'longtim', 'cognit', 'oab', 'caregiv', 'comyou', 'bb', 'goos', 'debra', 'cordenizdebrat', 'overhaul', 'guilti', 'gah', 'alarm', 'quasi', 'fetal', 'rubbish', 'nodul'])"
      ]
     },
     "execution_count": 79,
     "metadata": {},
     "output_type": "execute_result"
    }
   ],
   "source": [
    "tfidf.vocabulary_.keys()"
   ]
  },
  {
   "cell_type": "code",
   "execution_count": 113,
   "metadata": {},
   "outputs": [
    {
     "name": "stdout",
     "output_type": "stream",
     "text": [
      "(4224, 10072) (1776, 10072)\n"
     ]
    }
   ],
   "source": [
    "#Separating train and test arrays\n",
    "X_train = all_arr[:len(tr_titles), :]\n",
    "X_test = all_arr[len(tr_titles):, :]\n",
    "print (X_train.shape, X_test.shape)"
   ]
  },
  {
   "cell_type": "code",
   "execution_count": 99,
   "metadata": {},
   "outputs": [
    {
     "data": {
      "text/plain": [
       "(4224, 21)"
      ]
     },
     "execution_count": 99,
     "metadata": {},
     "output_type": "execute_result"
    }
   ],
   "source": [
    "# For Maultilabel classification, we need to prepare out train ground truth labels as a 2D array of ones and zeros, which\n",
    "# is why we use MultiLabelBinarizer to convert 1D array (4224,) to 2D array (4224, 21)\n",
    "multi_label = MultiLabelBinarizer()\n",
    "y_train = multi_label.fit_transform(tr_labels)\n",
    "y_train.shape"
   ]
  },
  {
   "cell_type": "markdown",
   "metadata": {},
   "source": [
    "### Now since we have prepared our training data and training labels, we can proceed to Model Training. I have used and experimented on four models - Gradient Boosted trees using XgBoost, Random Forest Classifiers using XgBoost, NB-SVM (Naive-Bayes Support Vector Machine) and Bidirectional LSTMs.                                    \n",
    "### For first 2 classifiers, I have used SkLearn's OneVsRest Classifier to convert them to MultiLabel Classifiers, however, NB-SVM and LSTMs can be used as they are.\n",
    "### Also for first 2 classifiers, I have fixed there parameters after running a RandomSearchCV over a large variety of parameters. For NB-SVM and LSTM, I manually experimented with different hyper-parameter values and have fixed the currently used"
   ]
  },
  {
   "cell_type": "code",
   "execution_count": 30,
   "metadata": {},
   "outputs": [],
   "source": [
    "# These is the parameter space used for both Gradient Boosted Tree and Random Forest for RandomSearchCV api\n",
    "params = {\n",
    "        'estimator__max_depth' : [3, 4, 5],                           # learning parameter\n",
    "        'estimator__learning_rate': [0.3, 0.1, 0.05],                 # learning parameter\n",
    "        'estimator__n_estimators': [100, 200, 300],                   # learning parameter\n",
    "        'estimator__colsample_bytree': [0.6, 0.8, 1.0],               # regulazation parameter\n",
    "        'estimator__reg_alpha': [1, 2, 3]                             # l1 regularization parameter\n",
    "        }"
   ]
  },
  {
   "cell_type": "code",
   "execution_count": 32,
   "metadata": {
    "scrolled": true
   },
   "outputs": [
    {
     "name": "stdout",
     "output_type": "stream",
     "text": [
      "Fitting 5 folds for each of 10 candidates, totalling 50 fits\n",
      "[CV] estimator__n_estimators=200, estimator__learning_rate=0.3 .......\n"
     ]
    },
    {
     "name": "stderr",
     "output_type": "stream",
     "text": [
      "C:\\ProgramData\\Anaconda3\\lib\\site-packages\\sklearn\\metrics\\classification.py:1135: UndefinedMetricWarning: F-score is ill-defined and being set to 0.0 in samples with no predicted labels.\n",
      "  'precision', 'predicted', average, warn_for)\n",
      "C:\\ProgramData\\Anaconda3\\lib\\site-packages\\sklearn\\metrics\\classification.py:1135: UndefinedMetricWarning: F-score is ill-defined and being set to 0.0 in samples with no predicted labels.\n",
      "  'precision', 'predicted', average, warn_for)\n",
      "[Parallel(n_jobs=1)]: Done   1 out of   1 | elapsed: 14.7min remaining:    0.0s\n"
     ]
    },
    {
     "name": "stdout",
     "output_type": "stream",
     "text": [
      "[CV]  estimator__n_estimators=200, estimator__learning_rate=0.3, score=0.818174133558749, total=14.6min\n",
      "[CV] estimator__n_estimators=200, estimator__learning_rate=0.3 .......\n"
     ]
    },
    {
     "name": "stderr",
     "output_type": "stream",
     "text": [
      "C:\\ProgramData\\Anaconda3\\lib\\site-packages\\sklearn\\metrics\\classification.py:1135: UndefinedMetricWarning: F-score is ill-defined and being set to 0.0 in samples with no predicted labels.\n",
      "  'precision', 'predicted', average, warn_for)\n",
      "C:\\ProgramData\\Anaconda3\\lib\\site-packages\\sklearn\\metrics\\classification.py:1135: UndefinedMetricWarning: F-score is ill-defined and being set to 0.0 in samples with no predicted labels.\n",
      "  'precision', 'predicted', average, warn_for)\n",
      "[Parallel(n_jobs=1)]: Done   2 out of   2 | elapsed: 28.0min remaining:    0.0s\n"
     ]
    },
    {
     "name": "stdout",
     "output_type": "stream",
     "text": [
      "[CV]  estimator__n_estimators=200, estimator__learning_rate=0.3, score=0.8010726026110642, total=13.2min\n",
      "[CV] estimator__n_estimators=200, estimator__learning_rate=0.3 .......\n"
     ]
    },
    {
     "name": "stderr",
     "output_type": "stream",
     "text": [
      "C:\\ProgramData\\Anaconda3\\lib\\site-packages\\sklearn\\metrics\\classification.py:1135: UndefinedMetricWarning: F-score is ill-defined and being set to 0.0 in samples with no predicted labels.\n",
      "  'precision', 'predicted', average, warn_for)\n"
     ]
    },
    {
     "name": "stdout",
     "output_type": "stream",
     "text": [
      "[CV]  estimator__n_estimators=200, estimator__learning_rate=0.3, score=0.8124786324786325, total=13.0min\n",
      "[CV] estimator__n_estimators=200, estimator__learning_rate=0.3 .......\n"
     ]
    },
    {
     "name": "stderr",
     "output_type": "stream",
     "text": [
      "C:\\ProgramData\\Anaconda3\\lib\\site-packages\\sklearn\\metrics\\classification.py:1135: UndefinedMetricWarning: F-score is ill-defined and being set to 0.0 in samples with no predicted labels.\n",
      "  'precision', 'predicted', average, warn_for)\n",
      "C:\\ProgramData\\Anaconda3\\lib\\site-packages\\sklearn\\metrics\\classification.py:1135: UndefinedMetricWarning: F-score is ill-defined and being set to 0.0 in samples with no predicted labels.\n",
      "  'precision', 'predicted', average, warn_for)\n"
     ]
    },
    {
     "name": "stdout",
     "output_type": "stream",
     "text": [
      "[CV]  estimator__n_estimators=200, estimator__learning_rate=0.3, score=0.8252521837137222, total=13.1min\n",
      "[CV] estimator__n_estimators=200, estimator__learning_rate=0.3 .......\n"
     ]
    },
    {
     "name": "stderr",
     "output_type": "stream",
     "text": [
      "C:\\ProgramData\\Anaconda3\\lib\\site-packages\\sklearn\\metrics\\classification.py:1135: UndefinedMetricWarning: F-score is ill-defined and being set to 0.0 in samples with no predicted labels.\n",
      "  'precision', 'predicted', average, warn_for)\n",
      "C:\\ProgramData\\Anaconda3\\lib\\site-packages\\sklearn\\metrics\\classification.py:1135: UndefinedMetricWarning: F-score is ill-defined and being set to 0.0 in samples with no predicted labels.\n",
      "  'precision', 'predicted', average, warn_for)\n"
     ]
    },
    {
     "name": "stdout",
     "output_type": "stream",
     "text": [
      "[CV]  estimator__n_estimators=200, estimator__learning_rate=0.3, score=0.8246689987211313, total=13.5min\n",
      "[CV] estimator__n_estimators=300, estimator__learning_rate=0.01 ......\n"
     ]
    },
    {
     "name": "stderr",
     "output_type": "stream",
     "text": [
      "C:\\ProgramData\\Anaconda3\\lib\\site-packages\\sklearn\\metrics\\classification.py:1135: UndefinedMetricWarning: F-score is ill-defined and being set to 0.0 in samples with no predicted labels.\n",
      "  'precision', 'predicted', average, warn_for)\n",
      "C:\\ProgramData\\Anaconda3\\lib\\site-packages\\sklearn\\metrics\\classification.py:1135: UndefinedMetricWarning: F-score is ill-defined and being set to 0.0 in samples with no predicted labels.\n",
      "  'precision', 'predicted', average, warn_for)\n"
     ]
    },
    {
     "name": "stdout",
     "output_type": "stream",
     "text": [
      "[CV]  estimator__n_estimators=300, estimator__learning_rate=0.01, score=0.70236071620687, total=21.6min\n",
      "[CV] estimator__n_estimators=300, estimator__learning_rate=0.01 ......\n"
     ]
    },
    {
     "name": "stderr",
     "output_type": "stream",
     "text": [
      "C:\\ProgramData\\Anaconda3\\lib\\site-packages\\sklearn\\metrics\\classification.py:1135: UndefinedMetricWarning: F-score is ill-defined and being set to 0.0 in samples with no predicted labels.\n",
      "  'precision', 'predicted', average, warn_for)\n",
      "C:\\ProgramData\\Anaconda3\\lib\\site-packages\\sklearn\\metrics\\classification.py:1135: UndefinedMetricWarning: F-score is ill-defined and being set to 0.0 in samples with no predicted labels.\n",
      "  'precision', 'predicted', average, warn_for)\n"
     ]
    },
    {
     "name": "stdout",
     "output_type": "stream",
     "text": [
      "[CV]  estimator__n_estimators=300, estimator__learning_rate=0.01, score=0.7046623462008077, total=21.4min\n",
      "[CV] estimator__n_estimators=300, estimator__learning_rate=0.01 ......\n"
     ]
    },
    {
     "name": "stderr",
     "output_type": "stream",
     "text": [
      "C:\\ProgramData\\Anaconda3\\lib\\site-packages\\sklearn\\metrics\\classification.py:1135: UndefinedMetricWarning: F-score is ill-defined and being set to 0.0 in samples with no predicted labels.\n",
      "  'precision', 'predicted', average, warn_for)\n",
      "C:\\ProgramData\\Anaconda3\\lib\\site-packages\\sklearn\\metrics\\classification.py:1135: UndefinedMetricWarning: F-score is ill-defined and being set to 0.0 in samples with no predicted labels.\n",
      "  'precision', 'predicted', average, warn_for)\n"
     ]
    },
    {
     "name": "stdout",
     "output_type": "stream",
     "text": [
      "[CV]  estimator__n_estimators=300, estimator__learning_rate=0.01, score=0.7129322813938197, total=21.7min\n",
      "[CV] estimator__n_estimators=300, estimator__learning_rate=0.01 ......\n"
     ]
    },
    {
     "name": "stderr",
     "output_type": "stream",
     "text": [
      "C:\\ProgramData\\Anaconda3\\lib\\site-packages\\sklearn\\metrics\\classification.py:1135: UndefinedMetricWarning: F-score is ill-defined and being set to 0.0 in samples with no predicted labels.\n",
      "  'precision', 'predicted', average, warn_for)\n",
      "C:\\ProgramData\\Anaconda3\\lib\\site-packages\\sklearn\\metrics\\classification.py:1135: UndefinedMetricWarning: F-score is ill-defined and being set to 0.0 in samples with no predicted labels.\n",
      "  'precision', 'predicted', average, warn_for)\n"
     ]
    },
    {
     "name": "stdout",
     "output_type": "stream",
     "text": [
      "[CV]  estimator__n_estimators=300, estimator__learning_rate=0.01, score=0.6955574340189725, total=21.5min\n",
      "[CV] estimator__n_estimators=300, estimator__learning_rate=0.01 ......\n"
     ]
    },
    {
     "name": "stderr",
     "output_type": "stream",
     "text": [
      "C:\\ProgramData\\Anaconda3\\lib\\site-packages\\sklearn\\metrics\\classification.py:1135: UndefinedMetricWarning: F-score is ill-defined and being set to 0.0 in samples with no predicted labels.\n",
      "  'precision', 'predicted', average, warn_for)\n",
      "C:\\ProgramData\\Anaconda3\\lib\\site-packages\\sklearn\\metrics\\classification.py:1135: UndefinedMetricWarning: F-score is ill-defined and being set to 0.0 in samples with no predicted labels.\n",
      "  'precision', 'predicted', average, warn_for)\n"
     ]
    },
    {
     "name": "stdout",
     "output_type": "stream",
     "text": [
      "[CV]  estimator__n_estimators=300, estimator__learning_rate=0.01, score=0.7005228315654854, total=21.6min\n",
      "[CV] estimator__n_estimators=100, estimator__learning_rate=0.05 ......\n"
     ]
    },
    {
     "name": "stderr",
     "output_type": "stream",
     "text": [
      "C:\\ProgramData\\Anaconda3\\lib\\site-packages\\sklearn\\metrics\\classification.py:1135: UndefinedMetricWarning: F-score is ill-defined and being set to 0.0 in samples with no predicted labels.\n",
      "  'precision', 'predicted', average, warn_for)\n",
      "C:\\ProgramData\\Anaconda3\\lib\\site-packages\\sklearn\\metrics\\classification.py:1135: UndefinedMetricWarning: F-score is ill-defined and being set to 0.0 in samples with no predicted labels.\n",
      "  'precision', 'predicted', average, warn_for)\n"
     ]
    },
    {
     "name": "stdout",
     "output_type": "stream",
     "text": [
      "[CV]  estimator__n_estimators=100, estimator__learning_rate=0.05, score=0.7762637362637363, total= 7.3min\n",
      "[CV] estimator__n_estimators=100, estimator__learning_rate=0.05 ......\n"
     ]
    },
    {
     "name": "stderr",
     "output_type": "stream",
     "text": [
      "C:\\ProgramData\\Anaconda3\\lib\\site-packages\\sklearn\\metrics\\classification.py:1135: UndefinedMetricWarning: F-score is ill-defined and being set to 0.0 in samples with no predicted labels.\n",
      "  'precision', 'predicted', average, warn_for)\n",
      "C:\\ProgramData\\Anaconda3\\lib\\site-packages\\sklearn\\metrics\\classification.py:1135: UndefinedMetricWarning: F-score is ill-defined and being set to 0.0 in samples with no predicted labels.\n",
      "  'precision', 'predicted', average, warn_for)\n"
     ]
    },
    {
     "name": "stdout",
     "output_type": "stream",
     "text": [
      "[CV]  estimator__n_estimators=100, estimator__learning_rate=0.05, score=0.7647299708838171, total= 7.5min\n",
      "[CV] estimator__n_estimators=100, estimator__learning_rate=0.05 ......\n"
     ]
    },
    {
     "name": "stderr",
     "output_type": "stream",
     "text": [
      "C:\\ProgramData\\Anaconda3\\lib\\site-packages\\sklearn\\metrics\\classification.py:1135: UndefinedMetricWarning: F-score is ill-defined and being set to 0.0 in samples with no predicted labels.\n",
      "  'precision', 'predicted', average, warn_for)\n",
      "C:\\ProgramData\\Anaconda3\\lib\\site-packages\\sklearn\\metrics\\classification.py:1135: UndefinedMetricWarning: F-score is ill-defined and being set to 0.0 in samples with no predicted labels.\n",
      "  'precision', 'predicted', average, warn_for)\n"
     ]
    },
    {
     "name": "stdout",
     "output_type": "stream",
     "text": [
      "[CV]  estimator__n_estimators=100, estimator__learning_rate=0.05, score=0.7747187001033156, total= 7.4min\n",
      "[CV] estimator__n_estimators=100, estimator__learning_rate=0.05 ......\n"
     ]
    },
    {
     "name": "stderr",
     "output_type": "stream",
     "text": [
      "C:\\ProgramData\\Anaconda3\\lib\\site-packages\\sklearn\\metrics\\classification.py:1135: UndefinedMetricWarning: F-score is ill-defined and being set to 0.0 in samples with no predicted labels.\n",
      "  'precision', 'predicted', average, warn_for)\n",
      "C:\\ProgramData\\Anaconda3\\lib\\site-packages\\sklearn\\metrics\\classification.py:1135: UndefinedMetricWarning: F-score is ill-defined and being set to 0.0 in samples with no predicted labels.\n",
      "  'precision', 'predicted', average, warn_for)\n"
     ]
    },
    {
     "name": "stdout",
     "output_type": "stream",
     "text": [
      "[CV]  estimator__n_estimators=100, estimator__learning_rate=0.05, score=0.7713816098431484, total= 7.6min\n",
      "[CV] estimator__n_estimators=100, estimator__learning_rate=0.05 ......\n"
     ]
    },
    {
     "name": "stderr",
     "output_type": "stream",
     "text": [
      "C:\\ProgramData\\Anaconda3\\lib\\site-packages\\sklearn\\metrics\\classification.py:1135: UndefinedMetricWarning: F-score is ill-defined and being set to 0.0 in samples with no predicted labels.\n",
      "  'precision', 'predicted', average, warn_for)\n",
      "C:\\ProgramData\\Anaconda3\\lib\\site-packages\\sklearn\\metrics\\classification.py:1135: UndefinedMetricWarning: F-score is ill-defined and being set to 0.0 in samples with no predicted labels.\n",
      "  'precision', 'predicted', average, warn_for)\n"
     ]
    },
    {
     "name": "stdout",
     "output_type": "stream",
     "text": [
      "[CV]  estimator__n_estimators=100, estimator__learning_rate=0.05, score=0.7791976980365606, total= 7.4min\n",
      "[CV] estimator__n_estimators=300, estimator__learning_rate=0.3 .......\n"
     ]
    },
    {
     "name": "stderr",
     "output_type": "stream",
     "text": [
      "C:\\ProgramData\\Anaconda3\\lib\\site-packages\\sklearn\\metrics\\classification.py:1135: UndefinedMetricWarning: F-score is ill-defined and being set to 0.0 in samples with no predicted labels.\n",
      "  'precision', 'predicted', average, warn_for)\n"
     ]
    },
    {
     "name": "stdout",
     "output_type": "stream",
     "text": [
      "[CV]  estimator__n_estimators=300, estimator__learning_rate=0.3, score=0.8126120033812342, total=18.8min\n",
      "[CV] estimator__n_estimators=300, estimator__learning_rate=0.3 .......\n"
     ]
    },
    {
     "name": "stderr",
     "output_type": "stream",
     "text": [
      "C:\\ProgramData\\Anaconda3\\lib\\site-packages\\sklearn\\metrics\\classification.py:1135: UndefinedMetricWarning: F-score is ill-defined and being set to 0.0 in samples with no predicted labels.\n",
      "  'precision', 'predicted', average, warn_for)\n",
      "C:\\ProgramData\\Anaconda3\\lib\\site-packages\\sklearn\\metrics\\classification.py:1135: UndefinedMetricWarning: F-score is ill-defined and being set to 0.0 in samples with no predicted labels.\n",
      "  'precision', 'predicted', average, warn_for)\n"
     ]
    },
    {
     "name": "stdout",
     "output_type": "stream",
     "text": [
      "[CV]  estimator__n_estimators=300, estimator__learning_rate=0.3, score=0.7967727998497229, total=19.4min\n",
      "[CV] estimator__n_estimators=300, estimator__learning_rate=0.3 .......\n"
     ]
    },
    {
     "name": "stderr",
     "output_type": "stream",
     "text": [
      "C:\\ProgramData\\Anaconda3\\lib\\site-packages\\sklearn\\metrics\\classification.py:1135: UndefinedMetricWarning: F-score is ill-defined and being set to 0.0 in samples with no predicted labels.\n",
      "  'precision', 'predicted', average, warn_for)\n"
     ]
    },
    {
     "name": "stdout",
     "output_type": "stream",
     "text": [
      "[CV]  estimator__n_estimators=300, estimator__learning_rate=0.3, score=0.8092213769136847, total=19.2min\n",
      "[CV] estimator__n_estimators=300, estimator__learning_rate=0.3 .......\n"
     ]
    },
    {
     "name": "stderr",
     "output_type": "stream",
     "text": [
      "C:\\ProgramData\\Anaconda3\\lib\\site-packages\\sklearn\\metrics\\classification.py:1135: UndefinedMetricWarning: F-score is ill-defined and being set to 0.0 in samples with no predicted labels.\n",
      "  'precision', 'predicted', average, warn_for)\n"
     ]
    },
    {
     "name": "stdout",
     "output_type": "stream",
     "text": [
      "[CV]  estimator__n_estimators=300, estimator__learning_rate=0.3, score=0.8157058326289095, total=18.9min\n",
      "[CV] estimator__n_estimators=300, estimator__learning_rate=0.3 .......\n"
     ]
    },
    {
     "name": "stderr",
     "output_type": "stream",
     "text": [
      "C:\\ProgramData\\Anaconda3\\lib\\site-packages\\sklearn\\metrics\\classification.py:1135: UndefinedMetricWarning: F-score is ill-defined and being set to 0.0 in samples with no predicted labels.\n",
      "  'precision', 'predicted', average, warn_for)\n",
      "C:\\ProgramData\\Anaconda3\\lib\\site-packages\\sklearn\\metrics\\classification.py:1135: UndefinedMetricWarning: F-score is ill-defined and being set to 0.0 in samples with no predicted labels.\n",
      "  'precision', 'predicted', average, warn_for)\n"
     ]
    },
    {
     "name": "stdout",
     "output_type": "stream",
     "text": [
      "[CV]  estimator__n_estimators=300, estimator__learning_rate=0.3, score=0.8187448281050177, total=20.0min\n",
      "[CV] estimator__n_estimators=200, estimator__learning_rate=0.05 ......\n"
     ]
    },
    {
     "name": "stderr",
     "output_type": "stream",
     "text": [
      "C:\\ProgramData\\Anaconda3\\lib\\site-packages\\sklearn\\metrics\\classification.py:1135: UndefinedMetricWarning: F-score is ill-defined and being set to 0.0 in samples with no predicted labels.\n",
      "  'precision', 'predicted', average, warn_for)\n",
      "C:\\ProgramData\\Anaconda3\\lib\\site-packages\\sklearn\\metrics\\classification.py:1135: UndefinedMetricWarning: F-score is ill-defined and being set to 0.0 in samples with no predicted labels.\n",
      "  'precision', 'predicted', average, warn_for)\n"
     ]
    },
    {
     "name": "stdout",
     "output_type": "stream",
     "text": [
      "[CV]  estimator__n_estimators=200, estimator__learning_rate=0.05, score=0.8127636466098004, total=13.9min\n",
      "[CV] estimator__n_estimators=200, estimator__learning_rate=0.05 ......\n"
     ]
    },
    {
     "name": "stderr",
     "output_type": "stream",
     "text": [
      "C:\\ProgramData\\Anaconda3\\lib\\site-packages\\sklearn\\metrics\\classification.py:1135: UndefinedMetricWarning: F-score is ill-defined and being set to 0.0 in samples with no predicted labels.\n",
      "  'precision', 'predicted', average, warn_for)\n",
      "C:\\ProgramData\\Anaconda3\\lib\\site-packages\\sklearn\\metrics\\classification.py:1135: UndefinedMetricWarning: F-score is ill-defined and being set to 0.0 in samples with no predicted labels.\n",
      "  'precision', 'predicted', average, warn_for)\n"
     ]
    },
    {
     "name": "stdout",
     "output_type": "stream",
     "text": [
      "[CV]  estimator__n_estimators=200, estimator__learning_rate=0.05, score=0.8007570207570208, total=13.6min\n",
      "[CV] estimator__n_estimators=200, estimator__learning_rate=0.05 ......\n"
     ]
    },
    {
     "name": "stderr",
     "output_type": "stream",
     "text": [
      "C:\\ProgramData\\Anaconda3\\lib\\site-packages\\sklearn\\metrics\\classification.py:1135: UndefinedMetricWarning: F-score is ill-defined and being set to 0.0 in samples with no predicted labels.\n",
      "  'precision', 'predicted', average, warn_for)\n",
      "C:\\ProgramData\\Anaconda3\\lib\\site-packages\\sklearn\\metrics\\classification.py:1135: UndefinedMetricWarning: F-score is ill-defined and being set to 0.0 in samples with no predicted labels.\n",
      "  'precision', 'predicted', average, warn_for)\n"
     ]
    },
    {
     "name": "stdout",
     "output_type": "stream",
     "text": [
      "[CV]  estimator__n_estimators=200, estimator__learning_rate=0.05, score=0.805231520616136, total=13.7min\n",
      "[CV] estimator__n_estimators=200, estimator__learning_rate=0.05 ......\n"
     ]
    },
    {
     "name": "stderr",
     "output_type": "stream",
     "text": [
      "C:\\ProgramData\\Anaconda3\\lib\\site-packages\\sklearn\\metrics\\classification.py:1135: UndefinedMetricWarning: F-score is ill-defined and being set to 0.0 in samples with no predicted labels.\n",
      "  'precision', 'predicted', average, warn_for)\n",
      "C:\\ProgramData\\Anaconda3\\lib\\site-packages\\sklearn\\metrics\\classification.py:1135: UndefinedMetricWarning: F-score is ill-defined and being set to 0.0 in samples with no predicted labels.\n",
      "  'precision', 'predicted', average, warn_for)\n"
     ]
    },
    {
     "name": "stdout",
     "output_type": "stream",
     "text": [
      "[CV]  estimator__n_estimators=200, estimator__learning_rate=0.05, score=0.8089771766694843, total=13.9min\n",
      "[CV] estimator__n_estimators=200, estimator__learning_rate=0.05 ......\n"
     ]
    },
    {
     "name": "stderr",
     "output_type": "stream",
     "text": [
      "C:\\ProgramData\\Anaconda3\\lib\\site-packages\\sklearn\\metrics\\classification.py:1135: UndefinedMetricWarning: F-score is ill-defined and being set to 0.0 in samples with no predicted labels.\n",
      "  'precision', 'predicted', average, warn_for)\n",
      "C:\\ProgramData\\Anaconda3\\lib\\site-packages\\sklearn\\metrics\\classification.py:1135: UndefinedMetricWarning: F-score is ill-defined and being set to 0.0 in samples with no predicted labels.\n",
      "  'precision', 'predicted', average, warn_for)\n"
     ]
    },
    {
     "name": "stdout",
     "output_type": "stream",
     "text": [
      "[CV]  estimator__n_estimators=200, estimator__learning_rate=0.05, score=0.812034529451591, total=14.3min\n",
      "[CV] estimator__n_estimators=200, estimator__learning_rate=0.1 .......\n"
     ]
    },
    {
     "name": "stderr",
     "output_type": "stream",
     "text": [
      "C:\\ProgramData\\Anaconda3\\lib\\site-packages\\sklearn\\metrics\\classification.py:1135: UndefinedMetricWarning: F-score is ill-defined and being set to 0.0 in samples with no predicted labels.\n",
      "  'precision', 'predicted', average, warn_for)\n",
      "C:\\ProgramData\\Anaconda3\\lib\\site-packages\\sklearn\\metrics\\classification.py:1135: UndefinedMetricWarning: F-score is ill-defined and being set to 0.0 in samples with no predicted labels.\n",
      "  'precision', 'predicted', average, warn_for)\n"
     ]
    },
    {
     "name": "stdout",
     "output_type": "stream",
     "text": [
      "[CV]  estimator__n_estimators=200, estimator__learning_rate=0.1, score=0.8204052357898511, total=13.5min\n",
      "[CV] estimator__n_estimators=200, estimator__learning_rate=0.1 .......\n"
     ]
    },
    {
     "name": "stderr",
     "output_type": "stream",
     "text": [
      "C:\\ProgramData\\Anaconda3\\lib\\site-packages\\sklearn\\metrics\\classification.py:1135: UndefinedMetricWarning: F-score is ill-defined and being set to 0.0 in samples with no predicted labels.\n",
      "  'precision', 'predicted', average, warn_for)\n",
      "C:\\ProgramData\\Anaconda3\\lib\\site-packages\\sklearn\\metrics\\classification.py:1135: UndefinedMetricWarning: F-score is ill-defined and being set to 0.0 in samples with no predicted labels.\n",
      "  'precision', 'predicted', average, warn_for)\n"
     ]
    },
    {
     "name": "stdout",
     "output_type": "stream",
     "text": [
      "[CV]  estimator__n_estimators=200, estimator__learning_rate=0.1, score=0.807711092326477, total=13.2min\n",
      "[CV] estimator__n_estimators=200, estimator__learning_rate=0.1 .......\n"
     ]
    },
    {
     "name": "stderr",
     "output_type": "stream",
     "text": [
      "C:\\ProgramData\\Anaconda3\\lib\\site-packages\\sklearn\\metrics\\classification.py:1135: UndefinedMetricWarning: F-score is ill-defined and being set to 0.0 in samples with no predicted labels.\n",
      "  'precision', 'predicted', average, warn_for)\n",
      "C:\\ProgramData\\Anaconda3\\lib\\site-packages\\sklearn\\metrics\\classification.py:1135: UndefinedMetricWarning: F-score is ill-defined and being set to 0.0 in samples with no predicted labels.\n",
      "  'precision', 'predicted', average, warn_for)\n"
     ]
    },
    {
     "name": "stdout",
     "output_type": "stream",
     "text": [
      "[CV]  estimator__n_estimators=200, estimator__learning_rate=0.1, score=0.8168291537522306, total=13.1min\n",
      "[CV] estimator__n_estimators=200, estimator__learning_rate=0.1 .......\n"
     ]
    },
    {
     "name": "stderr",
     "output_type": "stream",
     "text": [
      "C:\\ProgramData\\Anaconda3\\lib\\site-packages\\sklearn\\metrics\\classification.py:1135: UndefinedMetricWarning: F-score is ill-defined and being set to 0.0 in samples with no predicted labels.\n",
      "  'precision', 'predicted', average, warn_for)\n",
      "C:\\ProgramData\\Anaconda3\\lib\\site-packages\\sklearn\\metrics\\classification.py:1135: UndefinedMetricWarning: F-score is ill-defined and being set to 0.0 in samples with no predicted labels.\n",
      "  'precision', 'predicted', average, warn_for)\n"
     ]
    },
    {
     "name": "stdout",
     "output_type": "stream",
     "text": [
      "[CV]  estimator__n_estimators=200, estimator__learning_rate=0.1, score=0.8235841081994928, total=13.7min\n",
      "[CV] estimator__n_estimators=200, estimator__learning_rate=0.1 .......\n"
     ]
    },
    {
     "name": "stderr",
     "output_type": "stream",
     "text": [
      "C:\\ProgramData\\Anaconda3\\lib\\site-packages\\sklearn\\metrics\\classification.py:1135: UndefinedMetricWarning: F-score is ill-defined and being set to 0.0 in samples with no predicted labels.\n",
      "  'precision', 'predicted', average, warn_for)\n",
      "C:\\ProgramData\\Anaconda3\\lib\\site-packages\\sklearn\\metrics\\classification.py:1135: UndefinedMetricWarning: F-score is ill-defined and being set to 0.0 in samples with no predicted labels.\n",
      "  'precision', 'predicted', average, warn_for)\n"
     ]
    },
    {
     "name": "stdout",
     "output_type": "stream",
     "text": [
      "[CV]  estimator__n_estimators=200, estimator__learning_rate=0.1, score=0.8251466937485894, total=13.7min\n",
      "[CV] estimator__n_estimators=100, estimator__learning_rate=0.3 .......\n"
     ]
    },
    {
     "name": "stderr",
     "output_type": "stream",
     "text": [
      "C:\\ProgramData\\Anaconda3\\lib\\site-packages\\sklearn\\metrics\\classification.py:1135: UndefinedMetricWarning: F-score is ill-defined and being set to 0.0 in samples with no predicted labels.\n",
      "  'precision', 'predicted', average, warn_for)\n",
      "C:\\ProgramData\\Anaconda3\\lib\\site-packages\\sklearn\\metrics\\classification.py:1135: UndefinedMetricWarning: F-score is ill-defined and being set to 0.0 in samples with no predicted labels.\n",
      "  'precision', 'predicted', average, warn_for)\n"
     ]
    },
    {
     "name": "stdout",
     "output_type": "stream",
     "text": [
      "[CV]  estimator__n_estimators=100, estimator__learning_rate=0.3, score=0.818658264812111, total= 7.1min\n",
      "[CV] estimator__n_estimators=100, estimator__learning_rate=0.3 .......\n"
     ]
    },
    {
     "name": "stderr",
     "output_type": "stream",
     "text": [
      "C:\\ProgramData\\Anaconda3\\lib\\site-packages\\sklearn\\metrics\\classification.py:1135: UndefinedMetricWarning: F-score is ill-defined and being set to 0.0 in samples with no predicted labels.\n",
      "  'precision', 'predicted', average, warn_for)\n",
      "C:\\ProgramData\\Anaconda3\\lib\\site-packages\\sklearn\\metrics\\classification.py:1135: UndefinedMetricWarning: F-score is ill-defined and being set to 0.0 in samples with no predicted labels.\n",
      "  'precision', 'predicted', average, warn_for)\n"
     ]
    },
    {
     "name": "stdout",
     "output_type": "stream",
     "text": [
      "[CV]  estimator__n_estimators=100, estimator__learning_rate=0.3, score=0.8043796374565605, total= 6.9min\n",
      "[CV] estimator__n_estimators=100, estimator__learning_rate=0.3 .......\n"
     ]
    },
    {
     "name": "stderr",
     "output_type": "stream",
     "text": [
      "C:\\ProgramData\\Anaconda3\\lib\\site-packages\\sklearn\\metrics\\classification.py:1135: UndefinedMetricWarning: F-score is ill-defined and being set to 0.0 in samples with no predicted labels.\n",
      "  'precision', 'predicted', average, warn_for)\n",
      "C:\\ProgramData\\Anaconda3\\lib\\site-packages\\sklearn\\metrics\\classification.py:1135: UndefinedMetricWarning: F-score is ill-defined and being set to 0.0 in samples with no predicted labels.\n",
      "  'precision', 'predicted', average, warn_for)\n"
     ]
    },
    {
     "name": "stdout",
     "output_type": "stream",
     "text": [
      "[CV]  estimator__n_estimators=100, estimator__learning_rate=0.3, score=0.8105456936226166, total= 6.9min\n",
      "[CV] estimator__n_estimators=100, estimator__learning_rate=0.3 .......\n"
     ]
    },
    {
     "name": "stderr",
     "output_type": "stream",
     "text": [
      "C:\\ProgramData\\Anaconda3\\lib\\site-packages\\sklearn\\metrics\\classification.py:1135: UndefinedMetricWarning: F-score is ill-defined and being set to 0.0 in samples with no predicted labels.\n",
      "  'precision', 'predicted', average, warn_for)\n",
      "C:\\ProgramData\\Anaconda3\\lib\\site-packages\\sklearn\\metrics\\classification.py:1135: UndefinedMetricWarning: F-score is ill-defined and being set to 0.0 in samples with no predicted labels.\n",
      "  'precision', 'predicted', average, warn_for)\n"
     ]
    },
    {
     "name": "stdout",
     "output_type": "stream",
     "text": [
      "[CV]  estimator__n_estimators=100, estimator__learning_rate=0.3, score=0.8198872921949845, total= 6.9min\n",
      "[CV] estimator__n_estimators=100, estimator__learning_rate=0.3 .......\n"
     ]
    },
    {
     "name": "stderr",
     "output_type": "stream",
     "text": [
      "C:\\ProgramData\\Anaconda3\\lib\\site-packages\\sklearn\\metrics\\classification.py:1135: UndefinedMetricWarning: F-score is ill-defined and being set to 0.0 in samples with no predicted labels.\n",
      "  'precision', 'predicted', average, warn_for)\n",
      "C:\\ProgramData\\Anaconda3\\lib\\site-packages\\sklearn\\metrics\\classification.py:1135: UndefinedMetricWarning: F-score is ill-defined and being set to 0.0 in samples with no predicted labels.\n",
      "  'precision', 'predicted', average, warn_for)\n"
     ]
    },
    {
     "name": "stdout",
     "output_type": "stream",
     "text": [
      "[CV]  estimator__n_estimators=100, estimator__learning_rate=0.3, score=0.8211163770405475, total= 6.9min\n",
      "[CV] estimator__n_estimators=300, estimator__learning_rate=0.1 .......\n"
     ]
    },
    {
     "name": "stderr",
     "output_type": "stream",
     "text": [
      "C:\\ProgramData\\Anaconda3\\lib\\site-packages\\sklearn\\metrics\\classification.py:1135: UndefinedMetricWarning: F-score is ill-defined and being set to 0.0 in samples with no predicted labels.\n",
      "  'precision', 'predicted', average, warn_for)\n",
      "C:\\ProgramData\\Anaconda3\\lib\\site-packages\\sklearn\\metrics\\classification.py:1135: UndefinedMetricWarning: F-score is ill-defined and being set to 0.0 in samples with no predicted labels.\n",
      "  'precision', 'predicted', average, warn_for)\n"
     ]
    },
    {
     "name": "stdout",
     "output_type": "stream",
     "text": [
      "[CV]  estimator__n_estimators=300, estimator__learning_rate=0.1, score=0.8214308768154922, total=20.1min\n",
      "[CV] estimator__n_estimators=300, estimator__learning_rate=0.1 .......\n"
     ]
    },
    {
     "name": "stderr",
     "output_type": "stream",
     "text": [
      "C:\\ProgramData\\Anaconda3\\lib\\site-packages\\sklearn\\metrics\\classification.py:1135: UndefinedMetricWarning: F-score is ill-defined and being set to 0.0 in samples with no predicted labels.\n",
      "  'precision', 'predicted', average, warn_for)\n",
      "C:\\ProgramData\\Anaconda3\\lib\\site-packages\\sklearn\\metrics\\classification.py:1135: UndefinedMetricWarning: F-score is ill-defined and being set to 0.0 in samples with no predicted labels.\n",
      "  'precision', 'predicted', average, warn_for)\n"
     ]
    },
    {
     "name": "stdout",
     "output_type": "stream",
     "text": [
      "[CV]  estimator__n_estimators=300, estimator__learning_rate=0.1, score=0.812642058795905, total=19.6min\n",
      "[CV] estimator__n_estimators=300, estimator__learning_rate=0.1 .......\n"
     ]
    },
    {
     "name": "stderr",
     "output_type": "stream",
     "text": [
      "C:\\ProgramData\\Anaconda3\\lib\\site-packages\\sklearn\\metrics\\classification.py:1135: UndefinedMetricWarning: F-score is ill-defined and being set to 0.0 in samples with no predicted labels.\n",
      "  'precision', 'predicted', average, warn_for)\n",
      "C:\\ProgramData\\Anaconda3\\lib\\site-packages\\sklearn\\metrics\\classification.py:1135: UndefinedMetricWarning: F-score is ill-defined and being set to 0.0 in samples with no predicted labels.\n",
      "  'precision', 'predicted', average, warn_for)\n"
     ]
    },
    {
     "name": "stdout",
     "output_type": "stream",
     "text": [
      "[CV]  estimator__n_estimators=300, estimator__learning_rate=0.1, score=0.8160120221658683, total=19.5min\n",
      "[CV] estimator__n_estimators=300, estimator__learning_rate=0.1 .......\n"
     ]
    },
    {
     "name": "stderr",
     "output_type": "stream",
     "text": [
      "C:\\ProgramData\\Anaconda3\\lib\\site-packages\\sklearn\\metrics\\classification.py:1135: UndefinedMetricWarning: F-score is ill-defined and being set to 0.0 in samples with no predicted labels.\n",
      "  'precision', 'predicted', average, warn_for)\n",
      "C:\\ProgramData\\Anaconda3\\lib\\site-packages\\sklearn\\metrics\\classification.py:1135: UndefinedMetricWarning: F-score is ill-defined and being set to 0.0 in samples with no predicted labels.\n",
      "  'precision', 'predicted', average, warn_for)\n"
     ]
    },
    {
     "name": "stdout",
     "output_type": "stream",
     "text": [
      "[CV]  estimator__n_estimators=300, estimator__learning_rate=0.1, score=0.8251620174697099, total=28.2min\n",
      "[CV] estimator__n_estimators=300, estimator__learning_rate=0.1 .......\n"
     ]
    },
    {
     "name": "stderr",
     "output_type": "stream",
     "text": [
      "C:\\ProgramData\\Anaconda3\\lib\\site-packages\\sklearn\\metrics\\classification.py:1135: UndefinedMetricWarning: F-score is ill-defined and being set to 0.0 in samples with no predicted labels.\n",
      "  'precision', 'predicted', average, warn_for)\n",
      "C:\\ProgramData\\Anaconda3\\lib\\site-packages\\sklearn\\metrics\\classification.py:1135: UndefinedMetricWarning: F-score is ill-defined and being set to 0.0 in samples with no predicted labels.\n",
      "  'precision', 'predicted', average, warn_for)\n"
     ]
    },
    {
     "name": "stdout",
     "output_type": "stream",
     "text": [
      "[CV]  estimator__n_estimators=300, estimator__learning_rate=0.1, score=0.8309260513051981, total=30.6min\n",
      "[CV] estimator__n_estimators=200, estimator__learning_rate=0.01 ......\n"
     ]
    },
    {
     "name": "stderr",
     "output_type": "stream",
     "text": [
      "C:\\ProgramData\\Anaconda3\\lib\\site-packages\\sklearn\\metrics\\classification.py:1135: UndefinedMetricWarning: F-score is ill-defined and being set to 0.0 in samples with no predicted labels.\n",
      "  'precision', 'predicted', average, warn_for)\n",
      "C:\\ProgramData\\Anaconda3\\lib\\site-packages\\sklearn\\metrics\\classification.py:1135: UndefinedMetricWarning: F-score is ill-defined and being set to 0.0 in samples with no predicted labels.\n",
      "  'precision', 'predicted', average, warn_for)\n"
     ]
    },
    {
     "name": "stdout",
     "output_type": "stream",
     "text": [
      "[CV]  estimator__n_estimators=200, estimator__learning_rate=0.01, score=0.65141730064807, total=24.5min\n",
      "[CV] estimator__n_estimators=200, estimator__learning_rate=0.01 ......\n"
     ]
    },
    {
     "name": "stderr",
     "output_type": "stream",
     "text": [
      "C:\\ProgramData\\Anaconda3\\lib\\site-packages\\sklearn\\metrics\\classification.py:1135: UndefinedMetricWarning: F-score is ill-defined and being set to 0.0 in samples with no predicted labels.\n",
      "  'precision', 'predicted', average, warn_for)\n",
      "C:\\ProgramData\\Anaconda3\\lib\\site-packages\\sklearn\\metrics\\classification.py:1135: UndefinedMetricWarning: F-score is ill-defined and being set to 0.0 in samples with no predicted labels.\n",
      "  'precision', 'predicted', average, warn_for)\n"
     ]
    },
    {
     "name": "stdout",
     "output_type": "stream",
     "text": [
      "[CV]  estimator__n_estimators=200, estimator__learning_rate=0.01, score=0.652140509063586, total=21.5min\n",
      "[CV] estimator__n_estimators=200, estimator__learning_rate=0.01 ......\n"
     ]
    },
    {
     "name": "stderr",
     "output_type": "stream",
     "text": [
      "C:\\ProgramData\\Anaconda3\\lib\\site-packages\\sklearn\\metrics\\classification.py:1135: UndefinedMetricWarning: F-score is ill-defined and being set to 0.0 in samples with no predicted labels.\n",
      "  'precision', 'predicted', average, warn_for)\n",
      "C:\\ProgramData\\Anaconda3\\lib\\site-packages\\sklearn\\metrics\\classification.py:1135: UndefinedMetricWarning: F-score is ill-defined and being set to 0.0 in samples with no predicted labels.\n",
      "  'precision', 'predicted', average, warn_for)\n"
     ]
    },
    {
     "name": "stdout",
     "output_type": "stream",
     "text": [
      "[CV]  estimator__n_estimators=200, estimator__learning_rate=0.01, score=0.6630327791866254, total=21.5min\n",
      "[CV] estimator__n_estimators=200, estimator__learning_rate=0.01 ......\n"
     ]
    },
    {
     "name": "stderr",
     "output_type": "stream",
     "text": [
      "C:\\ProgramData\\Anaconda3\\lib\\site-packages\\sklearn\\metrics\\classification.py:1135: UndefinedMetricWarning: F-score is ill-defined and being set to 0.0 in samples with no predicted labels.\n",
      "  'precision', 'predicted', average, warn_for)\n",
      "C:\\ProgramData\\Anaconda3\\lib\\site-packages\\sklearn\\metrics\\classification.py:1135: UndefinedMetricWarning: F-score is ill-defined and being set to 0.0 in samples with no predicted labels.\n",
      "  'precision', 'predicted', average, warn_for)\n"
     ]
    },
    {
     "name": "stdout",
     "output_type": "stream",
     "text": [
      "[CV]  estimator__n_estimators=200, estimator__learning_rate=0.01, score=0.6347228839536531, total=17.6min\n",
      "[CV] estimator__n_estimators=200, estimator__learning_rate=0.01 ......\n"
     ]
    },
    {
     "name": "stderr",
     "output_type": "stream",
     "text": [
      "C:\\ProgramData\\Anaconda3\\lib\\site-packages\\sklearn\\metrics\\classification.py:1135: UndefinedMetricWarning: F-score is ill-defined and being set to 0.0 in samples with no predicted labels.\n",
      "  'precision', 'predicted', average, warn_for)\n",
      "C:\\ProgramData\\Anaconda3\\lib\\site-packages\\sklearn\\metrics\\classification.py:1135: UndefinedMetricWarning: F-score is ill-defined and being set to 0.0 in samples with no predicted labels.\n",
      "  'precision', 'predicted', average, warn_for)\n"
     ]
    },
    {
     "name": "stdout",
     "output_type": "stream",
     "text": [
      "[CV]  estimator__n_estimators=200, estimator__learning_rate=0.01, score=0.6496934476792298, total=13.9min\n",
      "[CV] estimator__n_estimators=300, estimator__learning_rate=0.05 ......\n"
     ]
    },
    {
     "name": "stderr",
     "output_type": "stream",
     "text": [
      "C:\\ProgramData\\Anaconda3\\lib\\site-packages\\sklearn\\metrics\\classification.py:1135: UndefinedMetricWarning: F-score is ill-defined and being set to 0.0 in samples with no predicted labels.\n",
      "  'precision', 'predicted', average, warn_for)\n",
      "C:\\ProgramData\\Anaconda3\\lib\\site-packages\\sklearn\\metrics\\classification.py:1135: UndefinedMetricWarning: F-score is ill-defined and being set to 0.0 in samples with no predicted labels.\n",
      "  'precision', 'predicted', average, warn_for)\n"
     ]
    },
    {
     "name": "stdout",
     "output_type": "stream",
     "text": [
      "[CV]  estimator__n_estimators=300, estimator__learning_rate=0.05, score=0.815603883296191, total=26.9min\n",
      "[CV] estimator__n_estimators=300, estimator__learning_rate=0.05 ......\n"
     ]
    },
    {
     "name": "stderr",
     "output_type": "stream",
     "text": [
      "C:\\ProgramData\\Anaconda3\\lib\\site-packages\\sklearn\\metrics\\classification.py:1135: UndefinedMetricWarning: F-score is ill-defined and being set to 0.0 in samples with no predicted labels.\n",
      "  'precision', 'predicted', average, warn_for)\n",
      "C:\\ProgramData\\Anaconda3\\lib\\site-packages\\sklearn\\metrics\\classification.py:1135: UndefinedMetricWarning: F-score is ill-defined and being set to 0.0 in samples with no predicted labels.\n",
      "  'precision', 'predicted', average, warn_for)\n"
     ]
    },
    {
     "name": "stdout",
     "output_type": "stream",
     "text": [
      "[CV]  estimator__n_estimators=300, estimator__learning_rate=0.05, score=0.8103033718418333, total=20.0min\n",
      "[CV] estimator__n_estimators=300, estimator__learning_rate=0.05 ......\n"
     ]
    },
    {
     "name": "stderr",
     "output_type": "stream",
     "text": [
      "C:\\ProgramData\\Anaconda3\\lib\\site-packages\\sklearn\\metrics\\classification.py:1135: UndefinedMetricWarning: F-score is ill-defined and being set to 0.0 in samples with no predicted labels.\n",
      "  'precision', 'predicted', average, warn_for)\n",
      "C:\\ProgramData\\Anaconda3\\lib\\site-packages\\sklearn\\metrics\\classification.py:1135: UndefinedMetricWarning: F-score is ill-defined and being set to 0.0 in samples with no predicted labels.\n",
      "  'precision', 'predicted', average, warn_for)\n"
     ]
    },
    {
     "name": "stdout",
     "output_type": "stream",
     "text": [
      "[CV]  estimator__n_estimators=300, estimator__learning_rate=0.05, score=0.817144735606274, total=17.7min\n",
      "[CV] estimator__n_estimators=300, estimator__learning_rate=0.05 ......\n"
     ]
    },
    {
     "name": "stderr",
     "output_type": "stream",
     "text": [
      "C:\\ProgramData\\Anaconda3\\lib\\site-packages\\sklearn\\metrics\\classification.py:1135: UndefinedMetricWarning: F-score is ill-defined and being set to 0.0 in samples with no predicted labels.\n",
      "  'precision', 'predicted', average, warn_for)\n",
      "C:\\ProgramData\\Anaconda3\\lib\\site-packages\\sklearn\\metrics\\classification.py:1135: UndefinedMetricWarning: F-score is ill-defined and being set to 0.0 in samples with no predicted labels.\n",
      "  'precision', 'predicted', average, warn_for)\n"
     ]
    },
    {
     "name": "stdout",
     "output_type": "stream",
     "text": [
      "[CV]  estimator__n_estimators=300, estimator__learning_rate=0.05, score=0.8168779938010707, total=26.6min\n",
      "[CV] estimator__n_estimators=300, estimator__learning_rate=0.05 ......\n"
     ]
    },
    {
     "name": "stderr",
     "output_type": "stream",
     "text": [
      "C:\\ProgramData\\Anaconda3\\lib\\site-packages\\sklearn\\metrics\\classification.py:1135: UndefinedMetricWarning: F-score is ill-defined and being set to 0.0 in samples with no predicted labels.\n",
      "  'precision', 'predicted', average, warn_for)\n",
      "C:\\ProgramData\\Anaconda3\\lib\\site-packages\\sklearn\\metrics\\classification.py:1135: UndefinedMetricWarning: F-score is ill-defined and being set to 0.0 in samples with no predicted labels.\n",
      "  'precision', 'predicted', average, warn_for)\n",
      "[Parallel(n_jobs=1)]: Done  50 out of  50 | elapsed: 819.0min finished\n"
     ]
    },
    {
     "name": "stdout",
     "output_type": "stream",
     "text": [
      "[CV]  estimator__n_estimators=300, estimator__learning_rate=0.05, score=0.8196569623109907, total=23.0min\n"
     ]
    },
    {
     "data": {
      "text/plain": [
       "RandomizedSearchCV(cv=<generator object _BaseKFold.split at 0x000001911E376E08>,\n",
       "          error_score='raise',\n",
       "          estimator=OneVsRestClassifier(estimator=XGBClassifier(base_score=0.5, booster='gbtree', colsample_bylevel=1,\n",
       "       colsample_bynode=1, colsample_bytree=0.8, gamma=0,\n",
       "       learning_rate=0.1, max_delta_step=0, max_depth=5,\n",
       "       min_child_weight=1, missing=None, n_estimators=100, n_jobs=1,\n",
       "       ...1, scale_pos_weight=1,\n",
       "       seed=None, silent=None, subsample=1, verbosity=2),\n",
       "          n_jobs=4),\n",
       "          fit_params=None, iid=True, n_iter=10, n_jobs=1,\n",
       "          param_distributions={'estimator__learning_rate': [0.3, 0.1, 0.05, 0.01], 'estimator__n_estimators': [100, 200, 300]},\n",
       "          pre_dispatch='2*n_jobs', random_state=1001, refit=True,\n",
       "          return_train_score='warn', scoring='f1_samples', verbose=3)"
      ]
     },
     "execution_count": 32,
     "metadata": {},
     "output_type": "execute_result"
    }
   ],
   "source": [
    "# Training Gradient Boosted Tree using XgBoost and applying Random Search over above mentioned parameter space for 10\n",
    "# iterations with 5 folds of CV. I ran above parameter space, in two folds, first checking only for the growth/learning\n",
    "# parameters and second time checking for parameters which prevent Over-Sampling\n",
    "n_folds = 5\n",
    "kf = KFold(n_splits=n_folds, shuffle = True, random_state = 1001)\n",
    "\n",
    "xgb_clf = XGBClassifier(learning_rate=0.1, n_estimators=300, max_depth=5, verbosity=2, objective='multi:softprob', num_class=21)\n",
    "onevsrest_clf = OneVsRestClassifier(xgb_clf, n_jobs=4)\n",
    "\n",
    "random_search = RandomizedSearchCV(onevsrest_clf, param_distributions=params, scoring='f1_samples', cv=kf.split(X_train, y_train), verbose=3, random_state=1001)\n",
    "random_search.fit(X_train, y_train)"
   ]
  },
  {
   "cell_type": "code",
   "execution_count": 114,
   "metadata": {
    "scrolled": false
   },
   "outputs": [
    {
     "data": {
      "text/plain": [
       "OneVsRestClassifier(estimator=XGBClassifier(base_score=0.5, booster='gbtree', colsample_bylevel=1,\n",
       "       colsample_bynode=1, colsample_bytree=1, gamma=0, learning_rate=0.1,\n",
       "       max_delta_step=0, max_depth=5, min_child_weight=1, missing=None,\n",
       "       n_estimators=300, n_jobs=1, nthread=None, num_class=21,\n",
       "       objective='multi:softprob', random_state=0, reg_alpha=0,\n",
       "       reg_lambda=1, scale_pos_weight=1, seed=None, silent=None,\n",
       "       subsample=1, verbosity=2),\n",
       "          n_jobs=4)"
      ]
     },
     "execution_count": 114,
     "metadata": {},
     "output_type": "execute_result"
    }
   ],
   "source": [
    "# Training Gradient Boosted Tree classifier with best parameters found using above Random search\n",
    "xgb_clf = XGBClassifier(learning_rate=0.1, n_estimators=300, max_depth=5, verbosity=2, objective='multi:softprob', num_class=21)\n",
    "onevsrest_clf = OneVsRestClassifier(xgb_clf, n_jobs=4)\n",
    "onevsrest_clf.fit(X_train, y_train)"
   ]
  },
  {
   "cell_type": "code",
   "execution_count": 115,
   "metadata": {},
   "outputs": [],
   "source": [
    "# Predicting over the Test Dataset using trained XgBoost model\n",
    "preds_xgb = onevsrest_clf.predict_proba(X_test)"
   ]
  },
  {
   "cell_type": "code",
   "execution_count": 116,
   "metadata": {},
   "outputs": [
    {
     "data": {
      "text/plain": [
       "OneVsRestClassifier(estimator=XGBRFClassifier(base_score=0.5, colsample_bylevel=1, colsample_bynode=0.8,\n",
       "        colsample_bytree=1, gamma=0, learning_rate=0.1, max_delta_step=0,\n",
       "        max_depth=5, min_child_weight=1, missing=None, n_estimators=300,\n",
       "        n_jobs=1, nthread=None, num_class=21, objective='multi:softprob',\n",
       "        random_state=0, reg_alpha=0, reg_lambda=1, scale_pos_weight=1,\n",
       "        seed=None, silent=None, subsample=0.8, verbosity=2),\n",
       "          n_jobs=4)"
      ]
     },
     "execution_count": 116,
     "metadata": {},
     "output_type": "execute_result"
    }
   ],
   "source": [
    "# Training Random Forest classifier with best parameters found using above Random search\n",
    "xgb_rf_clf = XGBRFClassifier(learning_rate=0.1, n_estimators=300, max_depth=5, verbosity=2, objective='multi:softprob', num_class=21)\n",
    "onevsrest_rf_clf = OneVsRestClassifier(xgb_rf_clf, n_jobs=4)\n",
    "onevsrest_rf_clf.fit(X_train, y_train)"
   ]
  },
  {
   "cell_type": "code",
   "execution_count": 117,
   "metadata": {},
   "outputs": [],
   "source": [
    "# Predicting over the Test Dataset using trained Random Forest model\n",
    "preds_rf = onevsrest_rf_clf.predict_proba(X_test)"
   ]
  },
  {
   "cell_type": "markdown",
   "metadata": {},
   "source": [
    "### Below I have tried Naive Bayes - Support Vector Machines"
   ]
  },
  {
   "cell_type": "code",
   "execution_count": 130,
   "metadata": {},
   "outputs": [],
   "source": [
    "# This is the Naive-Bayes basic equation\n",
    "def pr(y_i, y):\n",
    "    p = X_train[y==y_i].sum(0)\n",
    "    return (p+1) / ((y==y_i).sum()+1)\n",
    "\n",
    "def get_mdl(y):\n",
    "    r = np.log(pr(1,y) / pr(0,y))\n",
    "    m = LogisticRegression(C=4, dual=True)\n",
    "    x_nb = X_train.multiply(r)\n",
    "    return m.fit(x_nb, y), r"
   ]
  },
  {
   "cell_type": "code",
   "execution_count": 131,
   "metadata": {
    "scrolled": false
   },
   "outputs": [
    {
     "name": "stdout",
     "output_type": "stream",
     "text": [
      "fit 0\n"
     ]
    },
    {
     "ename": "AttributeError",
     "evalue": "'numpy.ndarray' object has no attribute 'multiply'",
     "output_type": "error",
     "traceback": [
      "\u001b[1;31m---------------------------------------------------------------------------\u001b[0m",
      "\u001b[1;31mAttributeError\u001b[0m                            Traceback (most recent call last)",
      "\u001b[1;32m<ipython-input-131-dc29b0d888df>\u001b[0m in \u001b[0;36m<module>\u001b[1;34m()\u001b[0m\n\u001b[0;32m      4\u001b[0m \u001b[1;32mfor\u001b[0m \u001b[0mi\u001b[0m \u001b[1;32min\u001b[0m \u001b[0mrange\u001b[0m\u001b[1;33m(\u001b[0m\u001b[1;36m21\u001b[0m\u001b[1;33m)\u001b[0m\u001b[1;33m:\u001b[0m\u001b[1;33m\u001b[0m\u001b[0m\n\u001b[0;32m      5\u001b[0m     \u001b[0mprint\u001b[0m \u001b[1;33m(\u001b[0m\u001b[1;34m'fit '\u001b[0m\u001b[1;33m+\u001b[0m\u001b[0mstr\u001b[0m\u001b[1;33m(\u001b[0m\u001b[0mi\u001b[0m\u001b[1;33m)\u001b[0m\u001b[1;33m)\u001b[0m\u001b[1;33m\u001b[0m\u001b[0m\n\u001b[1;32m----> 6\u001b[1;33m     \u001b[0mm\u001b[0m\u001b[1;33m,\u001b[0m \u001b[0mr\u001b[0m \u001b[1;33m=\u001b[0m \u001b[0mget_mdl\u001b[0m\u001b[1;33m(\u001b[0m\u001b[0my_train\u001b[0m\u001b[1;33m[\u001b[0m\u001b[1;33m:\u001b[0m\u001b[1;33m,\u001b[0m \u001b[0mi\u001b[0m\u001b[1;33m]\u001b[0m\u001b[1;33m)\u001b[0m\u001b[1;33m\u001b[0m\u001b[0m\n\u001b[0m\u001b[0;32m      7\u001b[0m     \u001b[0mnbsvm_preds\u001b[0m\u001b[1;33m[\u001b[0m\u001b[1;33m:\u001b[0m\u001b[1;33m,\u001b[0m \u001b[0mi\u001b[0m\u001b[1;33m]\u001b[0m \u001b[1;33m=\u001b[0m \u001b[0mm\u001b[0m\u001b[1;33m.\u001b[0m\u001b[0mpredict_proba\u001b[0m\u001b[1;33m(\u001b[0m\u001b[0mX_test\u001b[0m\u001b[1;33m.\u001b[0m\u001b[0mmultiply\u001b[0m\u001b[1;33m(\u001b[0m\u001b[0mr\u001b[0m\u001b[1;33m)\u001b[0m\u001b[1;33m)\u001b[0m\u001b[1;33m[\u001b[0m\u001b[1;33m:\u001b[0m\u001b[1;33m,\u001b[0m \u001b[1;36m1\u001b[0m\u001b[1;33m]\u001b[0m\u001b[1;33m\u001b[0m\u001b[0m\n",
      "\u001b[1;32m<ipython-input-130-1703693e2334>\u001b[0m in \u001b[0;36mget_mdl\u001b[1;34m(y)\u001b[0m\n\u001b[0;32m      7\u001b[0m     \u001b[0mr\u001b[0m \u001b[1;33m=\u001b[0m \u001b[0mnp\u001b[0m\u001b[1;33m.\u001b[0m\u001b[0mlog\u001b[0m\u001b[1;33m(\u001b[0m\u001b[0mpr\u001b[0m\u001b[1;33m(\u001b[0m\u001b[1;36m1\u001b[0m\u001b[1;33m,\u001b[0m\u001b[0my\u001b[0m\u001b[1;33m)\u001b[0m \u001b[1;33m/\u001b[0m \u001b[0mpr\u001b[0m\u001b[1;33m(\u001b[0m\u001b[1;36m0\u001b[0m\u001b[1;33m,\u001b[0m\u001b[0my\u001b[0m\u001b[1;33m)\u001b[0m\u001b[1;33m)\u001b[0m\u001b[1;33m\u001b[0m\u001b[0m\n\u001b[0;32m      8\u001b[0m     \u001b[0mm\u001b[0m \u001b[1;33m=\u001b[0m \u001b[0mLogisticRegression\u001b[0m\u001b[1;33m(\u001b[0m\u001b[0mC\u001b[0m\u001b[1;33m=\u001b[0m\u001b[1;36m4\u001b[0m\u001b[1;33m,\u001b[0m \u001b[0mdual\u001b[0m\u001b[1;33m=\u001b[0m\u001b[1;32mTrue\u001b[0m\u001b[1;33m)\u001b[0m\u001b[1;33m\u001b[0m\u001b[0m\n\u001b[1;32m----> 9\u001b[1;33m     \u001b[0mx_nb\u001b[0m \u001b[1;33m=\u001b[0m \u001b[0mX_train\u001b[0m\u001b[1;33m.\u001b[0m\u001b[0mmultiply\u001b[0m\u001b[1;33m(\u001b[0m\u001b[0mr\u001b[0m\u001b[1;33m)\u001b[0m\u001b[1;33m\u001b[0m\u001b[0m\n\u001b[0m\u001b[0;32m     10\u001b[0m     \u001b[1;32mreturn\u001b[0m \u001b[0mm\u001b[0m\u001b[1;33m.\u001b[0m\u001b[0mfit\u001b[0m\u001b[1;33m(\u001b[0m\u001b[0mx_nb\u001b[0m\u001b[1;33m,\u001b[0m \u001b[0my\u001b[0m\u001b[1;33m)\u001b[0m\u001b[1;33m,\u001b[0m \u001b[0mr\u001b[0m\u001b[1;33m\u001b[0m\u001b[0m\n",
      "\u001b[1;31mAttributeError\u001b[0m: 'numpy.ndarray' object has no attribute 'multiply'"
     ]
    }
   ],
   "source": [
    "# We fit each label one at a time\n",
    "nbsvm_preds = np.zeros((1776, 21))\n",
    "\n",
    "for i in range(21):\n",
    "    print ('fit '+str(i))\n",
    "    m, r = get_mdl(y_train[:, i])\n",
    "    nbsvm_preds[:, i] = m.predict_proba(X_test.multiply(r))[:, 1]"
   ]
  },
  {
   "cell_type": "markdown",
   "metadata": {},
   "source": [
    "### Below I have prepared a Keras Bidirectional LSTM model. All the hyper-parameters, embedding length of tokens, input size for each sentence, layer size, different types of layers like 1D Convolution with/without LSTM were tweaked manually. But I still found a normal Bidirectional LSTM model working best for this problem. I did not use pre-trained embeddings because generally they don't work well in case of small datasets, pertaining to the fact that the common tokens turn out to be very less, which reduces the performance further."
   ]
  },
  {
   "cell_type": "code",
   "execution_count": 119,
   "metadata": {},
   "outputs": [
    {
     "name": "stdout",
     "output_type": "stream",
     "text": [
      "(4224, 200) (1776, 200)\n"
     ]
    }
   ],
   "source": [
    "keras_tok = text.Tokenizer()\n",
    "keras_tok.fit_on_texts(all_text)\n",
    "new_all_texts = keras_tok.texts_to_sequences(all_text)\n",
    "X = sequence.pad_sequences(new_all_texts, 200)\n",
    "X_train = X[:len(tr_titles), :]\n",
    "X_test = X[len(tr_titles):, :]\n",
    "print (X_train.shape, X_test.shape)"
   ]
  },
  {
   "cell_type": "code",
   "execution_count": 120,
   "metadata": {},
   "outputs": [
    {
     "data": {
      "text/plain": [
       "10722"
      ]
     },
     "execution_count": 120,
     "metadata": {},
     "output_type": "execute_result"
    }
   ],
   "source": [
    "max_features = len(keras_tok.word_counts)\n",
    "embed_size = 100\n",
    "max_features"
   ]
  },
  {
   "cell_type": "code",
   "execution_count": 123,
   "metadata": {},
   "outputs": [
    {
     "name": "stdout",
     "output_type": "stream",
     "text": [
      "(3801, 200) (3801, 21) (423, 200) (423, 21)\n"
     ]
    }
   ],
   "source": [
    "train_idx = random.sample([i for i in range(4224)], int(0.9*4224))\n",
    "valid_idx = list(set([i for i in range(4224)]) - set(train_idx))\n",
    "\n",
    "X_tr = X_train[train_idx, :]\n",
    "y_tr = y_train[train_idx, :]\n",
    "X_val = X_train[valid_idx, :]\n",
    "y_val = y_train[valid_idx, :]\n",
    "\n",
    "print (X_tr.shape, y_tr.shape, X_val.shape, y_val.shape)"
   ]
  },
  {
   "cell_type": "code",
   "execution_count": 124,
   "metadata": {},
   "outputs": [
    {
     "name": "stderr",
     "output_type": "stream",
     "text": [
      "WARNING: Logging before flag parsing goes to stderr.\n",
      "W0811 23:40:32.845762 12000 deprecation_wrapper.py:119] From C:\\ProgramData\\Anaconda3\\lib\\site-packages\\keras\\backend\\tensorflow_backend.py:74: The name tf.get_default_graph is deprecated. Please use tf.compat.v1.get_default_graph instead.\n",
      "\n",
      "W0811 23:40:32.872495 12000 deprecation_wrapper.py:119] From C:\\ProgramData\\Anaconda3\\lib\\site-packages\\keras\\backend\\tensorflow_backend.py:517: The name tf.placeholder is deprecated. Please use tf.compat.v1.placeholder instead.\n",
      "\n",
      "W0811 23:40:32.880112 12000 deprecation_wrapper.py:119] From C:\\ProgramData\\Anaconda3\\lib\\site-packages\\keras\\backend\\tensorflow_backend.py:4138: The name tf.random_uniform is deprecated. Please use tf.random.uniform instead.\n",
      "\n",
      "W0811 23:40:33.135438 12000 deprecation_wrapper.py:119] From C:\\ProgramData\\Anaconda3\\lib\\site-packages\\keras\\backend\\tensorflow_backend.py:133: The name tf.placeholder_with_default is deprecated. Please use tf.compat.v1.placeholder_with_default instead.\n",
      "\n",
      "W0811 23:40:33.149546 12000 deprecation.py:506] From C:\\ProgramData\\Anaconda3\\lib\\site-packages\\keras\\backend\\tensorflow_backend.py:3445: calling dropout (from tensorflow.python.ops.nn_ops) with keep_prob is deprecated and will be removed in a future version.\n",
      "Instructions for updating:\n",
      "Please use `rate` instead of `keep_prob`. Rate should be set to `rate = 1 - keep_prob`.\n"
     ]
    },
    {
     "name": "stdout",
     "output_type": "stream",
     "text": [
      "_________________________________________________________________\n",
      "Layer (type)                 Output Shape              Param #   \n",
      "=================================================================\n",
      "input_1 (InputLayer)         (None, 200)               0         \n",
      "_________________________________________________________________\n",
      "embedding_1 (Embedding)      (None, 200, 100)          1072300   \n",
      "_________________________________________________________________\n",
      "bidirectional_1 (Bidirection (None, 200, 128)          84480     \n",
      "_________________________________________________________________\n",
      "global_average_pooling1d_1 ( (None, 128)               0         \n",
      "_________________________________________________________________\n",
      "dense_1 (Dense)              (None, 64)                8256      \n",
      "_________________________________________________________________\n",
      "dense_2 (Dense)              (None, 21)                1365      \n",
      "=================================================================\n",
      "Total params: 1,166,401\n",
      "Trainable params: 1,166,401\n",
      "Non-trainable params: 0\n",
      "_________________________________________________________________\n"
     ]
    }
   ],
   "source": [
    "inp = Input((200,))\n",
    "embed = Embedding(max_features+1, embed_size, input_length=200)(inp)\n",
    "lstm = Bidirectional(LSTM(64, return_sequences=True, dropout=0.2, recurrent_dropout=0.2))(embed)\n",
    "avg_pool = GlobalAveragePooling1D()(lstm)\n",
    "dense = Dense(64, activation='relu')(avg_pool)\n",
    "drop = Dropout(0.1)(dense)\n",
    "out = Dense(21, activation='sigmoid')(dense)\n",
    "\n",
    "lstm_model = Model(inp, out)\n",
    "lstm_model.summary()"
   ]
  },
  {
   "cell_type": "code",
   "execution_count": 125,
   "metadata": {},
   "outputs": [],
   "source": [
    "def top5(y_true, y_pred):\n",
    "    return top_k_categorical_accuracy(y_true, y_pred, k=5)"
   ]
  },
  {
   "cell_type": "code",
   "execution_count": 126,
   "metadata": {},
   "outputs": [
    {
     "name": "stderr",
     "output_type": "stream",
     "text": [
      "W0811 23:40:56.492053 12000 deprecation_wrapper.py:119] From C:\\ProgramData\\Anaconda3\\lib\\site-packages\\keras\\optimizers.py:790: The name tf.train.Optimizer is deprecated. Please use tf.compat.v1.train.Optimizer instead.\n",
      "\n",
      "W0811 23:40:56.521557 12000 deprecation_wrapper.py:119] From C:\\ProgramData\\Anaconda3\\lib\\site-packages\\keras\\backend\\tensorflow_backend.py:3376: The name tf.log is deprecated. Please use tf.math.log instead.\n",
      "\n",
      "W0811 23:40:56.536788 12000 deprecation.py:323] From C:\\ProgramData\\Anaconda3\\lib\\site-packages\\tensorflow\\python\\ops\\nn_impl.py:180: add_dispatch_support.<locals>.wrapper (from tensorflow.python.ops.array_ops) is deprecated and will be removed in a future version.\n",
      "Instructions for updating:\n",
      "Use tf.where in 2.0, which has the same broadcast rule as np.where\n"
     ]
    }
   ],
   "source": [
    "lstm_model.compile(optimizer=Adam(lr=0.001), loss='binary_crossentropy', metrics=[top5])"
   ]
  },
  {
   "cell_type": "code",
   "execution_count": 127,
   "metadata": {},
   "outputs": [
    {
     "name": "stdout",
     "output_type": "stream",
     "text": [
      "Train on 3801 samples, validate on 423 samples\n",
      "Epoch 1/50\n",
      "3801/3801 [==============================] - 81s 21ms/step - loss: 0.3625 - top5: 0.3773 - val_loss: 0.2134 - val_top5: 0.6596\n",
      "Epoch 2/50\n",
      "3801/3801 [==============================] - 75s 20ms/step - loss: 0.2134 - top5: 0.6514 - val_loss: 0.2129 - val_top5: 0.6147\n",
      "Epoch 3/50\n",
      "3801/3801 [==============================] - 70s 18ms/step - loss: 0.2132 - top5: 0.6354 - val_loss: 0.2130 - val_top5: 0.6619\n",
      "Epoch 4/50\n",
      "3801/3801 [==============================] - 80s 21ms/step - loss: 0.2127 - top5: 0.6464 - val_loss: 0.2121 - val_top5: 0.6147\n",
      "Epoch 5/50\n",
      "3801/3801 [==============================] - 80s 21ms/step - loss: 0.2120 - top5: 0.6456 - val_loss: 0.2106 - val_top5: 0.6619\n",
      "Epoch 6/50\n",
      "3801/3801 [==============================] - 78s 21ms/step - loss: 0.2107 - top5: 0.6627 - val_loss: 0.2112 - val_top5: 0.6336\n",
      "Epoch 7/50\n",
      "3801/3801 [==============================] - 76s 20ms/step - loss: 0.2082 - top5: 0.6625 - val_loss: 0.2086 - val_top5: 0.6619\n",
      "Epoch 8/50\n",
      "3801/3801 [==============================] - 78s 21ms/step - loss: 0.2047 - top5: 0.6922 - val_loss: 0.2075 - val_top5: 0.6359\n",
      "Epoch 9/50\n",
      "3801/3801 [==============================] - 75s 20ms/step - loss: 0.1988 - top5: 0.7153 - val_loss: 0.2070 - val_top5: 0.6619\n",
      "Epoch 10/50\n",
      "3801/3801 [==============================] - 73s 19ms/step - loss: 0.1998 - top5: 0.7117 - val_loss: 0.2062 - val_top5: 0.6690\n",
      "Epoch 11/50\n",
      "3801/3801 [==============================] - 79s 21ms/step - loss: 0.1973 - top5: 0.7159 - val_loss: 0.2077 - val_top5: 0.6336\n",
      "Epoch 12/50\n",
      "3801/3801 [==============================] - 79s 21ms/step - loss: 0.1951 - top5: 0.7261 - val_loss: 0.2051 - val_top5: 0.6643\n",
      "Epoch 13/50\n",
      "3801/3801 [==============================] - 80s 21ms/step - loss: 0.1940 - top5: 0.7377 - val_loss: 0.2054 - val_top5: 0.6879\n",
      "Epoch 14/50\n",
      "3801/3801 [==============================] - 87s 23ms/step - loss: 0.1918 - top5: 0.7432 - val_loss: 0.2004 - val_top5: 0.6832\n",
      "Epoch 15/50\n",
      "3801/3801 [==============================] - 89s 23ms/step - loss: 0.1889 - top5: 0.7556 - val_loss: 0.2034 - val_top5: 0.6879\n",
      "Epoch 16/50\n",
      "3801/3801 [==============================] - 84s 22ms/step - loss: 0.1888 - top5: 0.7545 - val_loss: 0.1968 - val_top5: 0.7163\n",
      "Epoch 17/50\n",
      "3801/3801 [==============================] - 82s 22ms/step - loss: 0.1849 - top5: 0.7616 - val_loss: 0.1931 - val_top5: 0.6974\n",
      "Epoch 18/50\n",
      "3801/3801 [==============================] - 82s 22ms/step - loss: 0.1827 - top5: 0.7701 - val_loss: 0.1930 - val_top5: 0.7139\n",
      "Epoch 19/50\n",
      "3801/3801 [==============================] - 77s 20ms/step - loss: 0.1805 - top5: 0.7806 - val_loss: 0.1925 - val_top5: 0.7069\n",
      "Epoch 20/50\n",
      "3801/3801 [==============================] - 81s 21ms/step - loss: 0.1790 - top5: 0.7798 - val_loss: 0.1898 - val_top5: 0.7305\n",
      "Epoch 21/50\n",
      "3801/3801 [==============================] - 87s 23ms/step - loss: 0.1791 - top5: 0.7795 - val_loss: 0.1958 - val_top5: 0.6785\n",
      "Epoch 22/50\n",
      "3801/3801 [==============================] - 85s 22ms/step - loss: 0.1763 - top5: 0.7916 - val_loss: 0.1963 - val_top5: 0.7045\n",
      "Epoch 23/50\n",
      "3801/3801 [==============================] - 84s 22ms/step - loss: 0.1770 - top5: 0.7924 - val_loss: 0.1884 - val_top5: 0.7565\n",
      "Epoch 24/50\n",
      "3801/3801 [==============================] - 88s 23ms/step - loss: 0.1730 - top5: 0.7998 - val_loss: 0.1859 - val_top5: 0.7281\n",
      "Epoch 25/50\n",
      "3801/3801 [==============================] - 82s 21ms/step - loss: 0.1708 - top5: 0.8122 - val_loss: 0.1829 - val_top5: 0.7470\n",
      "Epoch 26/50\n",
      "3801/3801 [==============================] - 84s 22ms/step - loss: 0.1674 - top5: 0.8172 - val_loss: 0.1843 - val_top5: 0.7329\n",
      "Epoch 27/50\n",
      "3801/3801 [==============================] - 86s 23ms/step - loss: 0.1652 - top5: 0.8248 - val_loss: 0.1846 - val_top5: 0.7400\n",
      "Epoch 28/50\n",
      "3801/3801 [==============================] - 81s 21ms/step - loss: 0.1635 - top5: 0.8300 - val_loss: 0.1823 - val_top5: 0.7352\n",
      "Epoch 29/50\n",
      "3801/3801 [==============================] - 84s 22ms/step - loss: 0.1611 - top5: 0.8421 - val_loss: 0.1802 - val_top5: 0.7636\n",
      "Epoch 30/50\n",
      " 576/3801 [===>..........................] - ETA: 1:17 - loss: 0.1592 - top5: 0.8472"
     ]
    },
    {
     "ename": "KeyboardInterrupt",
     "evalue": "",
     "output_type": "error",
     "traceback": [
      "\u001b[1;31m---------------------------------------------------------------------------\u001b[0m",
      "\u001b[1;31mKeyboardInterrupt\u001b[0m                         Traceback (most recent call last)",
      "\u001b[1;32m<ipython-input-127-15afae7b2a2b>\u001b[0m in \u001b[0;36m<module>\u001b[1;34m()\u001b[0m\n\u001b[1;32m----> 1\u001b[1;33m \u001b[0mhist\u001b[0m \u001b[1;33m=\u001b[0m \u001b[0mlstm_model\u001b[0m\u001b[1;33m.\u001b[0m\u001b[0mfit\u001b[0m\u001b[1;33m(\u001b[0m\u001b[0mX_tr\u001b[0m\u001b[1;33m,\u001b[0m \u001b[0my_tr\u001b[0m\u001b[1;33m,\u001b[0m \u001b[0mbatch_size\u001b[0m\u001b[1;33m=\u001b[0m\u001b[1;36m64\u001b[0m\u001b[1;33m,\u001b[0m \u001b[0mepochs\u001b[0m\u001b[1;33m=\u001b[0m\u001b[1;36m50\u001b[0m\u001b[1;33m,\u001b[0m \u001b[0mverbose\u001b[0m\u001b[1;33m=\u001b[0m\u001b[1;36m1\u001b[0m\u001b[1;33m,\u001b[0m \u001b[0mvalidation_data\u001b[0m\u001b[1;33m=\u001b[0m\u001b[1;33m(\u001b[0m\u001b[0mX_val\u001b[0m\u001b[1;33m,\u001b[0m \u001b[0my_val\u001b[0m\u001b[1;33m)\u001b[0m\u001b[1;33m,\u001b[0m \u001b[0mcallbacks\u001b[0m\u001b[1;33m=\u001b[0m\u001b[1;33m[\u001b[0m\u001b[0mReduceLROnPlateau\u001b[0m\u001b[1;33m(\u001b[0m\u001b[0mfactor\u001b[0m\u001b[1;33m=\u001b[0m\u001b[1;36m0.1\u001b[0m\u001b[1;33m,\u001b[0m \u001b[0mpatience\u001b[0m\u001b[1;33m=\u001b[0m\u001b[1;36m3\u001b[0m\u001b[1;33m,\u001b[0m \u001b[0mverbose\u001b[0m\u001b[1;33m=\u001b[0m\u001b[1;36m1\u001b[0m\u001b[1;33m,\u001b[0m \u001b[0mmin_lr\u001b[0m\u001b[1;33m=\u001b[0m\u001b[1;36m0.0000001\u001b[0m\u001b[1;33m)\u001b[0m\u001b[1;33m,\u001b[0m \u001b[0mEarlyStopping\u001b[0m\u001b[1;33m(\u001b[0m\u001b[0mpatience\u001b[0m\u001b[1;33m=\u001b[0m\u001b[1;36m10\u001b[0m\u001b[1;33m,\u001b[0m \u001b[0mverbose\u001b[0m\u001b[1;33m=\u001b[0m\u001b[1;36m1\u001b[0m\u001b[1;33m,\u001b[0m \u001b[0mrestore_best_weights\u001b[0m\u001b[1;33m=\u001b[0m\u001b[1;32mTrue\u001b[0m\u001b[1;33m)\u001b[0m\u001b[1;33m]\u001b[0m\u001b[1;33m)\u001b[0m\u001b[1;33m\u001b[0m\u001b[0m\n\u001b[0m",
      "\u001b[1;32mC:\\ProgramData\\Anaconda3\\lib\\site-packages\\keras\\engine\\training.py\u001b[0m in \u001b[0;36mfit\u001b[1;34m(self, x, y, batch_size, epochs, verbose, callbacks, validation_split, validation_data, shuffle, class_weight, sample_weight, initial_epoch, steps_per_epoch, validation_steps, **kwargs)\u001b[0m\n\u001b[0;32m   1037\u001b[0m                                         \u001b[0minitial_epoch\u001b[0m\u001b[1;33m=\u001b[0m\u001b[0minitial_epoch\u001b[0m\u001b[1;33m,\u001b[0m\u001b[1;33m\u001b[0m\u001b[0m\n\u001b[0;32m   1038\u001b[0m                                         \u001b[0msteps_per_epoch\u001b[0m\u001b[1;33m=\u001b[0m\u001b[0msteps_per_epoch\u001b[0m\u001b[1;33m,\u001b[0m\u001b[1;33m\u001b[0m\u001b[0m\n\u001b[1;32m-> 1039\u001b[1;33m                                         validation_steps=validation_steps)\n\u001b[0m\u001b[0;32m   1040\u001b[0m \u001b[1;33m\u001b[0m\u001b[0m\n\u001b[0;32m   1041\u001b[0m     def evaluate(self, x=None, y=None,\n",
      "\u001b[1;32mC:\\ProgramData\\Anaconda3\\lib\\site-packages\\keras\\engine\\training_arrays.py\u001b[0m in \u001b[0;36mfit_loop\u001b[1;34m(model, f, ins, out_labels, batch_size, epochs, verbose, callbacks, val_f, val_ins, shuffle, callback_metrics, initial_epoch, steps_per_epoch, validation_steps)\u001b[0m\n\u001b[0;32m    197\u001b[0m                     \u001b[0mins_batch\u001b[0m\u001b[1;33m[\u001b[0m\u001b[0mi\u001b[0m\u001b[1;33m]\u001b[0m \u001b[1;33m=\u001b[0m \u001b[0mins_batch\u001b[0m\u001b[1;33m[\u001b[0m\u001b[0mi\u001b[0m\u001b[1;33m]\u001b[0m\u001b[1;33m.\u001b[0m\u001b[0mtoarray\u001b[0m\u001b[1;33m(\u001b[0m\u001b[1;33m)\u001b[0m\u001b[1;33m\u001b[0m\u001b[0m\n\u001b[0;32m    198\u001b[0m \u001b[1;33m\u001b[0m\u001b[0m\n\u001b[1;32m--> 199\u001b[1;33m                 \u001b[0mouts\u001b[0m \u001b[1;33m=\u001b[0m \u001b[0mf\u001b[0m\u001b[1;33m(\u001b[0m\u001b[0mins_batch\u001b[0m\u001b[1;33m)\u001b[0m\u001b[1;33m\u001b[0m\u001b[0m\n\u001b[0m\u001b[0;32m    200\u001b[0m                 \u001b[0mouts\u001b[0m \u001b[1;33m=\u001b[0m \u001b[0mto_list\u001b[0m\u001b[1;33m(\u001b[0m\u001b[0mouts\u001b[0m\u001b[1;33m)\u001b[0m\u001b[1;33m\u001b[0m\u001b[0m\n\u001b[0;32m    201\u001b[0m                 \u001b[1;32mfor\u001b[0m \u001b[0ml\u001b[0m\u001b[1;33m,\u001b[0m \u001b[0mo\u001b[0m \u001b[1;32min\u001b[0m \u001b[0mzip\u001b[0m\u001b[1;33m(\u001b[0m\u001b[0mout_labels\u001b[0m\u001b[1;33m,\u001b[0m \u001b[0mouts\u001b[0m\u001b[1;33m)\u001b[0m\u001b[1;33m:\u001b[0m\u001b[1;33m\u001b[0m\u001b[0m\n",
      "\u001b[1;32mC:\\ProgramData\\Anaconda3\\lib\\site-packages\\keras\\backend\\tensorflow_backend.py\u001b[0m in \u001b[0;36m__call__\u001b[1;34m(self, inputs)\u001b[0m\n\u001b[0;32m   2713\u001b[0m                 \u001b[1;32mreturn\u001b[0m \u001b[0mself\u001b[0m\u001b[1;33m.\u001b[0m\u001b[0m_legacy_call\u001b[0m\u001b[1;33m(\u001b[0m\u001b[0minputs\u001b[0m\u001b[1;33m)\u001b[0m\u001b[1;33m\u001b[0m\u001b[0m\n\u001b[0;32m   2714\u001b[0m \u001b[1;33m\u001b[0m\u001b[0m\n\u001b[1;32m-> 2715\u001b[1;33m             \u001b[1;32mreturn\u001b[0m \u001b[0mself\u001b[0m\u001b[1;33m.\u001b[0m\u001b[0m_call\u001b[0m\u001b[1;33m(\u001b[0m\u001b[0minputs\u001b[0m\u001b[1;33m)\u001b[0m\u001b[1;33m\u001b[0m\u001b[0m\n\u001b[0m\u001b[0;32m   2716\u001b[0m         \u001b[1;32melse\u001b[0m\u001b[1;33m:\u001b[0m\u001b[1;33m\u001b[0m\u001b[0m\n\u001b[0;32m   2717\u001b[0m             \u001b[1;32mif\u001b[0m \u001b[0mpy_any\u001b[0m\u001b[1;33m(\u001b[0m\u001b[0mis_tensor\u001b[0m\u001b[1;33m(\u001b[0m\u001b[0mx\u001b[0m\u001b[1;33m)\u001b[0m \u001b[1;32mfor\u001b[0m \u001b[0mx\u001b[0m \u001b[1;32min\u001b[0m \u001b[0minputs\u001b[0m\u001b[1;33m)\u001b[0m\u001b[1;33m:\u001b[0m\u001b[1;33m\u001b[0m\u001b[0m\n",
      "\u001b[1;32mC:\\ProgramData\\Anaconda3\\lib\\site-packages\\keras\\backend\\tensorflow_backend.py\u001b[0m in \u001b[0;36m_call\u001b[1;34m(self, inputs)\u001b[0m\n\u001b[0;32m   2673\u001b[0m             \u001b[0mfetched\u001b[0m \u001b[1;33m=\u001b[0m \u001b[0mself\u001b[0m\u001b[1;33m.\u001b[0m\u001b[0m_callable_fn\u001b[0m\u001b[1;33m(\u001b[0m\u001b[1;33m*\u001b[0m\u001b[0marray_vals\u001b[0m\u001b[1;33m,\u001b[0m \u001b[0mrun_metadata\u001b[0m\u001b[1;33m=\u001b[0m\u001b[0mself\u001b[0m\u001b[1;33m.\u001b[0m\u001b[0mrun_metadata\u001b[0m\u001b[1;33m)\u001b[0m\u001b[1;33m\u001b[0m\u001b[0m\n\u001b[0;32m   2674\u001b[0m         \u001b[1;32melse\u001b[0m\u001b[1;33m:\u001b[0m\u001b[1;33m\u001b[0m\u001b[0m\n\u001b[1;32m-> 2675\u001b[1;33m             \u001b[0mfetched\u001b[0m \u001b[1;33m=\u001b[0m \u001b[0mself\u001b[0m\u001b[1;33m.\u001b[0m\u001b[0m_callable_fn\u001b[0m\u001b[1;33m(\u001b[0m\u001b[1;33m*\u001b[0m\u001b[0marray_vals\u001b[0m\u001b[1;33m)\u001b[0m\u001b[1;33m\u001b[0m\u001b[0m\n\u001b[0m\u001b[0;32m   2676\u001b[0m         \u001b[1;32mreturn\u001b[0m \u001b[0mfetched\u001b[0m\u001b[1;33m[\u001b[0m\u001b[1;33m:\u001b[0m\u001b[0mlen\u001b[0m\u001b[1;33m(\u001b[0m\u001b[0mself\u001b[0m\u001b[1;33m.\u001b[0m\u001b[0moutputs\u001b[0m\u001b[1;33m)\u001b[0m\u001b[1;33m]\u001b[0m\u001b[1;33m\u001b[0m\u001b[0m\n\u001b[0;32m   2677\u001b[0m \u001b[1;33m\u001b[0m\u001b[0m\n",
      "\u001b[1;32mC:\\ProgramData\\Anaconda3\\lib\\site-packages\\tensorflow\\python\\client\\session.py\u001b[0m in \u001b[0;36m__call__\u001b[1;34m(self, *args, **kwargs)\u001b[0m\n\u001b[0;32m   1456\u001b[0m         ret = tf_session.TF_SessionRunCallable(self._session._session,\n\u001b[0;32m   1457\u001b[0m                                                \u001b[0mself\u001b[0m\u001b[1;33m.\u001b[0m\u001b[0m_handle\u001b[0m\u001b[1;33m,\u001b[0m \u001b[0margs\u001b[0m\u001b[1;33m,\u001b[0m\u001b[1;33m\u001b[0m\u001b[0m\n\u001b[1;32m-> 1458\u001b[1;33m                                                run_metadata_ptr)\n\u001b[0m\u001b[0;32m   1459\u001b[0m         \u001b[1;32mif\u001b[0m \u001b[0mrun_metadata\u001b[0m\u001b[1;33m:\u001b[0m\u001b[1;33m\u001b[0m\u001b[0m\n\u001b[0;32m   1460\u001b[0m           \u001b[0mproto_data\u001b[0m \u001b[1;33m=\u001b[0m \u001b[0mtf_session\u001b[0m\u001b[1;33m.\u001b[0m\u001b[0mTF_GetBuffer\u001b[0m\u001b[1;33m(\u001b[0m\u001b[0mrun_metadata_ptr\u001b[0m\u001b[1;33m)\u001b[0m\u001b[1;33m\u001b[0m\u001b[0m\n",
      "\u001b[1;31mKeyboardInterrupt\u001b[0m: "
     ]
    }
   ],
   "source": [
    "hist = lstm_model.fit(X_tr, y_tr, batch_size=64, epochs=50, verbose=1, validation_data=(X_val, y_val), callbacks=[ReduceLROnPlateau(factor=0.1, patience=3, verbose=1, min_lr=0.0000001), EarlyStopping(patience=10, verbose=1, restore_best_weights=True)])"
   ]
  },
  {
   "cell_type": "code",
   "execution_count": 128,
   "metadata": {},
   "outputs": [],
   "source": [
    "# Predictions for LSTM model\n",
    "lstm_preds = lstm_model.predict(X_test, batch_size=64)"
   ]
  },
  {
   "cell_type": "code",
   "execution_count": 137,
   "metadata": {},
   "outputs": [],
   "source": [
    "# Average predictions for all 4 models\n",
    "preds_avg = (preds + preds_xgb + preds_rf + lstm_preds) / 4.0\n",
    "\n",
    "#preds_geomean = (preds * preds_xgb * preds_rf * lstm_preds) ** 4.0"
   ]
  },
  {
   "cell_type": "markdown",
   "metadata": {},
   "source": [
    "### Below I prepared a helper function which prepares a submission dataframe and saves it with provided name"
   ]
  },
  {
   "cell_type": "code",
   "execution_count": 138,
   "metadata": {},
   "outputs": [],
   "source": [
    "def subm_df(preds, subm_file):\n",
    "    \n",
    "    new_preds = []\n",
    "    for i in range(len(te_idx_list)-1):\n",
    "        start_idx = te_idx_list[i]\n",
    "        end_idx = te_idx_list[i+1]\n",
    "        diff = end_idx - start_idx\n",
    "        pred_idx = preds[i].argsort()[-diff:][::-1]\n",
    "        for pred in pred_idx: new_preds.append(pred)\n",
    "        \n",
    "    test_preds = le.inverse_transform(new_preds)\n",
    "    subm_df = pd.read_csv('test.csv')\n",
    "    subm_df['topic'] = test_preds\n",
    "    subm_df.to_csv(subm_file, index=False)"
   ]
  },
  {
   "cell_type": "code",
   "execution_count": 139,
   "metadata": {},
   "outputs": [
    {
     "name": "stderr",
     "output_type": "stream",
     "text": [
      "C:\\ProgramData\\Anaconda3\\lib\\site-packages\\sklearn\\preprocessing\\label.py:151: DeprecationWarning: The truth value of an empty array is ambiguous. Returning False, but in future this will result in an error. Use `array.size > 0` to check that an array is not empty.\n",
      "  if diff:\n"
     ]
    }
   ],
   "source": [
    "subm_df(preds_geomean, 'preds_avg.csv')"
   ]
  },
  {
   "cell_type": "code",
   "execution_count": 140,
   "metadata": {},
   "outputs": [
    {
     "data": {
      "text/plain": [
       "array([[0.0259676 , 0.43909261, 0.03770643, ..., 0.02002454, 0.02000235,\n",
       "        0.01255358],\n",
       "       [0.04284434, 0.02483947, 0.01258211, ..., 0.01230513, 0.01710293,\n",
       "        0.01687884],\n",
       "       [0.04895935, 0.06284668, 0.02404781, ..., 0.03273235, 0.02678353,\n",
       "        0.01814154],\n",
       "       ...,\n",
       "       [0.5602819 , 0.60670522, 0.02127513, ..., 0.01562155, 0.06931867,\n",
       "        0.0138615 ],\n",
       "       [0.08962463, 0.03897221, 0.01520684, ..., 0.01236469, 0.02083567,\n",
       "        0.01408974],\n",
       "       [0.01930879, 0.20055215, 0.03684748, ..., 0.02019732, 0.01813376,\n",
       "        0.01376362]])"
      ]
     },
     "execution_count": 140,
     "metadata": {},
     "output_type": "execute_result"
    }
   ],
   "source": [
    "preds_avg"
   ]
  },
  {
   "cell_type": "code",
   "execution_count": null,
   "metadata": {},
   "outputs": [],
   "source": []
  }
 ],
 "metadata": {
  "kernelspec": {
   "display_name": "Python 3",
   "language": "python",
   "name": "python3"
  },
  "language_info": {
   "codemirror_mode": {
    "name": "ipython",
    "version": 3
   },
   "file_extension": ".py",
   "mimetype": "text/x-python",
   "name": "python",
   "nbconvert_exporter": "python",
   "pygments_lexer": "ipython3",
   "version": "3.6.5"
  }
 },
 "nbformat": 4,
 "nbformat_minor": 2
}
